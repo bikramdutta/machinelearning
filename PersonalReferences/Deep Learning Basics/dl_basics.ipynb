{
  "nbformat": 4,
  "nbformat_minor": 0,
  "metadata": {
    "colab": {
      "name": "dl_basics.ipynb",
      "provenance": [],
      "collapsed_sections": []
    },
    "kernelspec": {
      "name": "python3",
      "display_name": "Python 3"
    }
  },
  "cells": [
    {
      "cell_type": "code",
      "metadata": {
        "id": "F1ffcryrDXGv",
        "outputId": "03b67d3d-6ac9-477a-cdb5-f6fc46ba29ba",
        "colab": {
          "base_uri": "https://localhost:8080/",
          "height": 54
        }
      },
      "source": [
        "# Mount Google Drive\n",
        "from google.colab import drive # import drive from google colab\n",
        "\n",
        "ROOT = \"/content/drive\"     # default location for the drive\n",
        "print(ROOT)                 # print content of ROOT (Optional)\n",
        "\n",
        "drive.mount(ROOT, force_remount=True)           # we mount the google drive at /content/drive"
      ],
      "execution_count": null,
      "outputs": [
        {
          "output_type": "stream",
          "text": [
            "/content/drive\n",
            "Mounted at /content/drive\n"
          ],
          "name": "stdout"
        }
      ]
    },
    {
      "cell_type": "code",
      "metadata": {
        "id": "BzLOXKMQEP02",
        "outputId": "574d4b1b-5426-4919-fc6d-3b8d369c91d0",
        "colab": {
          "base_uri": "https://localhost:8080/",
          "height": 35
        }
      },
      "source": [
        "%cd 'drive/My Drive/Workspaces/face_mask_detection'"
      ],
      "execution_count": null,
      "outputs": [
        {
          "output_type": "stream",
          "text": [
            "/content/drive/My Drive/Workspaces/face_mask_detection\n"
          ],
          "name": "stdout"
        }
      ]
    },
    {
      "cell_type": "code",
      "metadata": {
        "id": "hJRBLxRREWyj"
      },
      "source": [
        "import tensorflow as tf\n",
        "# import handwritten digit datasets\n",
        "mnist = tf.keras.datasets.mnist \n",
        "(X_train, y_train), (X_test,y_test) = mnist.load_data()\n",
        "\n",
        "# Pixel values vary from 0-255\n",
        "# We normalize it so that it becomes easier for the NN to learn\n",
        "\n",
        "X_train = tf.keras.utils.normalize(X_train, axis = 1)\n",
        "X_test = tf.keras.utils.normalize(X_test, axis = 1)"
      ],
      "execution_count": null,
      "outputs": []
    },
    {
      "cell_type": "code",
      "metadata": {
        "id": "WFV1ndXtGKW6"
      },
      "source": [
        "model = tf.keras.models.Sequential()\n",
        "# We have images of dimensions 28x28\n",
        "# we flatten the image using layers.Flatten()\n",
        "# NOTE: we can also use numpy reshape and other methods.\n",
        "model.add(tf.keras.layers.Flatten())\n",
        "\n",
        "# we add 2 layers of NN. 128 neurons in each layer. Activation function used is ReLU.\n",
        "model.add(tf.keras.layers.Dense(128, activation=tf.nn.relu))\n",
        "model.add(tf.keras.layers.Dense(128, activation=tf.nn.relu))\n",
        "\n",
        "#we add the output layer. Each neuron in the output layer represents a single output.\n",
        "# We have 10 digits to recognize. So num_N = 10\n",
        "# We need a probability distribution so we use softmax activation function.\n",
        "model.add(tf.keras.layers.Dense(10, activation=tf.nn.softmax))\n"
      ],
      "execution_count": null,
      "outputs": []
    },
    {
      "cell_type": "code",
      "metadata": {
        "id": "_cPWroiPJtGD",
        "outputId": "c37f78a9-8a5a-4ee3-ca69-3356f95c345a",
        "colab": {
          "base_uri": "https://localhost:8080/",
          "height": 145
        }
      },
      "source": [
        "model.compile(optimizer='adam',\n",
        "              loss='sparse_categorical_crossentropy',\n",
        "              metrics=['accuracy'])\n",
        "\n",
        "model.fit(X_train, y_train, epochs = 3)"
      ],
      "execution_count": null,
      "outputs": [
        {
          "output_type": "stream",
          "text": [
            "Epoch 1/3\n",
            "1875/1875 [==============================] - 4s 2ms/step - loss: 0.2590 - accuracy: 0.9247\n",
            "Epoch 2/3\n",
            "1875/1875 [==============================] - 4s 2ms/step - loss: 0.1084 - accuracy: 0.9661\n",
            "Epoch 3/3\n",
            "1875/1875 [==============================] - 4s 2ms/step - loss: 0.0736 - accuracy: 0.9770\n"
          ],
          "name": "stdout"
        },
        {
          "output_type": "execute_result",
          "data": {
            "text/plain": [
              "<tensorflow.python.keras.callbacks.History at 0x7ff465e5ceb8>"
            ]
          },
          "metadata": {
            "tags": []
          },
          "execution_count": 15
        }
      ]
    },
    {
      "cell_type": "code",
      "metadata": {
        "id": "oa0OzL2BKf2Y",
        "outputId": "cf728c41-92f6-41bd-bce5-284d29660bdd",
        "colab": {
          "base_uri": "https://localhost:8080/",
          "height": 54
        }
      },
      "source": [
        "val_loss, val_accuracy = model.evaluate(X_test, y_test)\n",
        "print(val_loss, val_accuracy)"
      ],
      "execution_count": null,
      "outputs": [
        {
          "output_type": "stream",
          "text": [
            "313/313 [==============================] - 0s 1ms/step - loss: 0.0968 - accuracy: 0.9694\n",
            "0.09676893800497055 0.9693999886512756\n"
          ],
          "name": "stdout"
        }
      ]
    },
    {
      "cell_type": "code",
      "metadata": {
        "id": "qbPDjg2WK8Xe",
        "outputId": "e76c3636-8821-49d2-9149-026241b05b6a",
        "colab": {
          "base_uri": "https://localhost:8080/",
          "height": 401
        }
      },
      "source": [
        "model.save('number_reader_model')\n",
        "model2 = tf.keras.models.load_model('number_reader_model')\n",
        "\n",
        "#Predict method always takes a list\n",
        "pred = model2.predict([X_test])\n",
        "pred"
      ],
      "execution_count": null,
      "outputs": [
        {
          "output_type": "stream",
          "text": [
            "WARNING:tensorflow:From /usr/local/lib/python3.6/dist-packages/tensorflow/python/training/tracking/tracking.py:111: Model.state_updates (from tensorflow.python.keras.engine.training) is deprecated and will be removed in a future version.\n",
            "Instructions for updating:\n",
            "This property should not be used in TensorFlow 2.0, as updates are applied automatically.\n",
            "WARNING:tensorflow:From /usr/local/lib/python3.6/dist-packages/tensorflow/python/training/tracking/tracking.py:111: Layer.updates (from tensorflow.python.keras.engine.base_layer) is deprecated and will be removed in a future version.\n",
            "Instructions for updating:\n",
            "This property should not be used in TensorFlow 2.0, as updates are applied automatically.\n",
            "INFO:tensorflow:Assets written to: number_reader_model/assets\n"
          ],
          "name": "stdout"
        },
        {
          "output_type": "execute_result",
          "data": {
            "text/plain": [
              "array([[2.5585716e-09, 7.9423721e-09, 3.2748045e-07, ..., 9.9999094e-01,\n",
              "        1.0437523e-08, 2.5471047e-07],\n",
              "       [1.3294343e-09, 2.5139817e-03, 9.9748212e-01, ..., 4.6547484e-08,\n",
              "        3.1399392e-08, 3.1936771e-12],\n",
              "       [1.4399102e-07, 9.9989927e-01, 4.6902492e-06, ..., 4.3599539e-05,\n",
              "        4.0174127e-05, 1.8830949e-06],\n",
              "       ...,\n",
              "       [2.5915632e-08, 6.7160283e-07, 6.9365598e-08, ..., 3.1923901e-04,\n",
              "        2.9330433e-06, 3.0193391e-04],\n",
              "       [1.8659846e-05, 4.6496272e-05, 8.5363240e-08, ..., 2.8372227e-05,\n",
              "        8.6931493e-03, 3.6506078e-06],\n",
              "       [9.3340833e-07, 8.4246676e-07, 3.8977061e-07, ..., 1.9862940e-08,\n",
              "        4.4311108e-08, 1.7754259e-08]], dtype=float32)"
            ]
          },
          "metadata": {
            "tags": []
          },
          "execution_count": 18
        }
      ]
    },
    {
      "cell_type": "code",
      "metadata": {
        "id": "rwfrWBJ_LSVV",
        "outputId": "27bbe5b6-bcd3-44ff-b587-5e508074d27a",
        "colab": {
          "base_uri": "https://localhost:8080/",
          "height": 283
        }
      },
      "source": [
        "import numpy as np\n",
        "print(np.argmax(pred[65]))\n",
        "plt.imshow(X_test[65], cmap = plt.cm.binary)\n",
        "plt.show()"
      ],
      "execution_count": null,
      "outputs": [
        {
          "output_type": "stream",
          "text": [
            "4\n"
          ],
          "name": "stdout"
        },
        {
          "output_type": "display_data",
          "data": {
            "image/png": "[encoded data removed]",
            "text/plain": [
              "<Figure size 432x288 with 1 Axes>"
            ]
          },
          "metadata": {
            "tags": [],
            "needs_background": "light"
          }
        }
      ]
    },
    {
      "cell_type": "code",
      "metadata": {
        "id": "ZgwEiuuVFBVr"
      },
      "source": [
        "import matplotlib.pyplot as plt\n",
        "plt.imshow(X_train[0], cmap = plt.cm.binary)\n",
        "plt.show()"
      ],
      "execution_count": null,
      "outputs": []
    }
  ]
}