{
  "nbformat": 4,
  "nbformat_minor": 0,
  "metadata": {
    "colab": {
      "name": "nnfs0.ipynb",
      "provenance": [],
      "collapsed_sections": []
    },
    "kernelspec": {
      "name": "python3",
      "display_name": "Python 3"
    }
  },
  "cells": [
    {
      "cell_type": "code",
      "metadata": {
        "id": "wa36BuhO-sYr",
        "colab_type": "code",
        "colab": {
          "base_uri": "https://localhost:8080/",
          "height": 51
        },
        "outputId": "1f166f00-ada8-4c75-a912-33e47cf9c000"
      },
      "source": [
        "# Mount Google Drive\n",
        "from google.colab import drive # import drive from google colab\n",
        "\n",
        "ROOT = \"/content/drive\"     # default location for the drive\n",
        "print(ROOT)                 # print content of ROOT (Optional)\n",
        "\n",
        "drive.mount(ROOT, force_remount=True)           # we mount the google drive at /content/drive"
      ],
      "execution_count": null,
      "outputs": [
        {
          "output_type": "stream",
          "text": [
            "/content/drive\n",
            "Mounted at /content/drive\n"
          ],
          "name": "stdout"
        }
      ]
    },
    {
      "cell_type": "code",
      "metadata": {
        "id": "BjARurjC-79w",
        "colab_type": "code",
        "colab": {
          "base_uri": "https://localhost:8080/",
          "height": 34
        },
        "outputId": "b8872ca5-40cd-4e9e-f616-441882a55d71"
      },
      "source": [
        "%pwd\n",
        "%cd 'drive/My Drive/Workspaces/Nnfs'"
      ],
      "execution_count": null,
      "outputs": [
        {
          "output_type": "stream",
          "text": [
            "/content/drive/My Drive/Workspaces/Nnfs\n"
          ],
          "name": "stdout"
        }
      ]
    },
    {
      "cell_type": "code",
      "metadata": {
        "id": "XPjRKBDz_CaL",
        "colab_type": "code",
        "colab": {
          "base_uri": "https://localhost:8080/",
          "height": 34
        },
        "outputId": "83edccbd-f4d8-421a-f7e6-4816467b67ca"
      },
      "source": [
        "import numpy as np\n",
        "inputs = [1.2,5.1,2.1]\n",
        "weights = [3.1,2.1,8.7]\n",
        "bias = 3\n",
        "output = bias + np.sum(np.array(inputs) * np.array(weights))\n",
        "output"
      ],
      "execution_count": null,
      "outputs": [
        {
          "output_type": "execute_result",
          "data": {
            "text/plain": [
              "35.7"
            ]
          },
          "metadata": {
            "tags": []
          },
          "execution_count": 6
        }
      ]
    },
    {
      "cell_type": "code",
      "metadata": {
        "id": "mM7CkgFvAaKU",
        "colab_type": "code",
        "colab": {
          "base_uri": "https://localhost:8080/",
          "height": 34
        },
        "outputId": "0bdb1e80-ddf1-4113-c19f-7859c260a916"
      },
      "source": [
        "inputs = [1,2,3,2.5]\n",
        "weights1 = [0.2,0.8,-0.5,1.0]\n",
        "weights2 = [0.5,-0.91,0.26,-0.5]\n",
        "weights3 = [-0.26,-0.27,0.17,0.87]\n",
        "bias1 = 2\n",
        "bias2 = 3\n",
        "bias3 = 0.5\n",
        "\n",
        "output = [bias1 + np.sum(np.array(inputs) * np.array(weights1)),\n",
        "          bias2 + np.sum(np.array(inputs) * np.array(weights2)),\n",
        "          bias3 + np.sum(np.array(inputs) * np.array(weights3))]\n",
        "\n",
        "output"
      ],
      "execution_count": null,
      "outputs": [
        {
          "output_type": "execute_result",
          "data": {
            "text/plain": [
              "[4.8, 1.21, 2.385]"
            ]
          },
          "metadata": {
            "tags": []
          },
          "execution_count": 11
        }
      ]
    },
    {
      "cell_type": "code",
      "metadata": {
        "id": "dpJMgawVNGpd",
        "colab_type": "code",
        "colab": {
          "base_uri": "https://localhost:8080/",
          "height": 34
        },
        "outputId": "a107a16e-1929-411a-b612-a32367349a0e"
      },
      "source": [
        "inputs = [1,2,3,2.5]\n",
        "weights = [[0.2,0.8,-0.5,1.0],\n",
        "          [0.5,-0.91,0.26,-0.5],\n",
        "          [-0.26,-0.27,0.17,0.87]]\n",
        "\n",
        "bias = [2,3,0.5]\n",
        "\n",
        "layer_outputs = []\n",
        "for bias, weights in zip(bias, weights):\n",
        "  neuron_output = 0 \n",
        "  for idx, weight in enumerate(weights):\n",
        "    neuron_output += weight * inputs[idx]\n",
        "\n",
        "  neuron_output += bias\n",
        "  layer_outputs.append(neuron_output)\n",
        "\n",
        "layer_outputs\n"
      ],
      "execution_count": null,
      "outputs": [
        {
          "output_type": "execute_result",
          "data": {
            "text/plain": [
              "[4.8, 1.21, 2.385]"
            ]
          },
          "metadata": {
            "tags": []
          },
          "execution_count": 16
        }
      ]
    },
    {
      "cell_type": "code",
      "metadata": {
        "id": "NAOplzefWPOt",
        "colab_type": "code",
        "colab": {
          "base_uri": "https://localhost:8080/",
          "height": 34
        },
        "outputId": "462b5634-6102-4d64-834f-c42dd860e093"
      },
      "source": [
        "inputs = [1,2,3,2.5]\n",
        "weights = [[0.2,0.8,-0.5,1.0],\n",
        "          [0.5,-0.91,0.26,-0.5],\n",
        "          [-0.26,-0.27,0.17,0.87]]\n",
        "\n",
        "bias = [2,3,0.5]\n",
        "layer_outputs = np.dot(weights,inputs) + bias\n",
        "print(layer_outputs)"
      ],
      "execution_count": null,
      "outputs": [
        {
          "output_type": "stream",
          "text": [
            "[4.8   1.21  2.385]\n"
          ],
          "name": "stdout"
        }
      ]
    },
    {
      "cell_type": "code",
      "metadata": {
        "id": "9s-p4t_1e_4l",
        "colab_type": "code",
        "colab": {
          "base_uri": "https://localhost:8080/",
          "height": 68
        },
        "outputId": "c202f4b5-a4e4-48b9-9afc-449270f445a0"
      },
      "source": [
        "inputs = [[1,2,3,2.5],\n",
        "          [2.0,5.0,-1.0,2.0],\n",
        "          [-1.5,2.7,3.3,-0.8]]\n",
        "\n",
        "weights = [[0.2,0.8,-0.5,1.0],\n",
        "          [0.5,-0.91,0.26,-0.5],\n",
        "          [-0.26,-0.27,0.17,0.87]]\n",
        "\n",
        "bias = [2,3,0.5]\n",
        "\n",
        "weights2 = [ [0.1, -0.14, 0.5],\n",
        "            [-0.5,0.12,-0.33],\n",
        "            [-0.44,0.73,-0.13]            \n",
        "]\n",
        "\n",
        "bias2 = [-1,2,-0.5]\n",
        "layer1_outputs = np.dot(inputs, np.array(weights).T) + bias\n",
        "\n",
        "layer2_outputs = np.dot(layer1_outputs, np.array(weights2).T) + bias2\n",
        "print(layer2_outputs)"
      ],
      "execution_count": null,
      "outputs": [
        {
          "output_type": "stream",
          "text": [
            "[[ 0.5031  -1.04185 -2.03875]\n",
            " [ 0.2434  -2.7332  -5.7633 ]\n",
            " [-0.99314  1.41254 -0.35655]]\n"
          ],
          "name": "stdout"
        }
      ]
    },
    {
      "cell_type": "markdown",
      "metadata": {
        "id": "Sm6TXn2Ko7-i",
        "colab_type": "text"
      },
      "source": [
        "# Making layer object\n"
      ]
    },
    {
      "cell_type": "code",
      "metadata": {
        "id": "WfIKsRdmjSgf",
        "colab_type": "code",
        "colab": {
          "base_uri": "https://localhost:8080/",
          "height": 119
        },
        "outputId": "e8bcbadb-620f-4e1d-9688-c8be89a15dae"
      },
      "source": [
        "import numpy as np\n",
        "\n",
        "X =  [[1,2,3,2.5],\n",
        "      [2.0,5.0,-1.0,2.0],\n",
        "      [-1.5,2.7,3.3,-0.8]]\n",
        "\n",
        "\n",
        "class Layer_Dense:\n",
        "  def __init__(self, n_inputs, n_neurons):\n",
        "    self.weights = 0.1*np.random.randn(n_inputs, n_neurons)\n",
        "    self.biases = np.zeros((1,n_neurons))\n",
        "  def forward(self, inputs):\n",
        "    self.output = np.dot(inputs, self.weights) + self.biases\n",
        "\n",
        "layer1 = Layer_Dense(4,5)\n",
        "layer2 = Layer_Dense(5,2)\n",
        "\n",
        "layer1.forward(X)\n",
        "print(layer1.output)\n",
        "layer2.forward(layer1.output)\n",
        "print(layer2.output)"
      ],
      "execution_count": null,
      "outputs": [
        {
          "output_type": "stream",
          "text": [
            "[[ 0.41539245  0.13807719  0.45012299  0.57883189  0.36537224]\n",
            " [-0.51988274 -0.80470426 -0.21401013  0.82535934  0.36244305]\n",
            " [ 0.4713901  -0.67377721  0.46691783  0.43786339 -0.0300448 ]]\n",
            "[[ 0.04573957  0.00663354]\n",
            " [-0.04114991 -0.15707187]\n",
            " [ 0.00180242  0.01309348]]\n"
          ],
          "name": "stdout"
        }
      ]
    },
    {
      "cell_type": "markdown",
      "metadata": {
        "id": "tVNqX6DjDjrq",
        "colab_type": "text"
      },
      "source": [
        "## Rectified Linear Unit ReLU activation function"
      ]
    },
    {
      "cell_type": "code",
      "metadata": {
        "id": "PekmFDuSFZvm",
        "colab_type": "code",
        "colab": {
          "base_uri": "https://localhost:8080/",
          "height": 306
        },
        "outputId": "07205616-907e-42f5-9b8e-5ebbc3200a8c"
      },
      "source": [
        "# ! pip install nnfs\n",
        "!nnfs"
      ],
      "execution_count": null,
      "outputs": [
        {
          "output_type": "stream",
          "text": [
            "\n",
            "Neural Networks from Scratch in Python Tool.\n",
            "\n",
            "Basic usage:\n",
            "nnfs command [parameter1 [parameter2]]\n",
            "\n",
            "Detailed usage:\n",
            "nnfs info | code video_part [destination]\n",
            "\n",
            "Commands:\n",
            "  info    Prints information about the book\n",
            "  code    Creates a file containing the code of given video part\n",
            "          in given location. Location is optional, example:\n",
            "          nnfs code 2 nnfs/p02.py\n",
            "          will create a file p02.py in a nnfs folder containing\n",
            "          the code of part 2 of video tutorial\n",
            "    \n"
          ],
          "name": "stdout"
        }
      ]
    },
    {
      "cell_type": "code",
      "metadata": {
        "id": "S9O11jDcDhO6",
        "colab_type": "code",
        "colab": {
          "base_uri": "https://localhost:8080/",
          "height": 255
        },
        "outputId": "80e924f0-b781-412e-b2b0-564d06b7dd99"
      },
      "source": [
        "import numpy as np\n",
        "import nnfs\n",
        "from nnfs.datasets import spiral_data\n",
        "\n",
        "nnfs.init()\n",
        "\n",
        "X =  [[1,2,3,2.5],\n",
        "      [2.0,5.0,-1.0,2.0],\n",
        "      [-1.5,2.7,3.3,-0.8]]\n",
        "\n",
        "X,y = spiral_data(100,3)      \n",
        "\n",
        "inputs = [0,2,-1,3.3,-2.7,1.1,2.2,-100]\n",
        "output = []\n",
        "\n",
        "for i in inputs:\n",
        "  output.append(max(0,i))\n",
        "\n",
        "print(output)\n",
        "\n",
        "class Layer_Dense:\n",
        "  def __init__(self, n_inputs, n_neurons):\n",
        "    self.weights = 0.1*np.random.randn(n_inputs, n_neurons)\n",
        "    self.biases = np.zeros((1,n_neurons))\n",
        "  def forward(self, inputs):\n",
        "    self.output = np.dot(inputs, self.weights) + self.biases\n",
        "\n",
        "class Activation_ReLU:\n",
        "  def forward(self, inputs):\n",
        "    self.output = np.maximum(0,inputs)\n",
        "\n",
        "\n",
        "layer1 = Layer_Dense(2,5)\n",
        "activation1 = Activation_ReLU()\n",
        "layer1.forward(X)\n",
        "# print(layer1.output)\n",
        "activation1.forward(layer1.output)\n",
        "print(activation1.output)"
      ],
      "execution_count": null,
      "outputs": [
        {
          "output_type": "stream",
          "text": [
            "[0, 2, 0, 3.3, 0, 1.1, 2.2, 0]\n",
            "[[0.00000000e+00 0.00000000e+00 0.00000000e+00 0.00000000e+00\n",
            "  0.00000000e+00]\n",
            " [0.00000000e+00 0.00000000e+00 0.00000000e+00 4.65504505e-04\n",
            "  4.56846210e-05]\n",
            " [0.00000000e+00 5.93469958e-05 0.00000000e+00 2.03573116e-04\n",
            "  6.10024377e-04]\n",
            " ...\n",
            " [1.13291524e-01 0.00000000e+00 0.00000000e+00 8.11079666e-02\n",
            "  0.00000000e+00]\n",
            " [1.34588361e-01 0.00000000e+00 3.09493970e-02 5.66337556e-02\n",
            "  0.00000000e+00]\n",
            " [1.07817926e-01 0.00000000e+00 0.00000000e+00 8.72561932e-02\n",
            "  0.00000000e+00]]\n"
          ],
          "name": "stdout"
        }
      ]
    },
    {
      "cell_type": "code",
      "metadata": {
        "id": "vJnPEnCFHDgr",
        "colab_type": "code",
        "colab": {}
      },
      "source": [
        "def spiral_data(points, classes):\n",
        "    X = np.zeros((points*classes, 2))\n",
        "    y = np.zeros(points*classes, dtype='uint8')\n",
        "    for class_number in range(classes):\n",
        "        ix = range(points*class_number, points*(class_number+1))\n",
        "        r = np.linspace(0.0, 1, points)  # radius\n",
        "        t = np.linspace(class_number*4, (class_number+1)*4, points) + np.random.randn(points)*0.2\n",
        "        X[ix] = np.c_[r*np.sin(t*2.5), r*np.cos(t*2.5)]\n",
        "        y[ix] = class_number\n",
        "    return X, y"
      ],
      "execution_count": null,
      "outputs": []
    }
  ]
}