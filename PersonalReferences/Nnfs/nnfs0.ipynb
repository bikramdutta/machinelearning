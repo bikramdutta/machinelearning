{
  "nbformat": 4,
  "nbformat_minor": 0,
  "metadata": {
    "colab": {
      "name": "nnfs0.ipynb",
      "provenance": [],
      "collapsed_sections": []
    },
    "kernelspec": {
      "name": "python3",
      "display_name": "Python 3"
    }
  },
  "cells": [
    {
      "cell_type": "code",
      "metadata": {
        "id": "wa36BuhO-sYr",
        "colab_type": "code",
        "colab": {
          "base_uri": "https://localhost:8080/",
          "height": 51
        },
        "outputId": "0fc2cdbe-e603-47d0-bbb0-a02eeae188a6"
      },
      "source": [
        "# Mount Google Drive\n",
        "from google.colab import drive # import drive from google colab\n",
        "\n",
        "ROOT = \"/content/drive\"     # default location for the drive\n",
        "print(ROOT)                 # print content of ROOT (Optional)\n",
        "\n",
        "drive.mount(ROOT, force_remount=True)           # we mount the google drive at /content/drive"
      ],
      "execution_count": 1,
      "outputs": [
        {
          "output_type": "stream",
          "text": [
            "/content/drive\n",
            "Mounted at /content/drive\n"
          ],
          "name": "stdout"
        }
      ]
    },
    {
      "cell_type": "code",
      "metadata": {
        "id": "BjARurjC-79w",
        "colab_type": "code",
        "colab": {}
      },
      "source": [
        "%cd 'drive/My Drive/Workspaces/Nnfs'"
      ],
      "execution_count": null,
      "outputs": []
    },
    {
      "cell_type": "code",
      "metadata": {
        "id": "XPjRKBDz_CaL",
        "colab_type": "code",
        "colab": {
          "base_uri": "https://localhost:8080/",
          "height": 34
        },
        "outputId": "83edccbd-f4d8-421a-f7e6-4816467b67ca"
      },
      "source": [
        "import numpy as np\n",
        "inputs = [1.2,5.1,2.1]\n",
        "weights = [3.1,2.1,8.7]\n",
        "bias = 3\n",
        "output = bias + np.sum(np.array(inputs) * np.array(weights))\n",
        "output"
      ],
      "execution_count": 6,
      "outputs": [
        {
          "output_type": "execute_result",
          "data": {
            "text/plain": [
              "35.7"
            ]
          },
          "metadata": {
            "tags": []
          },
          "execution_count": 6
        }
      ]
    },
    {
      "cell_type": "code",
      "metadata": {
        "id": "mM7CkgFvAaKU",
        "colab_type": "code",
        "colab": {
          "base_uri": "https://localhost:8080/",
          "height": 34
        },
        "outputId": "0bdb1e80-ddf1-4113-c19f-7859c260a916"
      },
      "source": [
        "inputs = [1,2,3,2.5]\n",
        "weights1 = [0.2,0.8,-0.5,1.0]\n",
        "weights2 = [0.5,-0.91,0.26,-0.5]\n",
        "weights3 = [-0.26,-0.27,0.17,0.87]\n",
        "bias1 = 2\n",
        "bias2 = 3\n",
        "bias3 = 0.5\n",
        "\n",
        "output = [bias1 + np.sum(np.array(inputs) * np.array(weights1)),\n",
        "          bias2 + np.sum(np.array(inputs) * np.array(weights2)),\n",
        "          bias3 + np.sum(np.array(inputs) * np.array(weights3))]\n",
        "\n",
        "output"
      ],
      "execution_count": 11,
      "outputs": [
        {
          "output_type": "execute_result",
          "data": {
            "text/plain": [
              "[4.8, 1.21, 2.385]"
            ]
          },
          "metadata": {
            "tags": []
          },
          "execution_count": 11
        }
      ]
    },
    {
      "cell_type": "code",
      "metadata": {
        "id": "dpJMgawVNGpd",
        "colab_type": "code",
        "colab": {
          "base_uri": "https://localhost:8080/",
          "height": 34
        },
        "outputId": "a107a16e-1929-411a-b612-a32367349a0e"
      },
      "source": [
        "inputs = [1,2,3,2.5]\n",
        "weights = [[0.2,0.8,-0.5,1.0],\n",
        "          [0.5,-0.91,0.26,-0.5],\n",
        "          [-0.26,-0.27,0.17,0.87]]\n",
        "\n",
        "bias = [2,3,0.5]\n",
        "\n",
        "layer_outputs = []\n",
        "for bias, weights in zip(bias, weights):\n",
        "  neuron_output = 0 \n",
        "  for idx, weight in enumerate(weights):\n",
        "    neuron_output += weight * inputs[idx]\n",
        "\n",
        "  neuron_output += bias\n",
        "  layer_outputs.append(neuron_output)\n",
        "\n",
        "layer_outputs\n"
      ],
      "execution_count": 16,
      "outputs": [
        {
          "output_type": "execute_result",
          "data": {
            "text/plain": [
              "[4.8, 1.21, 2.385]"
            ]
          },
          "metadata": {
            "tags": []
          },
          "execution_count": 16
        }
      ]
    },
    {
      "cell_type": "code",
      "metadata": {
        "id": "NAOplzefWPOt",
        "colab_type": "code",
        "colab": {
          "base_uri": "https://localhost:8080/",
          "height": 34
        },
        "outputId": "462b5634-6102-4d64-834f-c42dd860e093"
      },
      "source": [
        "inputs = [1,2,3,2.5]\n",
        "weights = [[0.2,0.8,-0.5,1.0],\n",
        "          [0.5,-0.91,0.26,-0.5],\n",
        "          [-0.26,-0.27,0.17,0.87]]\n",
        "\n",
        "bias = [2,3,0.5]\n",
        "layer_outputs = np.dot(weights,inputs) + bias\n",
        "print(layer_outputs)"
      ],
      "execution_count": 22,
      "outputs": [
        {
          "output_type": "stream",
          "text": [
            "[4.8   1.21  2.385]\n"
          ],
          "name": "stdout"
        }
      ]
    },
    {
      "cell_type": "code",
      "metadata": {
        "id": "9s-p4t_1e_4l",
        "colab_type": "code",
        "colab": {
          "base_uri": "https://localhost:8080/",
          "height": 68
        },
        "outputId": "c202f4b5-a4e4-48b9-9afc-449270f445a0"
      },
      "source": [
        "inputs = [[1,2,3,2.5],\n",
        "          [2.0,5.0,-1.0,2.0],\n",
        "          [-1.5,2.7,3.3,-0.8]]\n",
        "\n",
        "weights = [[0.2,0.8,-0.5,1.0],\n",
        "          [0.5,-0.91,0.26,-0.5],\n",
        "          [-0.26,-0.27,0.17,0.87]]\n",
        "\n",
        "bias = [2,3,0.5]\n",
        "\n",
        "weights2 = [ [0.1, -0.14, 0.5],\n",
        "            [-0.5,0.12,-0.33],\n",
        "            [-0.44,0.73,-0.13]            \n",
        "]\n",
        "\n",
        "bias2 = [-1,2,-0.5]\n",
        "layer1_outputs = np.dot(inputs, np.array(weights).T) + bias\n",
        "\n",
        "layer2_outputs = np.dot(layer1_outputs, np.array(weights2).T) + bias2\n",
        "print(layer2_outputs)"
      ],
      "execution_count": 25,
      "outputs": [
        {
          "output_type": "stream",
          "text": [
            "[[ 0.5031  -1.04185 -2.03875]\n",
            " [ 0.2434  -2.7332  -5.7633 ]\n",
            " [-0.99314  1.41254 -0.35655]]\n"
          ],
          "name": "stdout"
        }
      ]
    },
    {
      "cell_type": "markdown",
      "metadata": {
        "id": "Sm6TXn2Ko7-i",
        "colab_type": "text"
      },
      "source": [
        "# Making layer object\n"
      ]
    },
    {
      "cell_type": "code",
      "metadata": {
        "id": "WfIKsRdmjSgf",
        "colab_type": "code",
        "colab": {
          "base_uri": "https://localhost:8080/",
          "height": 119
        },
        "outputId": "287c2a60-c8e1-42c7-98bf-7f5794268a64"
      },
      "source": [
        "X =  [[1,2,3,2.5],\n",
        "      [2.0,5.0,-1.0,2.0],\n",
        "      [-1.5,2.7,3.3,-0.8]]\n",
        "\n",
        "\n",
        "class Layer_Dense:\n",
        "  def __init__(self, n_inputs, n_neurons):\n",
        "    self.weights = 0.1*np.random.randn(n_inputs, n_neurons)\n",
        "    self.biases = np.zeros((1,n_neurons))\n",
        "  def forward(self, inputs):\n",
        "    self.output = np.dot(inputs, self.weights) + self.biases\n",
        "\n",
        "layer1 = Layer_Dense(4,5)\n",
        "layer2 = Layer_Dense(5,2)\n",
        "\n",
        "layer1.forward(X)\n",
        "print(layer1.output)\n",
        "layer2.forward(layer1.output)\n",
        "print(layer2.output)"
      ],
      "execution_count": 29,
      "outputs": [
        {
          "output_type": "stream",
          "text": [
            "[[-0.22749659 -0.16677017 -0.17337952  0.27567213  0.33804504]\n",
            " [-0.59987721 -0.00230754 -0.44337468 -0.0857753   0.48476806]\n",
            " [ 0.35602002  0.03474781 -0.40738723 -0.30393727  0.04560125]]\n",
            "[[-0.08388191  0.03410065]\n",
            " [-0.0863461   0.06788293]\n",
            " [ 0.08352596  0.08570044]]\n"
          ],
          "name": "stdout"
        }
      ]
    }
  ]
}