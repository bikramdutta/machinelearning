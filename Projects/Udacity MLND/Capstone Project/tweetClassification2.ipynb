{
  "nbformat": 4,
  "nbformat_minor": 0,
  "metadata": {
    "colab": {
      "name": "tweetClassification2.ipynb",
      "provenance": [],
      "collapsed_sections": []
    },
    "kernelspec": {
      "name": "python3",
      "display_name": "Python 3"
    }
  },
  "cells": [
    {
      "cell_type": "code",
      "metadata": {
        "id": "A4hLe8cY86Yc",
        "colab_type": "code",
        "colab": {
          "base_uri": "https://localhost:8080/",
          "height": 143
        },
        "outputId": "25a8f555-91f7-4314-8797-d531ea421b97"
      },
      "source": [
        "# Mount Google Drive\n",
        "from google.colab import drive # import drive from google colab\n",
        "\n",
        "ROOT = \"/content/drive\"     # default location for the drive\n",
        "print(ROOT)                 # print content of ROOT (Optional)\n",
        "\n",
        "drive.mount(ROOT, force_remount=True)           # we mount the google drive at /content/drive"
      ],
      "execution_count": null,
      "outputs": [
        {
          "output_type": "stream",
          "text": [
            "/content/drive\n",
            "Go to this URL in a browser: https://accounts.google.com/o/oauth2/auth?client_id=947318989803-6bn6qk8qdgf4n4g3pfee6491hc0brc4i.apps.googleusercontent.com&redirect_uri=urn%3aietf%3awg%3aoauth%3a2.0%3aoob&response_type=code&scope=email%20https%3a%2f%2fwww.googleapis.com%2fauth%2fdocs.test%20https%3a%2f%2fwww.googleapis.com%2fauth%2fdrive%20https%3a%2f%2fwww.googleapis.com%2fauth%2fdrive.photos.readonly%20https%3a%2f%2fwww.googleapis.com%2fauth%2fpeopleapi.readonly\n",
            "\n",
            "Enter your authorization code:\n",
            "··········\n",
            "Mounted at /content/drive\n"
          ],
          "name": "stdout"
        }
      ]
    },
    {
      "cell_type": "code",
      "metadata": {
        "id": "FY0RI0Hy8Nz9",
        "colab_type": "code",
        "colab": {
          "base_uri": "https://localhost:8080/",
          "height": 34
        },
        "outputId": "c109c9b8-3084-4ce0-a4d0-927c4ac16131"
      },
      "source": [
        "%cd 'drive/My Drive/Workspaces/machinelearning/Projects/Udacity MLND/Capstone Project/'\n",
        "# %pwd"
      ],
      "execution_count": null,
      "outputs": [
        {
          "output_type": "stream",
          "text": [
            "/content/drive/My Drive/Workspaces/machinelearning/Projects/Udacity MLND/Capstone Project\n"
          ],
          "name": "stdout"
        }
      ]
    },
    {
      "cell_type": "code",
      "metadata": {
        "id": "I0HgG6Ev6o_r",
        "colab_type": "code",
        "colab": {}
      },
      "source": [
        "!pip install textstat\n",
        "!pip install pyLDAvis"
      ],
      "execution_count": null,
      "outputs": []
    },
    {
      "cell_type": "code",
      "metadata": {
        "id": "ClEiXpsp5kda",
        "colab_type": "code",
        "colab": {
          "base_uri": "https://localhost:8080/",
          "height": 16
        },
        "outputId": "64299588-4811-4336-f24b-c69b5b81c9b5"
      },
      "source": [
        "# Imports\n",
        "import string\n",
        "from sklearn.model_selection import train_test_split\n",
        "from sklearn.linear_model import LogisticRegression\n",
        "from sklearn.model_selection import GridSearchCV\n",
        "from sklearn.model_selection import cross_val_score\n",
        "from tqdm import tqdm\n",
        "import warnings\n",
        "warnings.filterwarnings('ignore')\n",
        "\n",
        "import matplotlib.pyplot as plt\n",
        "import seaborn as sns\n",
        "color = sns.color_palette()\n",
        "\n",
        "%matplotlib inline\n",
        "\n",
        "from plotly import tools\n",
        "import plotly.offline as py\n",
        "import plotly.figure_factory as ff\n",
        "py.init_notebook_mode(connected=True)\n",
        "import plotly.graph_objs as go\n",
        "\n",
        "from sklearn import model_selection, preprocessing, metrics, ensemble, naive_bayes, linear_model\n",
        "from sklearn.feature_extraction.text import TfidfVectorizer, CountVectorizer\n",
        "from sklearn.decomposition import NMF, LatentDirichletAllocation, TruncatedSVD\n",
        "from statistics import *\n",
        "import concurrent.futures\n",
        "import time\n",
        "import pyLDAvis.sklearn\n",
        "from pylab import bone, pcolor, colorbar, plot, show, rcParams, savefig\n",
        "import textstat\n",
        "\n",
        "import spacy\n",
        "from spacy.lang.en.stop_words import STOP_WORDS\n",
        "from spacy.lang.en import English\n",
        "\n",
        "import pandas as pd\n",
        "pd.options.mode.chained_assignment = None\n",
        "pd.options.display.max_columns = 999\n",
        "\n",
        "import numpy as np\n",
        "\n",
        "from geopy.geocoders import Nominatim\n",
        "from geopy.extra.rate_limiter import RateLimiter\n",
        "import folium \n",
        "from folium import plugins \n",
        "\n",
        "import re\n"
      ],
      "execution_count": null,
      "outputs": [
        {
          "output_type": "display_data",
          "data": {
            "text/html": [
              "        <script type=\"text/javascript\">\n",
              "        window.PlotlyConfig = {MathJaxConfig: 'local'};\n",
              "        if (window.MathJax) {MathJax.Hub.Config({SVG: {font: \"STIX-Web\"}});}\n",
              "        if (typeof require !== 'undefined') {\n",
              "        require.undef(\"plotly\");\n",
              "        requirejs.config({\n",
              "            paths: {\n",
              "                'plotly': ['https://cdn.plot.ly/plotly-latest.min']\n",
              "            }\n",
              "        });\n",
              "        require(['plotly'], function(Plotly) {\n",
              "            window._Plotly = Plotly;\n",
              "        });\n",
              "        }\n",
              "        </script>\n",
              "        "
            ]
          },
          "metadata": {
            "tags": []
          }
        }
      ]
    },
    {
      "cell_type": "code",
      "metadata": {
        "id": "uRqdzsua7bFp",
        "colab_type": "code",
        "colab": {}
      },
      "source": [
        "\n",
        "#utility functions:\n",
        "def plot_readability(a,b,title,bins=0.1,colors=['#3A4750', '#F64E8B']):\n",
        "  trace1 = ff.create_distplot([a,b], [\" Real disaster tweets\",\"Not real disaster tweets\"], bin_size=bins, colors=colors, show_rug=False)\n",
        "  \n",
        "  trace1['layout'].update(title=title)\n",
        "  py.iplot(trace1, filename='Distplot')\n",
        "  table_data= [[\"Statistical Measures\",\" Not real disaster tweets\",\"real disaster tweets\"], [\"Mean\",mean(a),mean(b)], [\"Standard Deviation\",pstdev(a),pstdev(b)],\n",
        "               [\"Variance\",pvariance(a),pvariance(b)],\n",
        "               [\"Median\",median(a),median(b)],\n",
        "               [\"Maximum value\",max(a),max(b)],\n",
        "               [\"Minimum value\",min(a),min(b)]]\n",
        "  trace2 = ff.create_table(table_data)\n",
        "  py.iplot(trace2, filename='Table')\n",
        "\n",
        "punctuations = string.punctuation\n",
        "stopwords = list(STOP_WORDS)\n",
        "\n",
        "parser = English()\n",
        "def spacy_tokenizer(sentence):\n",
        "    mytokens = parser(sentence)\n",
        "    mytokens = [ word.lemma_.lower().strip() if word.lemma_ != \"-PRON-\" else word.lower_ for word in mytokens ]\n",
        "    mytokens = [ word for word in mytokens if word not in stopwords and word not in punctuations ]\n",
        "    mytokens = \" \".join([i for i in mytokens])\n",
        "    return mytokens\n",
        "\n",
        "\n",
        "def cleanhtml(raw_html):\n",
        "  cleanr = re.compile('<.*?>')\n",
        "  cleantext = re.sub(cleanr, '', raw_html)\n",
        "  return cleantext\n",
        "\n",
        "def removeurl(raw_text):\n",
        "  clean_text = re.sub(r'^https?:\\/\\/.*[\\r\\n]*', '', raw_text, flags=re.MULTILINE)\n",
        "  return clean_text"
      ],
      "execution_count": null,
      "outputs": []
    },
    {
      "cell_type": "markdown",
      "metadata": {
        "id": "11jXefkt7z03",
        "colab_type": "text"
      },
      "source": [
        "### Import Dataset\n"
      ]
    },
    {
      "cell_type": "code",
      "metadata": {
        "id": "pHPLZCMp7wS5",
        "colab_type": "code",
        "colab": {}
      },
      "source": [
        "# Importing cleaned data\n",
        "train_df = pd.read_csv('data/preprocessed_train.csv')\n",
        "test_df = pd.read_csv('data/preprocessed_test.csv')\n",
        "sub_df = pd.read_csv('data/sample_submission.csv')\n"
      ],
      "execution_count": null,
      "outputs": []
    },
    {
      "cell_type": "code",
      "metadata": {
        "id": "VPNiR28l9asc",
        "colab_type": "code",
        "colab": {
          "base_uri": "https://localhost:8080/",
          "height": 297
        },
        "outputId": "9d2043cf-a99c-44f9-afb0-ea260f44a9bb"
      },
      "source": [
        "train_df.head()"
      ],
      "execution_count": null,
      "outputs": [
        {
          "output_type": "execute_result",
          "data": {
            "text/html": [
              "<div>\n",
              "<style scoped>\n",
              "    .dataframe tbody tr th:only-of-type {\n",
              "        vertical-align: middle;\n",
              "    }\n",
              "\n",
              "    .dataframe tbody tr th {\n",
              "        vertical-align: top;\n",
              "    }\n",
              "\n",
              "    .dataframe thead th {\n",
              "        text-align: right;\n",
              "    }\n",
              "</style>\n",
              "<table border=\"1\" class=\"dataframe\">\n",
              "  <thead>\n",
              "    <tr style=\"text-align: right;\">\n",
              "      <th></th>\n",
              "      <th>Unnamed: 0</th>\n",
              "      <th>id</th>\n",
              "      <th>keyword</th>\n",
              "      <th>location</th>\n",
              "      <th>text</th>\n",
              "      <th>target</th>\n",
              "      <th>word_count</th>\n",
              "      <th>unique_word_count</th>\n",
              "      <th>stopword_count</th>\n",
              "      <th>url_count</th>\n",
              "      <th>mean_word_length</th>\n",
              "      <th>char_count</th>\n",
              "      <th>punctuation_count</th>\n",
              "      <th>hashtag_count</th>\n",
              "      <th>mention_count</th>\n",
              "      <th>text_cleaned</th>\n",
              "      <th>target_relabeled</th>\n",
              "    </tr>\n",
              "  </thead>\n",
              "  <tbody>\n",
              "    <tr>\n",
              "      <th>0</th>\n",
              "      <td>0</td>\n",
              "      <td>1</td>\n",
              "      <td>no_keyword</td>\n",
              "      <td>no_location</td>\n",
              "      <td>Our Deeds are the Reason of this #earthquake M...</td>\n",
              "      <td>1</td>\n",
              "      <td>13</td>\n",
              "      <td>13</td>\n",
              "      <td>5</td>\n",
              "      <td>0</td>\n",
              "      <td>4.384615</td>\n",
              "      <td>69</td>\n",
              "      <td>1</td>\n",
              "      <td>1</td>\n",
              "      <td>0</td>\n",
              "      <td>Our Deeds are the Reason of this  # earthquake...</td>\n",
              "      <td>1</td>\n",
              "    </tr>\n",
              "    <tr>\n",
              "      <th>1</th>\n",
              "      <td>1</td>\n",
              "      <td>4</td>\n",
              "      <td>no_keyword</td>\n",
              "      <td>no_location</td>\n",
              "      <td>Forest fire near La Ronge Sask. Canada</td>\n",
              "      <td>1</td>\n",
              "      <td>7</td>\n",
              "      <td>7</td>\n",
              "      <td>0</td>\n",
              "      <td>0</td>\n",
              "      <td>4.571429</td>\n",
              "      <td>38</td>\n",
              "      <td>1</td>\n",
              "      <td>0</td>\n",
              "      <td>0</td>\n",
              "      <td>Forest fire near La Ronge Sask .  Canada</td>\n",
              "      <td>1</td>\n",
              "    </tr>\n",
              "    <tr>\n",
              "      <th>2</th>\n",
              "      <td>2</td>\n",
              "      <td>5</td>\n",
              "      <td>no_keyword</td>\n",
              "      <td>no_location</td>\n",
              "      <td>All residents asked to 'shelter in place' are ...</td>\n",
              "      <td>1</td>\n",
              "      <td>22</td>\n",
              "      <td>20</td>\n",
              "      <td>9</td>\n",
              "      <td>0</td>\n",
              "      <td>5.090909</td>\n",
              "      <td>133</td>\n",
              "      <td>3</td>\n",
              "      <td>0</td>\n",
              "      <td>0</td>\n",
              "      <td>All residents asked to  ' shelter in place '  ...</td>\n",
              "      <td>1</td>\n",
              "    </tr>\n",
              "    <tr>\n",
              "      <th>3</th>\n",
              "      <td>3</td>\n",
              "      <td>6</td>\n",
              "      <td>no_keyword</td>\n",
              "      <td>no_location</td>\n",
              "      <td>13,000 people receive #wildfires evacuation or...</td>\n",
              "      <td>1</td>\n",
              "      <td>8</td>\n",
              "      <td>8</td>\n",
              "      <td>1</td>\n",
              "      <td>0</td>\n",
              "      <td>7.125000</td>\n",
              "      <td>65</td>\n",
              "      <td>2</td>\n",
              "      <td>1</td>\n",
              "      <td>0</td>\n",
              "      <td>13,000 people receive  # wildfires evacuation ...</td>\n",
              "      <td>1</td>\n",
              "    </tr>\n",
              "    <tr>\n",
              "      <th>4</th>\n",
              "      <td>4</td>\n",
              "      <td>7</td>\n",
              "      <td>no_keyword</td>\n",
              "      <td>no_location</td>\n",
              "      <td>Just got sent this photo from Ruby #Alaska as ...</td>\n",
              "      <td>1</td>\n",
              "      <td>16</td>\n",
              "      <td>15</td>\n",
              "      <td>6</td>\n",
              "      <td>0</td>\n",
              "      <td>4.500000</td>\n",
              "      <td>88</td>\n",
              "      <td>2</td>\n",
              "      <td>2</td>\n",
              "      <td>0</td>\n",
              "      <td>Just got sent this photo from Ruby  # Alaska a...</td>\n",
              "      <td>1</td>\n",
              "    </tr>\n",
              "  </tbody>\n",
              "</table>\n",
              "</div>"
            ],
            "text/plain": [
              "   Unnamed: 0  id     keyword     location  \\\n",
              "0           0   1  no_keyword  no_location   \n",
              "1           1   4  no_keyword  no_location   \n",
              "2           2   5  no_keyword  no_location   \n",
              "3           3   6  no_keyword  no_location   \n",
              "4           4   7  no_keyword  no_location   \n",
              "\n",
              "                                                text  target  word_count  \\\n",
              "0  Our Deeds are the Reason of this #earthquake M...       1          13   \n",
              "1             Forest fire near La Ronge Sask. Canada       1           7   \n",
              "2  All residents asked to 'shelter in place' are ...       1          22   \n",
              "3  13,000 people receive #wildfires evacuation or...       1           8   \n",
              "4  Just got sent this photo from Ruby #Alaska as ...       1          16   \n",
              "\n",
              "   unique_word_count  stopword_count  url_count  mean_word_length  char_count  \\\n",
              "0                 13               5          0          4.384615          69   \n",
              "1                  7               0          0          4.571429          38   \n",
              "2                 20               9          0          5.090909         133   \n",
              "3                  8               1          0          7.125000          65   \n",
              "4                 15               6          0          4.500000          88   \n",
              "\n",
              "   punctuation_count  hashtag_count  mention_count  \\\n",
              "0                  1              1              0   \n",
              "1                  1              0              0   \n",
              "2                  3              0              0   \n",
              "3                  2              1              0   \n",
              "4                  2              2              0   \n",
              "\n",
              "                                        text_cleaned  target_relabeled  \n",
              "0  Our Deeds are the Reason of this  # earthquake...                 1  \n",
              "1           Forest fire near La Ronge Sask .  Canada                 1  \n",
              "2  All residents asked to  ' shelter in place '  ...                 1  \n",
              "3  13,000 people receive  # wildfires evacuation ...                 1  \n",
              "4  Just got sent this photo from Ruby  # Alaska a...                 1  "
            ]
          },
          "metadata": {
            "tags": []
          },
          "execution_count": 6
        }
      ]
    },
    {
      "cell_type": "markdown",
      "metadata": {
        "id": "oStchzl7BFIi",
        "colab_type": "text"
      },
      "source": [
        "### Topic Modeling"
      ]
    },
    {
      "cell_type": "code",
      "metadata": {
        "id": "0cAGIkxGBJUj",
        "colab_type": "code",
        "colab": {
          "base_uri": "https://localhost:8080/",
          "height": 1000
        },
        "outputId": "a734789f-aa36-401b-e8f5-b365b114305f"
      },
      "source": [
        "notreal_text = train_df[train_df[\"target_relabeled\"] == 0]['text_cleaned'].apply(spacy_tokenizer)\n",
        "real_text = train_df[train_df[\"target_relabeled\"] == 1]['text_cleaned'].apply(spacy_tokenizer)\n",
        "#count vectorization\n",
        "vectorizer_notreal = CountVectorizer(min_df=5, max_df=0.9, stop_words='english', lowercase=True, token_pattern='[a-zA-Z\\-][a-zA-Z\\-]{2,}')\n",
        "notreal_vectorized = vectorizer_notreal.fit_transform(notreal_text)\n",
        "vectorizer_real = CountVectorizer(min_df=5, max_df=0.9, stop_words='english', lowercase=True, token_pattern='[a-zA-Z\\-][a-zA-Z\\-]{2,}')\n",
        "real_vectorized = vectorizer_real.fit_transform(real_text)"
      ],
      "execution_count": null,
      "outputs": [
        {
          "output_type": "stream",
          "text": [
            "<input>:4: DeprecationWarning:\n",
            "\n",
            "invalid escape sequence \\-\n",
            "\n",
            "<input>:4: DeprecationWarning:\n",
            "\n",
            "invalid escape sequence \\-\n",
            "\n",
            "<input>:4: DeprecationWarning:\n",
            "\n",
            "invalid escape sequence \\-\n",
            "\n",
            "<input>:4: DeprecationWarning:\n",
            "\n",
            "invalid escape sequence \\-\n",
            "\n",
            "<input>:4: DeprecationWarning:\n",
            "\n",
            "invalid escape sequence \\-\n",
            "\n",
            "<input>:4: DeprecationWarning:\n",
            "\n",
            "invalid escape sequence \\-\n",
            "\n",
            "<input>:4: DeprecationWarning:\n",
            "\n",
            "invalid escape sequence \\-\n",
            "\n",
            "<input>:6: DeprecationWarning:\n",
            "\n",
            "invalid escape sequence \\-\n",
            "\n",
            "<input>:4: DeprecationWarning:\n",
            "\n",
            "invalid escape sequence \\-\n",
            "\n",
            "<input>:6: DeprecationWarning:\n",
            "\n",
            "invalid escape sequence \\-\n",
            "\n",
            "<input>:4: DeprecationWarning:\n",
            "\n",
            "invalid escape sequence \\-\n",
            "\n",
            "<input>:6: DeprecationWarning:\n",
            "\n",
            "invalid escape sequence \\-\n",
            "\n",
            "<input>:4: DeprecationWarning:\n",
            "\n",
            "invalid escape sequence \\-\n",
            "\n",
            "<input>:6: DeprecationWarning:\n",
            "\n",
            "invalid escape sequence \\-\n",
            "\n",
            "<input>:4: DeprecationWarning:\n",
            "\n",
            "invalid escape sequence \\-\n",
            "\n",
            "<input>:6: DeprecationWarning:\n",
            "\n",
            "invalid escape sequence \\-\n",
            "\n",
            "<input>:4: DeprecationWarning:\n",
            "\n",
            "invalid escape sequence \\-\n",
            "\n",
            "<input>:6: DeprecationWarning:\n",
            "\n",
            "invalid escape sequence \\-\n",
            "\n",
            "<ipython-input-7-a8ae04d0f591>:4: DeprecationWarning:\n",
            "\n",
            "invalid escape sequence \\-\n",
            "\n",
            "<ipython-input-7-a8ae04d0f591>:6: DeprecationWarning:\n",
            "\n",
            "invalid escape sequence \\-\n",
            "\n"
          ],
          "name": "stderr"
        }
      ]
    },
    {
      "cell_type": "markdown",
      "metadata": {
        "id": "MGrf7LdNCx0l",
        "colab_type": "text"
      },
      "source": [
        "#### Latent Dirichlet Allocation (LDA)\n",
        "\n",
        "Latent Dirichlet Allocation (LDA) and LSA are based on the same underlying assumptions: the distributional hypothesis, (i.e. similar topics make use of similar words) and the statistical mixture hypothesis (i.e. documents talk about several topics) for which a statistical distribution can be determined. The purpose of LDA is mapping each document in our corpus to a set of topics which covers a good deal of the words in the document.\n",
        "\n",
        "What LDA does in order to map the documents to a list of topics is assign topics to arrangements of words, e.g. n-grams such as best player for a topic related to sports. This stems from the assumption that documents are written with arrangements of words and that those arrangements determine topics.LDA ignores syntactic information and treats documents as bags of words. It also assumes that all words in the document can be assigned a probability of belonging to a topic. That said, the goal of LDA is to determine the mixture of topics that a document contains.\n",
        "\n",
        "In other words, LDA assumes that topics and documents look like this:"
      ]
    },
    {
      "cell_type": "code",
      "metadata": {
        "id": "XmmJbD7ECw1E",
        "colab_type": "code",
        "colab": {
          "base_uri": "https://localhost:8080/",
          "height": 194
        },
        "outputId": "c8a4eb30-982d-4386-ab97-5485c56cd5cf"
      },
      "source": [
        "# Latent Dirichlet Allocation Model\n",
        "lda_notreal = LatentDirichletAllocation(n_components=10, max_iter=5, learning_method='online',verbose=True)\n",
        "notreal_lda = lda_notreal.fit_transform(notreal_vectorized)\n",
        "lda_real = LatentDirichletAllocation(n_components=10, max_iter=5, learning_method='online',verbose=True)\n",
        "real_lda = lda_real.fit_transform(real_vectorized)"
      ],
      "execution_count": null,
      "outputs": [
        {
          "output_type": "stream",
          "text": [
            "iteration: 1 of max_iter: 5\n",
            "iteration: 2 of max_iter: 5\n",
            "iteration: 3 of max_iter: 5\n",
            "iteration: 4 of max_iter: 5\n",
            "iteration: 5 of max_iter: 5\n",
            "iteration: 1 of max_iter: 5\n",
            "iteration: 2 of max_iter: 5\n",
            "iteration: 3 of max_iter: 5\n",
            "iteration: 4 of max_iter: 5\n",
            "iteration: 5 of max_iter: 5\n"
          ],
          "name": "stdout"
        }
      ]
    },
    {
      "cell_type": "code",
      "metadata": {
        "id": "RkMx3lyHDJ7D",
        "colab_type": "code",
        "colab": {}
      },
      "source": [
        "def selected_topics(model, vectorizer, top_n=10):\n",
        "  for idx, topic in enumerate(model.components_):\n",
        "    print(\"Topic %d:\" % (idx))\n",
        "    print([(vectorizer.get_feature_names()[i], topic[i])\n",
        "    for i in topic.argsort()[:-top_n - 1:-1]]) "
      ],
      "execution_count": null,
      "outputs": []
    },
    {
      "cell_type": "code",
      "metadata": {
        "id": "fwq38-ODDPry",
        "colab_type": "code",
        "colab": {
          "base_uri": "https://localhost:8080/",
          "height": 410
        },
        "outputId": "33d0721c-e495-46fd-f52e-cb3811810e2e"
      },
      "source": [
        "print(\"Not real disaster tweets LDA Model:\")\n",
        "selected_topics(lda_notreal, vectorizer_notreal)"
      ],
      "execution_count": null,
      "outputs": [
        {
          "output_type": "stream",
          "text": [
            "Not real disaster tweets LDA Model:\n",
            "Topic 0:\n",
            "[('like', 258.35115288572183), ('feel', 44.02364997980254), ('screamed', 37.740375363361956), ('movie', 33.83106365298814), ('crash', 33.11515197334516), ('sinking', 32.47019923389898), ('police', 31.44216342128816), ('traumatised', 30.037588371858263), ('phone', 29.327434536015463), ('bag', 28.096364319072734)]\n",
            "Topic 1:\n",
            "[('time', 86.60435533623885), ('know', 64.1433493489033), ('wreck', 63.995610822167016), ('best', 53.52205133486489), ('look', 43.18808357441017), ('shit', 34.01559531867751), ('need', 33.298513970481004), ('little', 31.606884506915083), ('wanna', 31.222028646301634), ('nuclear', 31.144642622756823)]\n",
            "Topic 2:\n",
            "[('loud', 127.50503862945044), ('bang', 123.5713652694648), ('heard', 116.96413574392392), ('ass', 54.90162552683071), ('smoke', 43.47649963825058), ('burning', 43.209056014505194), ('coming', 33.07769700254367), ('song', 31.118650270381544), ('hope', 30.20999844344853), ('girl', 29.05021180237064)]\n",
            "Topic 3:\n",
            "[('news', 68.65616429987286), ('help', 47.492692171025276), ('screaming', 44.12745410338751), ('today', 43.99654385347074), ('read', 40.65477045948006), ('work', 33.00842088401926), ('dead', 30.645895770611236), ('run', 28.66193144512932), ('thank', 28.43416524327842), ('bloody', 26.75218401924745)]\n",
            "Topic 4:\n",
            "[('love', 97.819079326629), ('going', 68.09123794501544), ('think', 67.96077694593716), ('content', 53.677977350741756), ('life', 53.337531987498124), ('god', 45.64322152103839), ('world', 41.893761911340754), ('come', 37.288500610857774), ('face', 36.6123777571907), ('survive', 36.071721410386594)]\n",
            "Topic 5:\n",
            "[('people', 84.70059308770442), ('good', 67.32934485764808), ('lol', 64.06018804141821), ('black', 47.13649487608686), ('trapped', 35.08691339835126), ('head', 32.02695621860378), ('zone', 28.588458935838755), ('twitter', 24.926710640630873), ('beautiful', 24.315291003318173), ('tonight', 24.009352634706765)]\n",
            "Topic 6:\n",
            "[('got', 87.96422892696206), ('body', 83.80593296618716), ('way', 55.8469301152024), ('getting', 37.01322417270428), ('home', 36.801104011497564), ('music', 32.97100716706808), ('said', 31.31465636231958), ('bags', 30.269538902345957), ('cross', 29.864927148168803), ('lot', 29.521233291841604)]\n",
            "Topic 7:\n",
            "[('new', 167.45818452194712), ('emergency', 71.90798400525922), ('reddit', 63.20600355720846), ('night', 36.89105999145711), ('trouble', 36.88353787879639), ('stock', 34.36483928164969), ('better', 32.841062729178276), ('quarantine', 32.6402968738604), ('long', 32.235153478751), ('rescue', 30.82087209154649)]\n",
            "Topic 8:\n",
            "[('great', 139.76844753217344), ('sirens', 117.63094552856562), ('let', 74.3213353927297), ('want', 65.38949260884415), ('day', 64.85405074827304), ('fear', 41.646259281947266), ('storm', 40.36859047492413), ('school', 37.1513234895187), ('self', 31.90766128478929), ('weapons', 30.052628294691033)]\n",
            "Topic 9:\n",
            "[('video', 91.86393342206009), ('youtube', 75.55484295413316), ('ruin', 43.678224281554016), ('war', 37.91440566718737), ('liked', 35.38278592926314), ('weapon', 34.66317167902722), ('man', 31.866979849806956), ('big', 31.13291244450592), ('thunder', 30.682771498704348), ('hot', 29.797958201262084)]\n"
          ],
          "name": "stdout"
        }
      ]
    },
    {
      "cell_type": "code",
      "metadata": {
        "id": "pJ0Jj9PiDbOj",
        "colab_type": "code",
        "colab": {
          "base_uri": "https://localhost:8080/",
          "height": 410
        },
        "outputId": "8eee30e7-4826-4414-a146-b27c88ac12df"
      },
      "source": [
        "print(\"Real disaster tweets LDA Model:\")\n",
        "selected_topics(lda_real, vectorizer_real)"
      ],
      "execution_count": null,
      "outputs": [
        {
          "output_type": "stream",
          "text": [
            "Real disaster tweets LDA Model:\n",
            "Topic 0:\n",
            "[('malaysia', 226.32141294237573), ('flight', 153.28990775748957), ('airlines', 145.50096085875356), ('wreckage', 93.5933607187942), ('investigators', 72.1266027866486), ('conclusively', 68.03927159076456), ('fatal', 55.92629981838036), ('earthquake', 50.42694430419583), ('reunion', 41.11734238838591), ('debris', 40.356275525222635)]\n",
            "Topic 1:\n",
            "[('news', 83.3340746284871), ('old', 74.15312831106962), ('emergency', 66.41840010319916), ('dead', 64.99229203326243), ('migrants', 45.39469278592565), ('kills', 40.28590192701572), ('hundreds', 35.614325284244345), ('day', 32.052394018965124), ('boat', 29.644960579506826), ('bestnaijamade', 27.195990317332743)]\n",
            "Topic 2:\n",
            "[('typhoon', 73.94567587937361), ('obama', 62.94893277801283), ('severe', 58.04635553566578), ('warning', 54.482309448980104), ('water', 53.993769710011165), ('war', 36.28178588982243), ('released', 35.25663432577489), ('live', 34.059169418242924), ('devastated', 33.831597023272224), ('murder', 33.58364578651529)]\n",
            "Topic 3:\n",
            "[('train', 74.04136353822658), ('city', 51.3920966450107), ('survivors', 34.67995910747121), ('derailment', 32.36156807749779), ('massacre', 29.705067475417806), ('iran', 28.57369132553298), ('help', 25.05591619312684), ('hit', 25.001788264606347), ('food', 24.348308909098158), ('israeli', 24.045838586182036)]\n",
            "Topic 4:\n",
            "[('suicide', 139.73971511605527), ('families', 117.47822411022447), ('like', 87.08890938287917), ('attack', 69.01243491918245), ('killed', 66.85703551009271), ('legionnaires', 66.09799456686653), ('saudi', 51.3545232966642), ('oil', 50.23076560978876), ('bombing', 49.622351878687496), ('world', 47.080273615133294)]\n",
            "Topic 5:\n",
            "[('crash', 55.49673872871476), ('home', 48.087873841131824), ('area', 36.03535691818375), ('abc', 34.48362525997521), ('tornado', 33.818079007464505), ('death', 32.74189365533111), ('calgary', 30.321500514761567), ('killed', 29.283068604099597), ('service', 29.068880962930777), ('reuters', 26.85587852775419)]\n",
            "Topic 6:\n",
            "[('disaster', 126.36201429656234), ('year', 94.63320394079753), ('weather', 71.75994411228982), ('people', 65.36134006023232), ('bomb', 45.91574879567245), ('detonated', 40.32337338573045), ('flood', 40.12325764118315), ('army', 39.048394628972964), ('pkk', 39.004390939120434), ('nuclear', 36.01700497897737)]\n",
            "Topic 7:\n",
            "[('confirmed', 91.56676186220386), ('car', 53.13926713037132), ('forest', 47.975996958346705), ('wild', 47.12667676920329), ('spill', 46.22019640160913), ('structural', 29.70065179307833), ('projected', 28.318753590697224), ('bigger', 26.98414351219899), ('road', 26.87820490350801), ('costlier', 26.24766307212158)]\n",
            "Topic 8:\n",
            "[('hiroshima', 79.44343128167051), ('video', 75.3808070412489), ('homes', 62.30710414894436), ('japan', 55.29686060135011), ('years', 47.458546017142716), ('wounded', 46.314975786452834), ('atomic', 44.698311578315014), ('collapse', 40.78069751846426), ('time', 39.99699876205628), ('rescuers', 38.595901387273116)]\n",
            "Topic 9:\n",
            "[('california', 125.75704176020564), ('storm', 104.88395288002563), ('police', 101.849567605825), ('fires', 89.39388836202932), ('wildfire', 82.37747451222796), ('northern', 72.16545445635437), ('news', 68.39175940630494), ('latest', 53.52472326941802), ('watch', 51.5265913765592), ('burning', 44.75194502197895)]\n"
          ],
          "name": "stdout"
        }
      ]
    },
    {
      "cell_type": "markdown",
      "metadata": {
        "id": "mu2lkZLRDjpa",
        "colab_type": "text"
      },
      "source": [
        "##### Visualizing LDA results of not a real disaster tweets with pyLDAvis"
      ]
    },
    {
      "cell_type": "code",
      "metadata": {
        "id": "LNrMQLJJDg_D",
        "colab_type": "code",
        "colab": {
          "base_uri": "https://localhost:8080/",
          "height": 861
        },
        "outputId": "f79b1c11-14c4-4325-d8ab-49f0fba1fee6"
      },
      "source": [
        "pyLDAvis.enable_notebook()\n",
        "dash = pyLDAvis.sklearn.prepare(lda_notreal, notreal_vectorized, vectorizer_notreal, mds='tsne')\n",
        "dash"
      ],
      "execution_count": null,
      "outputs": [
        {
          "output_type": "execute_result",
          "data": {
            "text/html": [
              "\n",
              "<link rel=\"stylesheet\" type=\"text/css\" href=\"https://cdn.rawgit.com/bmabey/pyLDAvis/files/ldavis.v1.0.0.css\">\n",
              "\n",
              "\n",
              "<div id=\"ldavis_el124140126446759272236794385\"></div>\n",
              "<script type=\"text/javascript\">\n",
              "\n",
              "var ldavis_el124140126446759272236794385_data = {\"mdsDat\": {\"x\": [32.42095184326172, 0.648955225944519, 71.01968383789062, 3.7859814167022705, -42.666500091552734, -3.6216893196105957, -3.632401704788208, -36.58440017700195, 44.391380310058594, 40.235809326171875], \"y\": [8.115229606628418, 71.70709991455078, 9.971006393432617, 33.18513488769531, -9.22206974029541, -43.52651596069336, -4.171707630157471, 35.804412841796875, 50.61538314819336, -31.591665267944336], \"topics\": [1, 2, 3, 4, 5, 6, 7, 8, 9, 10], \"cluster\": [1, 1, 1, 1, 1, 1, 1, 1, 1, 1], \"Freq\": [10.845644745545973, 10.735420212832972, 10.63039908007407, 10.352580741640976, 10.320551734676066, 9.986427668208552, 9.676016395687588, 9.335174018852335, 9.060008605144832, 9.057776797336642]}, \"tinfo\": {\"Term\": [\"like\", \"great\", \"loud\", \"bang\", \"new\", \"heard\", \"sirens\", \"love\", \"time\", \"video\", \"got\", \"body\", \"youtube\", \"going\", \"people\", \"lol\", \"think\", \"emergency\", \"news\", \"good\", \"let\", \"world\", \"wreck\", \"want\", \"man\", \"reddit\", \"day\", \"content\", \"way\", \"work\", \"video\", \"youtube\", \"emergency\", \"reddit\", \"look\", \"liked\", \"big\", \"stop\", \"meltdown\", \"change\", \"goes\", \"week\", \"baby\", \"plan\", \"services\", \"bomb\", \"sound\", \"tomorrow\", \"start\", \"finally\", \"night\", \"data\", \"city\", \"explosion\", \"collapse\", \"use\", \"state\", \"hazardous\", \"chance\", \"added\", \"police\", \"check\", \"storm\", \"know\", \"day\", \"tsunami\", \"like\", \"sirens\", \"feel\", \"smoke\", \"trapped\", \"shit\", \"crash\", \"little\", \"phone\", \"free\", \"cause\", \"flames\", \"looks\", \"fall\", \"horrible\", \"left\", \"photo\", \"house\", \"trying\", \"gets\", \"low\", \"rain\", \"wounded\", \"cliff\", \"link\", \"favorite\", \"hear\", \"needs\", \"quiz\", \"business\", \"sinking\", \"panic\", \"flattened\", \"car\", \"going\", \"ass\", \"fucking\", \"stock\", \"movie\", \"fuck\", \"wanna\", \"song\", \"head\", \"injury\", \"china\", \"high\", \"came\", \"send\", \"destruction\", \"hat\", \"care\", \"friends\", \"went\", \"times\", \"laughing\", \"believe\", \"released\", \"ball\", \"seen\", \"lord\", \"class\", \"plans\", \"sinkhole\", \"nice\", \"people\", \"wrecked\", \"animal\", \"day\", \"life\", \"new\", \"words\", \"heard\", \"love\", \"let\", \"today\", \"ruin\", \"hot\", \"screamed\", \"survive\", \"bad\", \"coming\", \"survived\", \"hope\", \"fun\", \"sure\", \"drown\", \"away\", \"tonight\", \"happy\", \"hours\", \"yes\", \"days\", \"waves\", \"thing\", \"haha\", \"radio\", \"islam\", \"peace\", \"fires\", \"heat\", \"natural\", \"disaster\", \"siren\", \"hellfire\", \"weapon\", \"know\", \"great\", \"want\", \"way\", \"best\", \"screaming\", \"fear\", \"year\", \"school\", \"home\", \"better\", \"live\", \"girl\", \"game\", \"real\", \"bloody\", \"market\", \"woman\", \"book\", \"nowplaying\", \"desolation\", \"making\", \"listen\", \"deal\", \"spot\", \"guy\", \"team\", \"truck\", \"mom\", \"money\", \"jobs\", \"flood\", \"music\", \"death\", \"job\", \"time\", \"man\", \"trouble\", \"getting\", \"nuclear\", \"rescue\", \"attack\", \"zone\", \"thought\", \"play\", \"demolish\", \"hey\", \"light\", \"thanks\", \"stay\", \"burning\", \"remember\", \"gbbo\", \"mode\", \"series\", \"buildings\", \"earth\", \"men\", \"reactor\", \"awesome\", \"damn\", \"beach\", \"gems\", \"learn\", \"bed\", \"thank\", \"god\", \"crush\", \"long\", \"twitter\", \"white\", \"sunk\", \"obliterate\", \"think\", \"content\", \"work\", \"black\", \"right\", \"self\", \"said\", \"dead\", \"lot\", \"things\", \"hazard\", \"years\", \"old\", \"destroyed\", \"hit\", \"okay\", \"burned\", \"makes\", \"person\", \"guys\", \"wait\", \"family\", \"cake\", \"space\", \"brown\", \"actually\", \"emmerdale\", \"follow\", \"star\", \"photos\", \"deluged\", \"quarantine\", \"offensive\", \"screams\", \"battle\", \"news\", \"good\", \"wreck\", \"face\", \"weapons\", \"save\", \"policy\", \"soon\", \"bag\", \"beautiful\", \"injuries\", \"end\", \"heart\", \"feeling\", \"banned\", \"wrong\", \"food\", \"story\", \"women\", \"failure\", \"sorry\", \"disney\", \"looking\", \"train\", \"ancient\", \"half\", \"king\", \"literally\", \"order\", \"structural\", \"pandemonium\", \"harm\", \"lol\", \"come\", \"bags\", \"run\", \"ebay\", \"mass\", \"hollywood\", \"bagging\", \"breaking\", \"appears\", \"talk\", \"detonation\", \"grande\", \"trust\", \"sensor\", \"says\", \"meek\", \"ariana\", \"knock\", \"thunder\", \"road\", \"murderer\", \"party\", \"hate\", \"ignition\", \"playing\", \"drake\", \"means\", \"update\", \"driving\", \"body\", \"need\", \"cross\", \"fatality\", \"inundated\", \"set\", \"people\", \"twister\", \"bang\", \"got\", \"help\", \"loud\", \"read\", \"war\", \"world\", \"military\", \"summer\", \"watch\", \"red\", \"destroy\", \"blood\", \"lightning\", \"kids\", \"online\", \"cool\", \"wind\", \"fan\", \"michael\", \"army\", \"power\", \"leather\", \"second\", \"land\", \"pick\", \"tablet\", \"film\", \"justin\", \"girls\", \"ladies\", \"new\", \"stretcher\", \"traumatised\", \"blast\", \"whirlwind\"], \"Freq\": [232.0, 134.0, 117.0, 114.0, 158.0, 106.0, 106.0, 89.0, 86.0, 89.0, 81.0, 85.0, 73.0, 72.0, 92.0, 66.0, 67.0, 70.0, 65.0, 64.0, 67.0, 61.0, 60.0, 63.0, 59.0, 62.0, 80.0, 53.0, 54.0, 51.0, 88.88997360735334, 73.12522248272279, 69.59282001805853, 61.17620740354078, 41.98849824533303, 34.2455744121294, 30.131920651525498, 28.7650438866199, 28.756753964048936, 25.41573107807427, 25.151132427201425, 24.783624608523652, 24.365127587969173, 23.805935631998874, 22.917151243424, 22.27700913017199, 22.185478730748375, 21.564913103868903, 20.45053943621204, 19.76173871812911, 35.03559668358707, 18.958903046480966, 17.80391856155599, 16.796440341101594, 16.65121761143864, 16.605774697116225, 15.516890354847824, 15.226206930429614, 14.745038674888434, 14.61796944763067, 35.62694294684705, 27.05965008545278, 27.545770387450162, 38.96356999286498, 30.872857301275246, 20.023596399941955, 231.0566334121927, 105.3738680621056, 39.4366649179649, 38.94685295753372, 31.430170699810766, 30.4718924495881, 29.6648063052541, 28.31342848503984, 26.27173827716168, 25.636069146905665, 24.18528690499364, 23.72074605171235, 23.380689827970905, 22.902879517723118, 22.81567522306331, 21.505837586344462, 21.153534434596107, 19.449430328811733, 19.007906501669954, 19.846331019718356, 17.51406563076547, 17.277384620775678, 15.831062104781621, 16.157267191599992, 14.601349641695574, 14.573248030278982, 14.326276892059358, 14.215930452749127, 14.494265806391752, 14.120980512682555, 32.318067230505385, 29.972358956585214, 21.47102330098808, 21.758889529451494, 71.95815190592016, 52.16471431020534, 38.32824437239688, 32.64046241353727, 32.09765908178173, 30.471777806841956, 29.655447197110295, 29.557065204576244, 30.312936758061895, 25.572581044574004, 24.830068696735296, 24.21104602502127, 21.180422714328305, 19.815665507036048, 22.60287042648183, 19.83642496467086, 19.376049341999135, 19.342056191935498, 18.91178658924137, 18.313279852410243, 17.139282636353258, 16.293701255328045, 15.87985128620097, 15.549073796379739, 15.158475061811219, 14.746341934399156, 14.363992367936778, 14.091678840650182, 17.28134989992691, 13.374528547370776, 73.7357825625042, 37.17527501164237, 15.297714976881158, 49.2106672095335, 33.46153344609857, 40.58223668852859, 18.024259190202606, 105.5948859388994, 88.30954757942405, 66.58391835045872, 39.72033342005408, 39.43484661887163, 38.30266158929908, 34.07510887684615, 32.56545571231355, 30.182644163232307, 29.86248877418988, 28.87089494422743, 27.27329427151697, 22.308955472086353, 21.935505494608872, 22.11474900689511, 21.33971030160989, 21.661396681287982, 20.227877817534644, 19.05548982718922, 18.87039455221145, 16.49278610723293, 16.215683874105196, 21.95375317768577, 15.395493642861377, 15.38792102946913, 19.115921618454994, 15.09678536674681, 13.872280576473885, 13.494394024405834, 17.985003224031665, 30.922998698638718, 22.28887738209588, 19.726765611155784, 19.98494048537174, 21.29288006935613, 133.6657235696751, 62.533253620899494, 53.40744467558856, 51.183669171759526, 42.199875486269875, 39.829766971799216, 36.85861493099745, 35.52835489150446, 35.19475738676788, 31.406602478815604, 31.399901092902553, 27.781199036212477, 27.249306245071384, 26.1418598095647, 25.581747386124736, 24.854835372945875, 24.35972265837097, 23.7493522145188, 23.702379790218334, 22.968954685287503, 20.690103840447296, 20.320808842487637, 18.89415298061069, 18.024362697516924, 16.89478261962483, 16.650728525558804, 16.604065766892994, 16.16227833392006, 15.716982932463642, 14.82208717803094, 17.389437184006837, 26.80201570898391, 22.785811815226797, 17.97168619787588, 85.4625088616486, 58.7640086388722, 37.80002335922092, 36.49136060752053, 33.90725203915354, 30.412466725063, 28.40071278911519, 28.211557242640602, 23.02240387938022, 22.586386981444598, 22.280282351176925, 21.553379042175738, 23.390395440879658, 20.59410863707213, 20.258236735649735, 41.82624005769767, 17.878760627762077, 16.571624475565358, 15.321184304684817, 14.612295162225973, 26.39143375682219, 14.553126386929533, 14.369213959276058, 14.1824275265002, 13.131838554045148, 13.013226645783243, 12.83918601733766, 12.807002823350334, 12.708213597574634, 12.548998003506311, 26.401994847177026, 33.988110281177576, 18.695897607883662, 21.224990802615615, 16.96323271609558, 15.898788677225907, 17.797142087889853, 16.061402427871325, 67.1285688503794, 53.02092434328599, 51.12122082755511, 46.55522170598609, 43.15715343817434, 31.516993944921282, 30.93099591291202, 30.270581134433368, 29.16064991495078, 28.637922577657285, 28.76268723305016, 25.158195286728088, 24.242670955169555, 23.532020445443717, 22.332561570066325, 20.587545579055114, 20.47488101045305, 20.1097168560344, 19.873730660235196, 19.560180702017238, 19.23597000743174, 18.464214212617087, 18.460939875251874, 18.613226505133802, 17.990379268188, 17.124672040633776, 15.983242723869092, 15.344531309089191, 14.689105491885988, 14.539357146866672, 15.488268600504446, 29.21875812192349, 25.47975445526329, 17.55303421751521, 16.3369527701184, 64.41913059023757, 63.178701046693206, 60.05196058363094, 34.3559537030615, 28.200389219751212, 25.956366573670234, 24.72403417693421, 24.843840344528623, 26.783629812242133, 22.81676127943865, 25.811179385730505, 22.275254884692828, 21.740494671536815, 21.079763109280396, 19.625621625891952, 19.275590858303072, 19.09359595066123, 17.88754826312288, 17.521046255288113, 16.77724909600376, 16.4957999842917, 16.193113360491907, 15.961922687106554, 15.231256763485046, 18.466185349230336, 19.974363955460973, 14.619317285738152, 14.508814815848899, 13.990075045630018, 14.521669623301475, 25.91341605001224, 28.522771466745375, 65.95539769128709, 38.38943137819062, 31.20126767740941, 29.504643765827446, 26.380542043649605, 25.339809691196937, 22.392799042150827, 19.73828150205638, 19.20302475177012, 16.43413107601893, 16.262982739158215, 19.122227325759216, 15.48573569053511, 15.422905651710598, 15.047946354343999, 14.810795147862738, 15.282650752406509, 14.094361107417157, 14.050672481248, 32.73819038386752, 13.59938529982521, 14.410291250671321, 13.239451999800725, 12.941427151432912, 13.180624703855848, 12.640231267456116, 12.829205395657766, 12.47521210098967, 12.140444367110867, 11.945095615200861, 74.38954736464603, 39.71503385290821, 22.018408469024436, 17.82776461564593, 17.579960953703804, 14.747344038463604, 17.39386056360886, 14.640820627328033, 113.08777235859046, 80.50946886159794, 43.49619824492807, 115.17837632070018, 37.21036011917081, 34.86157932015773, 60.36227274810449, 31.756852569415464, 30.158776766122966, 30.44305219150499, 24.30371015188974, 22.877330414104676, 22.797485736395796, 22.31762990861602, 20.539827827274166, 19.9853361572305, 17.679870873785553, 16.62123737012224, 15.917877687425964, 15.387772458414133, 17.766903003912912, 13.528041995485586, 13.874877481407037, 12.855102215699016, 12.633634453449714, 12.033991673654887, 11.688581170860918, 11.374214435523614, 11.330766945004147, 10.98350385679886, 11.561238673758966, 112.64099260559176, 22.656017758366474, 23.449407894890978, 13.614078670793381, 12.572367625407642], \"Total\": [232.0, 134.0, 117.0, 114.0, 158.0, 106.0, 106.0, 89.0, 86.0, 89.0, 81.0, 85.0, 73.0, 72.0, 92.0, 66.0, 67.0, 70.0, 65.0, 64.0, 67.0, 61.0, 60.0, 63.0, 59.0, 62.0, 80.0, 53.0, 54.0, 51.0, 89.7701096936814, 73.98202567658886, 70.45274609897984, 62.04477789188631, 42.84607776151557, 35.10280456604709, 30.98891687896702, 29.622231268932417, 29.614966775099663, 26.272803031339997, 26.008530247753708, 25.641391205678246, 25.22214765948191, 24.683145374646635, 23.774052268679423, 23.13444800768497, 23.042659360376764, 22.422456713015546, 21.31408675511248, 20.619408648998014, 36.58130527777131, 19.81639706353582, 18.661402267100378, 17.65403018977961, 17.508244137324404, 17.46699224578194, 16.373967974678447, 16.08318087159467, 15.607079000668124, 15.474787978508566, 38.42903315172531, 33.448076322023724, 39.83497442331293, 77.1878141791507, 80.84581868532038, 28.712404020658063, 232.33834353547496, 106.23811849904651, 40.30077770870627, 39.81546224020932, 32.29518207653895, 31.336033601396835, 30.529508880485324, 29.17767586055459, 27.135983620067414, 26.500388428784095, 25.051401989790236, 24.58492999614881, 24.24500267006115, 23.768191760252687, 23.717347747561202, 22.372468636937818, 22.018041966214135, 20.31358927003321, 19.903192250553957, 20.793990867742686, 18.382770936879204, 18.144009083778865, 16.69594920007258, 17.093786545477446, 15.465675414138182, 15.440065629513983, 15.191525149081333, 15.080162218754557, 15.389636820919115, 14.995540499092678, 41.8019013510607, 38.21329513072204, 26.244212652495026, 29.04651200996975, 72.81967829733621, 53.02435550192512, 39.18766925622788, 33.499158142190176, 32.99558198626247, 31.332314615433653, 30.515095671227428, 30.415933343100324, 31.287321114280722, 26.43174436327533, 25.688757434536033, 25.069822216546584, 22.040489657508374, 20.674843844202687, 23.586608664004174, 20.7048487880055, 20.235679896080047, 20.201346046718, 19.770895107220277, 19.174153956489207, 17.998243488047727, 17.152542605736294, 16.73853818035085, 16.40781039931928, 16.017270253488995, 15.605877456390433, 15.222654397475502, 14.95035615368671, 18.36494669936017, 14.233232075244631, 92.0215502119555, 49.20957436805455, 16.558927204142194, 80.84581868532038, 56.73835059790298, 158.26229155820988, 24.38553179562457, 106.45859413020672, 89.1761816251042, 67.99939101697467, 40.58387876865784, 40.29900805783452, 39.166535916374215, 34.94282380182984, 33.42958927272309, 31.047019651929666, 30.726159984341194, 29.73448823467339, 28.137334964065506, 23.174331408360683, 22.799124285967594, 22.98953475688268, 22.204250860349006, 22.541225436530762, 21.09156408681584, 19.920664442863583, 19.73390834478079, 17.35822326315372, 17.079427188637524, 23.16939167638104, 16.25898721729075, 16.25140674981398, 20.206720219435343, 15.960316035602272, 14.759605906805913, 14.364690021926334, 19.18819512849367, 33.24901194768964, 30.865132324798243, 29.819055726805374, 34.0393994863285, 77.1878141791507, 134.52397667160366, 63.39156620578669, 54.266871146130896, 52.04285161221063, 43.057985566456956, 40.68788129669598, 37.71866878066909, 36.38700614118999, 36.05341980782233, 32.26506768069574, 32.25830543689907, 28.63944414457339, 28.10786076563657, 27.000827244699778, 26.442817056075462, 25.713216816821326, 25.217863633922676, 24.607519036946172, 24.560425842517645, 23.827411599952388, 21.548220502499262, 21.1793733410687, 19.752515243221616, 18.883132266966783, 17.75294662162327, 17.508791869850093, 17.464426351155307, 17.02051827566536, 16.57845748173581, 15.680557355191304, 18.54736535987951, 32.09828694124567, 34.335104737186626, 21.595323906170346, 86.31856859761413, 59.63021665490752, 38.65730779356139, 37.37929509911663, 34.76485312238309, 31.272816607147057, 29.25813774987807, 29.066950876727546, 23.879183747333354, 23.44168205590562, 23.135653300963902, 22.40895267554034, 24.32406278885648, 21.449091598782456, 21.113507267593278, 43.62852668532515, 18.733825739303178, 17.439770946822943, 16.176353691741404, 15.467947262619267, 27.939551061435836, 15.40852866191409, 15.227676611307059, 15.09988527159796, 13.986904275023546, 13.86935168939946, 13.69569380462785, 13.663431688178743, 13.563501649257002, 13.40414104596601, 28.863843390845684, 48.564396173270346, 25.92248851321634, 32.24542978009599, 25.785011282941916, 25.306397612552463, 36.80474678118838, 29.37869608283196, 67.98358354899335, 53.8770381614592, 51.97851362222968, 47.41522397814887, 44.05651261466502, 32.37254383504912, 31.78665516615579, 31.126642205317733, 30.016009554585995, 29.492983762167984, 29.62316236250268, 26.013242285255412, 25.09775277747804, 24.387409208532613, 23.187608698421244, 21.443184749274486, 21.330725029360938, 20.96592688572278, 20.72871497798128, 20.41512885654902, 20.09100745072028, 19.319409453961896, 19.316746794272426, 19.487807381632397, 18.84553271592879, 17.98352134486836, 16.853625551034387, 16.199797232216802, 15.544963886846991, 15.394493833376279, 16.403926065245507, 33.56003359803758, 29.04574935521318, 35.32030972402578, 22.602350609521277, 65.28527985711575, 64.05517052858792, 60.911996062908756, 35.21615361297364, 29.060495584121483, 26.85965438330848, 25.587301010425012, 25.71231281145186, 27.741229260390607, 23.67684116298724, 26.823021850802707, 23.157088645668367, 22.603874453444472, 21.95451081766175, 20.494408271876406, 20.135517703962574, 19.95345487320642, 18.74741553064184, 18.38106810439144, 17.64005857212944, 17.355799335698244, 17.053036770799086, 16.822142129672777, 16.09113935278304, 19.516476645230235, 21.130807136009466, 15.479086158520145, 15.368677202350012, 14.850475778658302, 15.425752238271613, 28.53214805937526, 34.68518385735162, 66.80629837598006, 39.24274646345664, 32.08264764877496, 30.360748846513726, 27.23261385180318, 26.191406876242798, 23.24355005870711, 20.60925396706656, 20.0573939176008, 17.284870733451438, 17.11375366925957, 20.142623440183208, 16.336392699803234, 16.273744131517827, 15.918166665962762, 15.682469410156665, 16.189940046012286, 14.945026959416625, 14.921131951729981, 34.77952453576107, 14.450229932649677, 15.334142242987875, 14.0901856210123, 13.792566507571264, 14.04831247980948, 13.491025911377639, 13.695531007177898, 13.326019413136862, 12.991593779209401, 12.800812149321064, 85.81982535941039, 51.437769138184464, 31.246781202353382, 24.483056842916575, 31.03128224954773, 22.8344445625708, 92.0215502119555, 44.5660004278908, 114.02528633249794, 81.37617912673461, 44.360788439488246, 117.71789186907925, 38.0730400968574, 35.730368322016844, 61.916560764692804, 32.62049903362981, 31.02530402788369, 31.463002713672353, 25.167042339767303, 23.741035338231068, 23.66160103440355, 23.179911201234443, 21.402133102225264, 20.8476025164082, 18.54243541767931, 17.490859226130144, 16.78408794590261, 16.250180429650882, 18.785132867433813, 14.415555381268595, 14.798612551889123, 13.719040385185574, 13.495862790119693, 12.901279932594845, 12.551416321263968, 12.236338611803909, 12.192903251568703, 11.845843760876162, 12.506605794325072, 158.26229155820988, 31.387539533806034, 39.18139674969122, 16.49526062372024, 30.390200009605486], \"Category\": [\"Default\", \"Default\", \"Default\", \"Default\", \"Default\", \"Default\", \"Default\", \"Default\", \"Default\", \"Default\", \"Default\", \"Default\", \"Default\", \"Default\", \"Default\", \"Default\", \"Default\", \"Default\", \"Default\", \"Default\", \"Default\", \"Default\", \"Default\", \"Default\", \"Default\", \"Default\", \"Default\", \"Default\", \"Default\", \"Default\", \"Topic1\", \"Topic1\", \"Topic1\", \"Topic1\", \"Topic1\", \"Topic1\", \"Topic1\", \"Topic1\", \"Topic1\", \"Topic1\", \"Topic1\", \"Topic1\", \"Topic1\", \"Topic1\", \"Topic1\", \"Topic1\", \"Topic1\", \"Topic1\", \"Topic1\", \"Topic1\", \"Topic1\", \"Topic1\", \"Topic1\", \"Topic1\", \"Topic1\", \"Topic1\", \"Topic1\", \"Topic1\", \"Topic1\", \"Topic1\", \"Topic1\", \"Topic1\", \"Topic1\", \"Topic1\", \"Topic1\", \"Topic1\", \"Topic2\", \"Topic2\", \"Topic2\", \"Topic2\", \"Topic2\", \"Topic2\", \"Topic2\", \"Topic2\", \"Topic2\", \"Topic2\", \"Topic2\", \"Topic2\", \"Topic2\", \"Topic2\", \"Topic2\", \"Topic2\", \"Topic2\", \"Topic2\", \"Topic2\", \"Topic2\", \"Topic2\", \"Topic2\", \"Topic2\", \"Topic2\", \"Topic2\", \"Topic2\", \"Topic2\", \"Topic2\", \"Topic2\", \"Topic2\", \"Topic2\", \"Topic2\", \"Topic2\", \"Topic2\", \"Topic3\", \"Topic3\", \"Topic3\", \"Topic3\", \"Topic3\", \"Topic3\", \"Topic3\", \"Topic3\", \"Topic3\", \"Topic3\", \"Topic3\", \"Topic3\", \"Topic3\", \"Topic3\", \"Topic3\", \"Topic3\", \"Topic3\", \"Topic3\", \"Topic3\", \"Topic3\", \"Topic3\", \"Topic3\", \"Topic3\", \"Topic3\", \"Topic3\", \"Topic3\", \"Topic3\", \"Topic3\", \"Topic3\", \"Topic3\", \"Topic3\", \"Topic3\", \"Topic3\", \"Topic3\", \"Topic3\", \"Topic3\", \"Topic3\", \"Topic4\", \"Topic4\", \"Topic4\", \"Topic4\", \"Topic4\", \"Topic4\", \"Topic4\", \"Topic4\", \"Topic4\", \"Topic4\", \"Topic4\", \"Topic4\", \"Topic4\", \"Topic4\", \"Topic4\", \"Topic4\", \"Topic4\", \"Topic4\", \"Topic4\", \"Topic4\", \"Topic4\", \"Topic4\", \"Topic4\", \"Topic4\", \"Topic4\", \"Topic4\", \"Topic4\", \"Topic4\", \"Topic4\", \"Topic4\", \"Topic4\", \"Topic4\", \"Topic4\", \"Topic4\", \"Topic4\", \"Topic5\", \"Topic5\", \"Topic5\", \"Topic5\", \"Topic5\", \"Topic5\", \"Topic5\", \"Topic5\", \"Topic5\", \"Topic5\", \"Topic5\", \"Topic5\", \"Topic5\", \"Topic5\", \"Topic5\", \"Topic5\", \"Topic5\", \"Topic5\", \"Topic5\", \"Topic5\", \"Topic5\", \"Topic5\", \"Topic5\", \"Topic5\", \"Topic5\", \"Topic5\", \"Topic5\", \"Topic5\", \"Topic5\", \"Topic5\", \"Topic5\", \"Topic5\", \"Topic5\", \"Topic5\", \"Topic6\", \"Topic6\", \"Topic6\", \"Topic6\", \"Topic6\", \"Topic6\", \"Topic6\", \"Topic6\", \"Topic6\", \"Topic6\", \"Topic6\", \"Topic6\", \"Topic6\", \"Topic6\", \"Topic6\", \"Topic6\", \"Topic6\", \"Topic6\", \"Topic6\", \"Topic6\", \"Topic6\", \"Topic6\", \"Topic6\", \"Topic6\", \"Topic6\", \"Topic6\", \"Topic6\", \"Topic6\", \"Topic6\", \"Topic6\", \"Topic6\", \"Topic6\", \"Topic6\", \"Topic6\", \"Topic6\", \"Topic6\", \"Topic6\", \"Topic6\", \"Topic7\", \"Topic7\", \"Topic7\", \"Topic7\", \"Topic7\", \"Topic7\", \"Topic7\", \"Topic7\", \"Topic7\", \"Topic7\", \"Topic7\", \"Topic7\", \"Topic7\", \"Topic7\", \"Topic7\", \"Topic7\", \"Topic7\", \"Topic7\", \"Topic7\", \"Topic7\", \"Topic7\", \"Topic7\", \"Topic7\", \"Topic7\", \"Topic7\", \"Topic7\", \"Topic7\", \"Topic7\", \"Topic7\", \"Topic7\", \"Topic7\", \"Topic7\", \"Topic7\", \"Topic7\", \"Topic7\", \"Topic8\", \"Topic8\", \"Topic8\", \"Topic8\", \"Topic8\", \"Topic8\", \"Topic8\", \"Topic8\", \"Topic8\", \"Topic8\", \"Topic8\", \"Topic8\", \"Topic8\", \"Topic8\", \"Topic8\", \"Topic8\", \"Topic8\", \"Topic8\", \"Topic8\", \"Topic8\", \"Topic8\", \"Topic8\", \"Topic8\", \"Topic8\", \"Topic8\", \"Topic8\", \"Topic8\", \"Topic8\", \"Topic8\", \"Topic8\", \"Topic8\", \"Topic8\", \"Topic9\", \"Topic9\", \"Topic9\", \"Topic9\", \"Topic9\", \"Topic9\", \"Topic9\", \"Topic9\", \"Topic9\", \"Topic9\", \"Topic9\", \"Topic9\", \"Topic9\", \"Topic9\", \"Topic9\", \"Topic9\", \"Topic9\", \"Topic9\", \"Topic9\", \"Topic9\", \"Topic9\", \"Topic9\", \"Topic9\", \"Topic9\", \"Topic9\", \"Topic9\", \"Topic9\", \"Topic9\", \"Topic9\", \"Topic9\", \"Topic9\", \"Topic9\", \"Topic9\", \"Topic9\", \"Topic9\", \"Topic9\", \"Topic9\", \"Topic9\", \"Topic10\", \"Topic10\", \"Topic10\", \"Topic10\", \"Topic10\", \"Topic10\", \"Topic10\", \"Topic10\", \"Topic10\", \"Topic10\", \"Topic10\", \"Topic10\", \"Topic10\", \"Topic10\", \"Topic10\", \"Topic10\", \"Topic10\", \"Topic10\", \"Topic10\", \"Topic10\", \"Topic10\", \"Topic10\", \"Topic10\", \"Topic10\", \"Topic10\", \"Topic10\", \"Topic10\", \"Topic10\", \"Topic10\", \"Topic10\", \"Topic10\", \"Topic10\", \"Topic10\", \"Topic10\", \"Topic10\", \"Topic10\"], \"logprob\": [30.0, 29.0, 28.0, 27.0, 26.0, 25.0, 24.0, 23.0, 22.0, 21.0, 20.0, 19.0, 18.0, 17.0, 16.0, 15.0, 14.0, 13.0, 12.0, 11.0, 10.0, 9.0, 8.0, 7.0, 6.0, 5.0, 4.0, 3.0, 2.0, 1.0, -3.1932, -3.3884, -3.4379, -3.5668, -3.9432, -4.147, -4.275, -4.3214, -4.3217, -4.4452, -4.4557, -4.4704, -4.4874, -4.5106, -4.5487, -4.577, -4.5811, -4.6095, -4.6626, -4.6968, -4.1242, -4.7383, -4.8012, -4.8594, -4.8681, -4.8708, -4.9387, -4.9576, -4.9897, -4.9983, -4.1075, -4.3825, -4.3647, -4.018, -4.2507, -4.6837, -2.2277, -3.0129, -3.9957, -4.0082, -4.2226, -4.2536, -4.2804, -4.327, -4.4019, -4.4264, -4.4846, -4.504, -4.5185, -4.5391, -4.5429, -4.602, -4.6186, -4.7025, -4.7255, -4.6823, -4.8074, -4.821, -4.9084, -4.888, -4.9893, -4.9912, -5.0083, -5.016, -4.9966, -5.0227, -4.1947, -4.2701, -4.6037, -4.5903, -3.3844, -3.7061, -4.0143, -4.175, -4.1918, -4.2437, -4.2709, -4.2742, -4.249, -4.419, -4.4485, -4.4737, -4.6075, -4.6741, -4.5425, -4.673, -4.6965, -4.6983, -4.7207, -4.7529, -4.8192, -4.8698, -4.8955, -4.9165, -4.942, -4.9695, -4.9958, -5.0149, -4.8109, -5.0672, -3.36, -4.0449, -4.9328, -3.7644, -4.1501, -3.9572, -4.7688, -2.9744, -3.1532, -3.4356, -3.9522, -3.9594, -3.9885, -4.1055, -4.1508, -4.2268, -4.2374, -4.2712, -4.3281, -4.5291, -4.5459, -4.5378, -4.5735, -4.5585, -4.627, -4.6867, -4.6965, -4.8311, -4.8481, -4.5451, -4.9, -4.9005, -4.6835, -4.9196, -5.0042, -5.0318, -4.7445, -4.2026, -4.53, -4.6521, -4.6391, -4.5757, -2.7356, -3.4953, -3.653, -3.6955, -3.8885, -3.9463, -4.0239, -4.0606, -4.0701, -4.1839, -4.1841, -4.3066, -4.3259, -4.3674, -4.3891, -4.4179, -4.438, -4.4634, -4.4654, -4.4968, -4.6013, -4.6193, -4.6921, -4.7392, -4.8039, -4.8185, -4.8213, -4.8483, -4.8762, -4.9348, -4.7751, -4.3425, -4.5048, -4.7422, -3.15, -3.5245, -3.9657, -4.001, -4.0744, -4.1832, -4.2516, -4.2583, -4.4616, -4.4807, -4.4943, -4.5275, -4.4457, -4.573, -4.5895, -3.8645, -4.7144, -4.7904, -4.8688, -4.9162, -4.325, -4.9202, -4.933, -4.946, -5.023, -5.0321, -5.0455, -5.0481, -5.0558, -5.0684, -4.3246, -4.072, -4.6697, -4.5429, -4.767, -4.8318, -4.719, -4.8216, -3.3599, -3.5958, -3.6323, -3.7258, -3.8016, -4.1159, -4.1347, -4.1563, -4.1936, -4.2117, -4.2074, -4.3413, -4.3784, -4.4081, -4.4604, -4.5418, -4.5473, -4.5653, -4.5771, -4.593, -4.6097, -4.6506, -4.6508, -4.6426, -4.6766, -4.7259, -4.7949, -4.8357, -4.8794, -4.8896, -4.8264, -4.1917, -4.3286, -4.7012, -4.773, -3.3652, -3.3846, -3.4354, -3.9938, -4.1913, -4.2742, -4.3228, -4.318, -4.2428, -4.4031, -4.2798, -4.4271, -4.4514, -4.4823, -4.5538, -4.5718, -4.5813, -4.6465, -4.6672, -4.7106, -4.7275, -4.746, -4.7604, -4.8073, -4.6147, -4.5362, -4.8483, -4.8558, -4.8923, -4.855, -4.2758, -4.1799, -3.3117, -3.8529, -4.0602, -4.1161, -4.2281, -4.2683, -4.3919, -4.5181, -4.5456, -4.7013, -4.7118, -4.5498, -4.7608, -4.7648, -4.7894, -4.8053, -4.774, -4.8549, -4.858, -4.0121, -4.8907, -4.8327, -4.9175, -4.9403, -4.9219, -4.9638, -4.949, -4.9769, -5.0041, -5.0204, -3.1914, -3.819, -4.4088, -4.6199, -4.6339, -4.8096, -4.6446, -4.8169, -2.7723, -3.1121, -3.7278, -2.754, -3.8839, -3.9491, -3.4001, -4.0423, -4.094, -4.0846, -4.3098, -4.3703, -4.3738, -4.3951, -4.4781, -4.5054, -4.628, -4.6898, -4.733, -4.7669, -4.6231, -4.8957, -4.8704, -4.9467, -4.9641, -5.0127, -5.0418, -5.0691, -5.0729, -5.104, -5.0528, -2.7762, -4.38, -4.3456, -4.8893, -4.9689], \"loglift\": [30.0, 29.0, 28.0, 27.0, 26.0, 25.0, 24.0, 23.0, 22.0, 21.0, 20.0, 19.0, 18.0, 17.0, 16.0, 15.0, 14.0, 13.0, 12.0, 11.0, 10.0, 9.0, 8.0, 7.0, 6.0, 5.0, 4.0, 3.0, 2.0, 1.0, 2.2116, 2.2098, 2.2091, 2.2073, 2.2012, 2.1967, 2.1934, 2.192, 2.192, 2.1882, 2.1879, 2.1874, 2.1868, 2.1852, 2.1847, 2.1836, 2.1835, 2.1824, 2.18, 2.1789, 2.1782, 2.1772, 2.1744, 2.1716, 2.1712, 2.1708, 2.1676, 2.1667, 2.1646, 2.1644, 2.1457, 2.0095, 1.8525, 1.5378, 1.2587, 1.861, 2.2261, 2.2235, 2.2099, 2.2096, 2.2045, 2.2037, 2.2029, 2.2016, 2.1993, 2.1985, 2.1964, 2.1958, 2.1953, 2.1945, 2.1929, 2.1921, 2.1916, 2.1881, 2.1856, 2.185, 2.1832, 2.1827, 2.1784, 2.1753, 2.1741, 2.1738, 2.173, 2.1726, 2.1717, 2.1715, 1.9743, 1.9887, 2.0309, 1.9427, 2.2296, 2.2251, 2.2193, 2.2155, 2.2139, 2.2136, 2.2129, 2.2128, 2.2098, 2.2084, 2.2075, 2.2066, 2.2016, 2.199, 2.1989, 2.1986, 2.198, 2.198, 2.197, 2.1955, 2.1926, 2.1901, 2.1888, 2.1877, 2.1863, 2.1848, 2.1834, 2.1823, 2.1806, 2.1792, 2.0199, 1.961, 2.1622, 1.745, 1.7134, 0.8805, 1.9392, 2.2598, 2.2582, 2.2469, 2.2464, 2.2463, 2.2456, 2.2428, 2.2417, 2.2397, 2.2394, 2.2385, 2.2367, 2.2299, 2.2293, 2.2291, 2.2282, 2.2281, 2.2261, 2.2235, 2.2232, 2.2168, 2.216, 2.214, 2.2134, 2.2133, 2.2124, 2.2123, 2.2059, 2.2054, 2.2032, 2.1954, 1.9424, 1.8548, 1.7354, 0.9801, 2.2646, 2.2574, 2.2551, 2.2544, 2.2509, 2.2497, 2.248, 2.2472, 2.2469, 2.2441, 2.2441, 2.2406, 2.24, 2.2387, 2.2379, 2.2371, 2.2364, 2.2355, 2.2355, 2.2343, 2.2304, 2.2297, 2.2266, 2.2245, 2.2215, 2.2208, 2.2205, 2.2193, 2.2177, 2.2147, 2.2066, 2.0907, 1.861, 2.0874, 2.294, 2.2893, 2.2815, 2.2799, 2.279, 2.276, 2.2742, 2.2741, 2.2674, 2.2668, 2.2663, 2.265, 2.2648, 2.2633, 2.2626, 2.2618, 2.2572, 2.2529, 2.2496, 2.247, 2.2469, 2.2468, 2.2459, 2.2413, 2.2409, 2.2402, 2.2394, 2.2392, 2.2388, 2.238, 2.2148, 1.9471, 1.9771, 1.8857, 1.8852, 1.8391, 1.5774, 1.7001, 2.3229, 2.3195, 2.3189, 2.3172, 2.3149, 2.3087, 2.3082, 2.3076, 2.3066, 2.3061, 2.306, 2.3021, 2.3009, 2.2998, 2.2979, 2.2948, 2.2946, 2.2938, 2.2934, 2.2927, 2.292, 2.2902, 2.2902, 2.2896, 2.2891, 2.2866, 2.2825, 2.2813, 2.2789, 2.2784, 2.2781, 2.197, 2.2045, 1.6363, 2.0109, 2.358, 2.3576, 2.3572, 2.3467, 2.3413, 2.3372, 2.3371, 2.337, 2.3363, 2.3344, 2.3329, 2.3326, 2.3324, 2.3307, 2.3281, 2.3277, 2.3273, 2.3244, 2.3235, 2.3212, 2.3206, 2.3196, 2.3189, 2.3165, 2.3161, 2.3151, 2.3142, 2.3138, 2.3117, 2.311, 2.2751, 2.1758, 2.3885, 2.3793, 2.3734, 2.3727, 2.3695, 2.3682, 2.364, 2.3581, 2.3578, 2.3508, 2.3503, 2.3493, 2.3478, 2.3476, 2.3451, 2.3441, 2.3436, 2.3427, 2.3412, 2.3408, 2.3406, 2.3392, 2.339, 2.3376, 2.3375, 2.3362, 2.336, 2.3353, 2.3335, 2.3321, 2.2584, 2.1427, 2.0513, 2.0841, 1.8331, 1.9641, 0.7354, 1.2881, 2.3933, 2.3908, 2.3819, 2.3797, 2.3786, 2.3769, 2.3761, 2.3747, 2.3732, 2.3686, 2.3666, 2.3645, 2.3643, 2.3636, 2.3604, 2.3593, 2.3539, 2.3505, 2.3486, 2.347, 2.3458, 2.338, 2.3371, 2.3365, 2.3355, 2.332, 2.3303, 2.3285, 2.3282, 2.326, 2.3229, 2.0615, 2.0756, 1.8882, 2.2096, 1.5189]}, \"token.table\": {\"Topic\": [7, 1, 8, 3, 9, 9, 10, 3, 6, 4, 6, 1, 4, 8, 9, 9, 3, 10, 8, 1, 7, 9, 6, 8, 6, 3, 5, 5, 1, 7, 9, 10, 10, 5, 9, 10, 1, 5, 9, 7, 6, 7, 4, 6, 2, 7, 3, 2, 10, 3, 2, 1, 1, 1, 7, 3, 1, 3, 2, 1, 9, 4, 7, 10, 2, 9, 10, 5, 6, 6, 1, 1, 3, 4, 7, 5, 5, 9, 7, 6, 5, 10, 7, 3, 9, 4, 8, 8, 9, 9, 4, 6, 9, 1, 7, 8, 1, 8, 8, 2, 7, 10, 1, 9, 2, 5, 2, 8, 10, 1, 4, 2, 2, 8, 5, 7, 8, 2, 3, 3, 3, 4, 5, 6, 6, 2, 6, 5, 10, 4, 6, 1, 3, 8, 10, 9, 5, 5, 7, 4, 8, 4, 5, 8, 3, 9, 7, 1, 3, 2, 4, 8, 4, 2, 3, 4, 8, 10, 6, 3, 7, 9, 5, 4, 2, 4, 4, 2, 9, 8, 3, 1, 9, 10, 4, 3, 5, 5, 10, 10, 8, 9, 1, 4, 5, 9, 10, 10, 3, 6, 10, 2, 4, 8, 1, 3, 4, 6, 10, 2, 7, 1, 2, 5, 8, 2, 5, 9, 6, 8, 1, 8, 2, 3, 7, 4, 10, 4, 2, 7, 5, 6, 5, 9, 9, 9, 1, 6, 10, 10, 6, 5, 5, 3, 9, 2, 5, 4, 2, 9, 2, 3, 5, 10, 8, 3, 1, 5, 5, 6, 6, 7, 8, 9, 1, 7, 7, 7, 10, 8, 3, 8, 2, 5, 9, 4, 3, 9, 7, 2, 2, 7, 10, 1, 3, 6, 9, 1, 7, 8, 10, 1, 7, 2, 4, 2, 6, 10, 5, 10, 1, 3, 6, 6, 7, 9, 4, 9, 7, 8, 9, 5, 4, 5, 2, 3, 7, 9, 10, 3, 7, 3, 9, 6, 1, 1, 5, 9, 2, 3, 2, 3, 4, 5, 1, 4, 5, 9, 2, 2, 3, 8, 8, 1, 7, 5, 7, 1, 1, 6, 3, 1, 1, 5, 8, 1, 3, 7, 8, 10, 8, 10, 1, 2, 5, 6, 7, 8, 10, 4, 4, 4, 10, 9, 5, 5, 6, 6, 4, 7, 7, 6, 1, 9, 6, 3, 4, 1, 4, 8, 2, 2, 8, 10, 6, 5, 9, 2, 1, 2, 1, 2, 4, 5, 6, 7, 8, 9, 6, 9, 9, 1, 1, 7, 3, 5, 10, 10, 4, 5, 1, 2, 4, 6, 10, 8, 1, 3, 2, 4, 6, 10, 3, 6, 10, 5, 8, 3, 4, 7, 1, 10, 2, 8, 3, 4, 6, 9, 10, 8, 5, 7, 4, 1, 6], \"Freq\": [0.9453098575074669, 0.9693186117206936, 0.9222976220146346, 0.9058557849235408, 0.9256650076668016, 0.9367664600416676, 0.9582045613957338, 0.9806814153188919, 0.956998707141458, 0.9457648507070561, 0.9294408358262761, 0.9515446632070422, 0.966276323342212, 0.9732805906532431, 0.9704378446672478, 0.9662544170098661, 0.9751453491115304, 0.9910082546996795, 0.9758759430710249, 0.1769727436364514, 0.7078909745458056, 0.0884863718182257, 0.9492034639097459, 0.9714133672508092, 0.9698495379465112, 0.9328063114473273, 0.9799616742760123, 0.9607914140080159, 0.9680880463544621, 0.9912428131028079, 0.12124694757013982, 0.8487286329909788, 0.972039041929513, 0.9832537866469971, 0.8622716218553304, 0.1281755113568734, 0.9509628236079753, 0.9753116502304019, 0.947281589924157, 0.9551335200403159, 0.9305804500161442, 0.9376146367491379, 0.02292078316585371, 0.9626728929658558, 0.9336108959091595, 0.9318339258522117, 0.9527918991965808, 0.7574059147772666, 0.24099279106549393, 0.9389355879107666, 0.9580302136296109, 0.961102330510268, 0.9515543495750449, 0.8072213104292034, 0.17938251342871187, 0.9731883709715727, 0.9645577402151383, 0.9196819184387275, 0.9360126240860992, 0.9709711531700133, 0.968331817330525, 0.9763667186296217, 0.9837214852302965, 0.970746269006167, 0.9826558336539836, 0.7040725205431095, 0.25602637110658527, 0.23145925966717878, 0.7329543222793995, 0.9373185056613772, 0.958801942607515, 0.3834459283622647, 0.6060919512822893, 0.9217533244870274, 0.9638045697995251, 0.961902814200847, 0.6698683512414003, 0.3203718201589306, 0.9144152406160887, 0.9509132814971519, 0.9652748013991566, 0.968786730331101, 0.9841143761840406, 0.9751295884728267, 0.9432733554506237, 0.9323585329023314, 0.03007608170652682, 0.9382493109613027, 0.9492147469993412, 0.9374405201810935, 0.9569571647557404, 0.9734868480386536, 0.9547375856570021, 0.9935737622158294, 0.9493506279435527, 0.9500330692094663, 0.9629529244739682, 0.9654660294153871, 0.9637156209253915, 0.9676798400146986, 0.9317054976703069, 0.9532838514413275, 0.24506743739133688, 0.7352023121740107, 0.9714984612064868, 0.9830937056741798, 0.9677232603770507, 0.956523248202193, 0.8989617195938611, 0.9699599217639001, 0.9485348110510426, 0.9762077827254161, 0.8001764151992397, 0.15241455527604567, 0.9165722284618023, 0.925937515450456, 0.9522160508410639, 0.9811176945527114, 0.9405313861789335, 0.9574779382951369, 0.9696927814598433, 0.9493262011461088, 0.9605853759247666, 0.9747834447961568, 0.9514447246256057, 0.9618163308432347, 0.9631000238110635, 0.9776726063066922, 0.9285957355211985, 0.2882770322120374, 0.7001013639435193, 0.961223097262837, 0.9887437253706435, 0.9835271607290937, 0.9953772820158003, 0.9181953614631625, 0.9961049570153373, 0.957587512784713, 0.9796656264348853, 0.9225666887817053, 0.9464853789667868, 0.9482464134796827, 0.1441537695335075, 0.8360918632943436, 0.9659573081058277, 0.9425366912578458, 0.9789636786620903, 0.9326513281021585, 0.9588548629785648, 0.9215664564690934, 0.9956922770401624, 0.9732844714436798, 0.9049969042253425, 0.20121361504436888, 0.10060680752218444, 0.6707120501478963, 0.03353560250739481, 0.9693245208807667, 0.9817504779691593, 0.9573262942470936, 0.9487826142890663, 0.9464991339289296, 0.9707816952334221, 0.95957915113432, 0.9697543015687762, 0.9702160048347159, 0.9537834470579919, 0.9353344575116015, 0.9253780494051412, 0.9693165872443236, 0.9836656878433191, 0.2578043645011349, 0.5800598201275535, 0.12890218225056746, 0.9402812427583033, 0.13891896287523717, 0.833513777251423, 0.9565986501770618, 0.9021641337623812, 0.9812106064239245, 0.9690494546245263, 0.9382666171232952, 0.505261101311693, 0.2720636699370655, 0.07773247712487585, 0.14250954139560573, 0.9594929429569975, 0.9632581630510711, 0.9445366161030858, 0.9584545596094006, 0.9460346333760069, 0.9833514735015493, 0.9853029416583277, 0.014706014054601904, 0.12337334318383793, 0.581617189295236, 0.2643714496796527, 0.9455657222911351, 0.9490976824289298, 0.994239678586369, 0.004304067872668264, 0.9685835767346701, 0.9698897460558057, 0.9443150029948342, 0.9760111298131997, 0.9596377769708966, 0.9609928227829431, 0.9879308029994075, 0.6512550815173996, 0.31012146738923796, 0.9802530871968047, 0.9511273817962463, 0.9486491015487271, 0.9611763287207966, 0.9661510783857422, 0.016989770783733652, 0.976911820064685, 0.9868105854761885, 0.979177734510563, 0.9539287296484589, 0.9745584326819156, 0.989431253309799, 0.9722626374637519, 0.9545115357158047, 0.9004939605723773, 0.9265012691442686, 0.979234595136648, 0.9193785997270609, 0.9230666739324481, 0.9809782482790924, 0.9272794280986837, 0.9400418800921932, 0.965107882782636, 0.9698268093383843, 0.9129953132136907, 0.1557715528293536, 0.8411663852785094, 0.9380767643576206, 0.21385064290889372, 0.7776387014868863, 0.9283719761707069, 0.25906360634819914, 0.02527449818031211, 0.7140045735938171, 0.9803128689969817, 0.9133554438847695, 0.9567728580004445, 0.027336367371441274, 0.9771817538461622, 0.9779992419444269, 0.5446123257100551, 0.034038270356878446, 0.13615308142751378, 0.27230616285502757, 0.10328533663606634, 0.8607111386338862, 0.9793321395839076, 0.9562609135881229, 0.9593429260874917, 0.9427307386420222, 0.07009636974538369, 0.911252806689988, 0.7850670793338923, 0.18318231851124153, 0.9226280156745036, 0.939831013780672, 0.8041594586219639, 0.18473933508882953, 0.964845144585405, 0.9581373708072503, 0.9537632834120181, 0.9743743550358902, 0.9301402700116771, 0.9723234067507325, 0.9364325408761345, 0.9811582609621502, 0.9636035158035289, 0.9367917183309034, 0.05204398435171685, 0.9770471684299282, 0.9711731272033707, 0.11918939199851993, 0.8641230919892695, 0.9097030789556916, 0.92299701994547, 0.9369483845330725, 0.9271593623517933, 0.9718162748725189, 0.9629334599407047, 0.9536281489095276, 0.9831609052786546, 0.9558779761772859, 0.9608288371251567, 0.9592995852232841, 0.9760191501332464, 0.9688427149776765, 0.9677657560213326, 0.9881179200046263, 0.9752520307014446, 0.9679945850739353, 0.9564820187237434, 0.9893641664365482, 0.9730180993048287, 0.9754288187768555, 0.14156161254154778, 0.22649858006647644, 0.509621805149572, 0.11324929003323822, 0.9475881428294339, 0.9364891621737227, 0.9884919814473839, 0.9673591805922193, 0.9423195720191796, 0.969747293892698, 0.967441298608602, 0.2627609348481781, 0.08758697828272603, 0.6569023371204452, 0.9573643040344046, 0.9256765226872276, 0.7655154183360614, 0.09568942729200768, 0.07176707046900575, 0.02392235682300192, 0.032399018720440126, 0.7127784118496828, 0.032399018720440126, 0.19439411232264078, 0.9883458167695466, 0.9795189558446017, 0.9863251494403121, 0.9722968207226148, 0.9218820574337034, 0.9547509102977203, 0.9749685856351308, 0.9532316855868403, 0.9649427370295727, 0.9383465606473954, 0.9771608216617518, 0.9472609049041142, 0.9850993824957793, 0.9789944496995063, 0.702899911581551, 0.2761392509784664, 0.9601323430730906, 0.03185977667739605, 0.09557933003218815, 0.1274391067095842, 0.03185977667739605, 0.7327748635801091, 0.9723999042837397, 0.9669526517141555, 0.05434081674003634, 0.13585204185009084, 0.02717040837001817, 0.4890673506603271, 0.16302245022010903, 0.02717040837001817, 0.10868163348007268, 0.9649493429684298, 0.9871494301285474, 0.9752984403539556, 0.9560674025026333, 0.9349205504073522, 0.9709407780027229, 0.06929084158744814, 0.9007809406368257, 0.9790624420286429, 0.9495285982163648, 0.9832847104876395, 0.9855320432132778, 0.9631820016699049, 0.028752549476971086, 0.9488341327400458, 0.9847243922247967, 0.9387637149908337, 0.985613036841891, 0.9811592137996938, 0.9759895291383032, 0.9321900501349942, 0.9598955016426477, 0.17865621393538417, 0.20417853021186763, 0.5870132743591194, 0.9829965449981267, 0.9734072942439026, 0.9217301119383504, 0.9546207342428289, 0.6965630598402821, 0.27862522393611283, 0.17950904104451226, 0.022438630130564033, 0.15707041091394822, 0.044877260261128066, 0.022438630130564033, 0.20194767117507628, 0.044877260261128066, 0.33657945195846045, 0.6592977530029764, 0.31025776611904776, 0.9236742007130595, 0.9732643010765225, 0.9914213127698159, 0.9456967275834062, 0.9831199719385737, 0.9938230551913554, 0.9795588918805856, 0.953500855370152, 0.9367995672972196, 0.9766547965752541, 0.029377721554742397, 0.146888607773712, 0.587554431094848, 0.17626632932845437, 0.029377721554742397, 0.9635073124939778, 0.9749860996022629, 0.9610085884812192, 0.03290534447565097, 0.3290534447565097, 0.19743206685390582, 0.4277694781834626, 0.3556412942605401, 0.6322511897965157, 0.9719362428235181, 0.9517063121760868, 0.9792684460866342, 0.7381426064790472, 0.24604753549301575, 0.9811746517158737, 0.016150767866458086, 0.9690460719874852, 0.9583162842835222, 0.9850276444402369, 0.7518862025358086, 0.040642497434368034, 0.020321248717184017, 0.020321248717184017, 0.16256998973747214, 0.9436062324963659, 0.9809466027327717, 0.9610489813555564, 0.9628097824334482, 0.9867261585823323, 0.9632933333374916], \"Term\": [\"actually\", \"added\", \"ancient\", \"animal\", \"appears\", \"ariana\", \"army\", \"ass\", \"attack\", \"away\", \"awesome\", \"baby\", \"bad\", \"bag\", \"bagging\", \"bags\", \"ball\", \"bang\", \"banned\", \"battle\", \"battle\", \"battle\", \"beach\", \"beautiful\", \"bed\", \"believe\", \"best\", \"better\", \"big\", \"black\", \"blast\", \"blast\", \"blood\", \"bloody\", \"body\", \"body\", \"bomb\", \"book\", \"breaking\", \"brown\", \"buildings\", \"burned\", \"burning\", \"burning\", \"business\", \"cake\", \"came\", \"car\", \"car\", \"care\", \"cause\", \"chance\", \"change\", \"check\", \"check\", \"china\", \"city\", \"class\", \"cliff\", \"collapse\", \"come\", \"coming\", \"content\", \"cool\", \"crash\", \"cross\", \"cross\", \"crush\", \"crush\", \"damn\", \"data\", \"day\", \"day\", \"days\", \"dead\", \"deal\", \"death\", \"death\", \"deluged\", \"demolish\", \"desolation\", \"destroy\", \"destroyed\", \"destruction\", \"detonation\", \"disaster\", \"disaster\", \"disney\", \"drake\", \"driving\", \"drown\", \"earth\", \"ebay\", \"emergency\", \"emmerdale\", \"end\", \"explosion\", \"face\", \"failure\", \"fall\", \"family\", \"fan\", \"fatality\", \"fatality\", \"favorite\", \"fear\", \"feel\", \"feeling\", \"film\", \"finally\", \"fires\", \"flames\", \"flattened\", \"flattened\", \"flood\", \"follow\", \"food\", \"free\", \"friends\", \"fuck\", \"fucking\", \"fun\", \"game\", \"gbbo\", \"gems\", \"gets\", \"getting\", \"girl\", \"girls\", \"god\", \"god\", \"goes\", \"going\", \"good\", \"got\", \"grande\", \"great\", \"guy\", \"guys\", \"haha\", \"half\", \"happy\", \"harm\", \"harm\", \"hat\", \"hate\", \"hazard\", \"hazardous\", \"head\", \"hear\", \"heard\", \"heart\", \"heat\", \"hellfire\", \"hellfire\", \"hellfire\", \"hellfire\", \"help\", \"hey\", \"high\", \"hit\", \"hollywood\", \"home\", \"hope\", \"horrible\", \"hot\", \"hours\", \"house\", \"ignition\", \"injuries\", \"injury\", \"inundated\", \"inundated\", \"inundated\", \"islam\", \"job\", \"job\", \"jobs\", \"justin\", \"kids\", \"king\", \"knock\", \"know\", \"know\", \"know\", \"know\", \"ladies\", \"land\", \"laughing\", \"learn\", \"leather\", \"left\", \"let\", \"let\", \"life\", \"life\", \"life\", \"light\", \"lightning\", \"like\", \"like\", \"liked\", \"link\", \"listen\", \"literally\", \"little\", \"live\", \"lol\", \"long\", \"long\", \"look\", \"looking\", \"looks\", \"lord\", \"lot\", \"loud\", \"loud\", \"love\", \"low\", \"makes\", \"making\", \"man\", \"market\", \"mass\", \"means\", \"meek\", \"meltdown\", \"men\", \"michael\", \"military\", \"mode\", \"mom\", \"money\", \"movie\", \"murderer\", \"music\", \"music\", \"natural\", \"need\", \"need\", \"needs\", \"new\", \"new\", \"new\", \"news\", \"nice\", \"night\", \"night\", \"nowplaying\", \"nuclear\", \"obliterate\", \"obliterate\", \"obliterate\", \"obliterate\", \"offensive\", \"offensive\", \"okay\", \"old\", \"online\", \"order\", \"pandemonium\", \"pandemonium\", \"panic\", \"panic\", \"party\", \"peace\", \"people\", \"people\", \"person\", \"phone\", \"photo\", \"photos\", \"pick\", \"plan\", \"plans\", \"play\", \"playing\", \"police\", \"police\", \"policy\", \"power\", \"quarantine\", \"quarantine\", \"quiz\", \"radio\", \"rain\", \"reactor\", \"read\", \"real\", \"red\", \"reddit\", \"released\", \"remember\", \"rescue\", \"right\", \"road\", \"ruin\", \"run\", \"said\", \"save\", \"says\", \"school\", \"screamed\", \"screaming\", \"screams\", \"screams\", \"screams\", \"screams\", \"second\", \"seen\", \"self\", \"send\", \"sensor\", \"series\", \"services\", \"set\", \"set\", \"set\", \"shit\", \"sinkhole\", \"sinking\", \"sinking\", \"sinking\", \"sinking\", \"siren\", \"siren\", \"siren\", \"siren\", \"sirens\", \"smoke\", \"song\", \"soon\", \"sorry\", \"sound\", \"space\", \"spot\", \"star\", \"start\", \"state\", \"stay\", \"stock\", \"stop\", \"storm\", \"storm\", \"story\", \"stretcher\", \"stretcher\", \"stretcher\", \"stretcher\", \"stretcher\", \"structural\", \"summer\", \"sunk\", \"sunk\", \"sunk\", \"sunk\", \"sunk\", \"sunk\", \"sunk\", \"sure\", \"survive\", \"survived\", \"tablet\", \"talk\", \"team\", \"thank\", \"thank\", \"thanks\", \"thing\", \"things\", \"think\", \"thought\", \"thunder\", \"thunder\", \"time\", \"times\", \"today\", \"tomorrow\", \"tonight\", \"train\", \"trapped\", \"traumatised\", \"traumatised\", \"traumatised\", \"trouble\", \"truck\", \"trust\", \"trying\", \"tsunami\", \"tsunami\", \"twister\", \"twister\", \"twister\", \"twister\", \"twister\", \"twister\", \"twister\", \"twister\", \"twitter\", \"twitter\", \"update\", \"use\", \"video\", \"wait\", \"wanna\", \"want\", \"war\", \"watch\", \"waves\", \"way\", \"weapon\", \"weapon\", \"weapon\", \"weapon\", \"weapon\", \"weapons\", \"week\", \"went\", \"whirlwind\", \"whirlwind\", \"whirlwind\", \"whirlwind\", \"white\", \"white\", \"wind\", \"woman\", \"women\", \"words\", \"words\", \"work\", \"world\", \"world\", \"wounded\", \"wreck\", \"wrecked\", \"wrecked\", \"wrecked\", \"wrecked\", \"wrecked\", \"wrong\", \"year\", \"years\", \"yes\", \"youtube\", \"zone\"]}, \"R\": 30, \"lambda.step\": 0.01, \"plot.opts\": {\"xlab\": \"PC1\", \"ylab\": \"PC2\"}, \"topic.order\": [8, 3, 10, 2, 7, 4, 9, 5, 1, 6]};\n",
              "\n",
              "function LDAvis_load_lib(url, callback){\n",
              "  var s = document.createElement('script');\n",
              "  s.src = url;\n",
              "  s.async = true;\n",
              "  s.onreadystatechange = s.onload = callback;\n",
              "  s.onerror = function(){console.warn(\"failed to load library \" + url);};\n",
              "  document.getElementsByTagName(\"head\")[0].appendChild(s);\n",
              "}\n",
              "\n",
              "if(typeof(LDAvis) !== \"undefined\"){\n",
              "   // already loaded: just create the visualization\n",
              "   !function(LDAvis){\n",
              "       new LDAvis(\"#\" + \"ldavis_el124140126446759272236794385\", ldavis_el124140126446759272236794385_data);\n",
              "   }(LDAvis);\n",
              "}else if(typeof define === \"function\" && define.amd){\n",
              "   // require.js is available: use it to load d3/LDAvis\n",
              "   require.config({paths: {d3: \"https://cdnjs.cloudflare.com/ajax/libs/d3/3.5.5/d3.min\"}});\n",
              "   require([\"d3\"], function(d3){\n",
              "      window.d3 = d3;\n",
              "      LDAvis_load_lib(\"https://cdn.rawgit.com/bmabey/pyLDAvis/files/ldavis.v1.0.0.js\", function(){\n",
              "        new LDAvis(\"#\" + \"ldavis_el124140126446759272236794385\", ldavis_el124140126446759272236794385_data);\n",
              "      });\n",
              "    });\n",
              "}else{\n",
              "    // require.js not available: dynamically load d3 & LDAvis\n",
              "    LDAvis_load_lib(\"https://cdnjs.cloudflare.com/ajax/libs/d3/3.5.5/d3.min.js\", function(){\n",
              "         LDAvis_load_lib(\"https://cdn.rawgit.com/bmabey/pyLDAvis/files/ldavis.v1.0.0.js\", function(){\n",
              "                 new LDAvis(\"#\" + \"ldavis_el124140126446759272236794385\", ldavis_el124140126446759272236794385_data);\n",
              "            })\n",
              "         });\n",
              "}\n",
              "</script>"
            ],
            "text/plain": [
              "PreparedData(topic_coordinates=               x          y  topics  cluster       Freq\n",
              "topic                                                  \n",
              "7      32.420952   8.115230       1        1  10.845645\n",
              "2       0.648955  71.707100       2        1  10.735420\n",
              "9      71.019684   9.971006       3        1  10.630399\n",
              "1       3.785981  33.185135       4        1  10.352581\n",
              "6     -42.666500  -9.222070       5        1  10.320552\n",
              "3      -3.621689 -43.526516       6        1   9.986428\n",
              "8      -3.632402  -4.171708       7        1   9.676016\n",
              "4     -36.584400  35.804413       8        1   9.335174\n",
              "0      44.391380  50.615383       9        1   9.060009\n",
              "5      40.235809 -31.591665      10        1   9.057777, topic_info=             Term        Freq       Total Category  logprob  loglift\n",
              "720          like  232.000000  232.000000  Default  30.0000  30.0000\n",
              "529         great  134.000000  134.000000  Default  29.0000  29.0000\n",
              "752          loud  117.000000  117.000000  Default  28.0000  28.0000\n",
              "81           bang  114.000000  114.000000  Default  27.0000  27.0000\n",
              "842           new  158.000000  158.000000  Default  26.0000  26.0000\n",
              "...           ...         ...         ...      ...      ...      ...\n",
              "842           new  112.640993  158.262292  Topic10  -2.7762   2.0615\n",
              "1169    stretcher   22.656018   31.387540  Topic10  -4.3800   2.0756\n",
              "1268  traumatised   23.449408   39.181397  Topic10  -4.3456   1.8882\n",
              "113         blast   13.614079   16.495261  Topic10  -4.8893   2.2096\n",
              "1354    whirlwind   12.572368   30.390200  Topic10  -4.9689   1.5189\n",
              "\n",
              "[385 rows x 6 columns], token_table=      Topic      Freq      Term\n",
              "term                           \n",
              "10        7  0.945310  actually\n",
              "12        1  0.969319     added\n",
              "31        8  0.922298   ancient\n",
              "34        3  0.905856    animal\n",
              "44        9  0.925665   appears\n",
              "...     ...       ...       ...\n",
              "1396      5  0.980947      year\n",
              "1397      7  0.961049     years\n",
              "1398      4  0.962810       yes\n",
              "1401      1  0.986726   youtube\n",
              "1402      6  0.963293      zone\n",
              "\n",
              "[445 rows x 3 columns], R=30, lambda_step=0.01, plot_opts={'xlab': 'PC1', 'ylab': 'PC2'}, topic_order=[8, 3, 10, 2, 7, 4, 9, 5, 1, 6])"
            ]
          },
          "metadata": {
            "tags": []
          },
          "execution_count": 15
        }
      ]
    },
    {
      "cell_type": "markdown",
      "metadata": {
        "id": "ciDgeUFrDw_I",
        "colab_type": "text"
      },
      "source": [
        "##### Visualizing LDA results of a real disaster tweets with pyLDAvis"
      ]
    },
    {
      "cell_type": "code",
      "metadata": {
        "id": "QizdctAODuG6",
        "colab_type": "code",
        "colab": {
          "base_uri": "https://localhost:8080/",
          "height": 861
        },
        "outputId": "673a4c9a-d176-4f7a-883f-8345c7a1a2a5"
      },
      "source": [
        "pyLDAvis.enable_notebook()\n",
        "dash = pyLDAvis.sklearn.prepare(lda_real, real_vectorized, vectorizer_real, mds='tsne')\n",
        "dash"
      ],
      "execution_count": null,
      "outputs": [
        {
          "output_type": "execute_result",
          "data": {
            "text/html": [
              "\n",
              "<link rel=\"stylesheet\" type=\"text/css\" href=\"https://cdn.rawgit.com/bmabey/pyLDAvis/files/ldavis.v1.0.0.css\">\n",
              "\n",
              "\n",
              "<div id=\"ldavis_el1241401264431292569418280342\"></div>\n",
              "<script type=\"text/javascript\">\n",
              "\n",
              "var ldavis_el1241401264431292569418280342_data = {\"mdsDat\": {\"x\": [32.42095184326172, 0.648955225944519, 71.01968383789062, 3.7859814167022705, -42.666500091552734, -3.6216893196105957, -3.632401704788208, -36.58440017700195, 44.391380310058594, 40.235809326171875], \"y\": [8.115229606628418, 71.70709991455078, 9.971006393432617, 33.18513488769531, -9.22206974029541, -43.52651596069336, -4.171707630157471, 35.804412841796875, 50.61538314819336, -31.591665267944336], \"topics\": [1, 2, 3, 4, 5, 6, 7, 8, 9, 10], \"cluster\": [1, 1, 1, 1, 1, 1, 1, 1, 1, 1], \"Freq\": [13.128125905597726, 11.566724006457209, 11.192658309631662, 10.914337318966396, 10.193260589733963, 9.802416159901966, 9.15198026354602, 9.102389584692723, 7.826939697332559, 7.121168164139764]}, \"tinfo\": {\"Term\": [\"malaysia\", \"flight\", \"airlines\", \"suicide\", \"families\", \"california\", \"storm\", \"wreckage\", \"people\", \"year\", \"wildfire\", \"news\", \"like\", \"confirmed\", \"crash\", \"fires\", \"disaster\", \"legionnaires\", \"bomber\", \"investigators\", \"weather\", \"old\", \"conclusively\", \"police\", \"northern\", \"bombing\", \"emergency\", \"typhoon\", \"bomb\", \"homes\", \"typhoon\", \"obama\", \"mass\", \"new\", \"world\", \"migrants\", \"water\", \"terrorist\", \"floods\", \"hundreds\", \"devastated\", \"soudelor\", \"boat\", \"trench\", \"declares\", \"survivors\", \"saipan\", \"life\", \"signs\", \"india\", \"issues\", \"food\", \"attack\", \"rescued\", \"weapon\", \"rescue\", \"dead\", \"declaration\", \"movie\", \"amid\", \"disaster\", \"nuclear\", \"day\", \"weapons\", \"rescuers\", \"home\", \"today\", \"years\", \"missing\", \"state\", \"released\", \"abc\", \"report\", \"murder\", \"terrorism\", \"charged\", \"says\", \"breaking\", \"projected\", \"natural\", \"injured\", \"trauma\", \"post\", \"shot\", \"little\", \"past\", \"tonight\", \"summer\", \"nagasaki\", \"ago\", \"houses\", \"history\", \"youth\", \"fox\", \"islamic\", \"shots\", \"war\", \"police\", \"news\", \"derailment\", \"man\", \"hiroshima\", \"times\", \"japan\", \"atomic\", \"car\", \"old\", \"emergency\", \"burning\", \"buildings\", \"caused\", \"update\", \"got\", \"lightning\", \"iran\", \"flames\", \"north\", \"wind\", \"thunder\", \"pic\", \"plan\", \"street\", \"story\", \"black\", \"photo\", \"lost\", \"god\", \"lives\", \"work\", \"building\", \"place\", \"run\", \"gas\", \"closed\", \"global\", \"deal\", \"engulfed\", \"evacuation\", \"car\", \"east\", \"rioting\", \"crews\", \"police\", \"california\", \"fires\", \"northern\", \"earthquake\", \"oil\", \"latest\", \"area\", \"affected\", \"tornado\", \"spill\", \"bus\", \"sinkhole\", \"school\", \"evacuate\", \"group\", \"road\", \"security\", \"oklahoma\", \"explosion\", \"utc\", \"refugio\", \"costlier\", \"hostage\", \"kill\", \"razed\", \"injuries\", \"hijacker\", \"early\", \"come\", \"caught\", \"drought\", \"bigger\", \"forest\", \"volcano\", \"news\", \"police\", \"time\", \"people\", \"weather\", \"reunion\", \"debris\", \"severe\", \"live\", \"island\", \"heat\", \"rain\", \"help\", \"wave\", \"nws\", \"shooting\", \"issued\", \"pakistan\", \"good\", \"military\", \"flash\", \"red\", \"heavy\", \"alabama\", \"cdt\", \"need\", \"airplane\", \"nigerian\", \"wounds\", \"far\", \"pilot\", \"madhya\", \"pradesh\", \"horror\", \"warning\", \"august\", \"accident\", \"flood\", \"possible\", \"flooding\", \"damage\", \"tragedy\", \"calgary\", \"aircraft\", \"death\", \"killed\", \"suicide\", \"bombing\", \"homes\", \"saudi\", \"bomber\", \"mosque\", \"wounded\", \"collapse\", \"massacre\", \"isis\", \"bridge\", \"going\", \"searching\", \"anniversary\", \"bestnaijamade\", \"fukushima\", \"land\", \"aug\", \"detonated\", \"cnn\", \"village\", \"claims\", \"giant\", \"town\", \"captures\", \"climate\", \"nearby\", \"let\", \"washington\", \"marks\", \"pkk\", \"structural\", \"bomb\", \"video\", \"failure\", \"hiroshima\", \"japan\", \"killed\", \"atomic\", \"hostages\", \"families\", \"wreckage\", \"investigators\", \"fatal\", \"watch\", \"city\", \"army\", \"turkey\", \"truck\", \"traffic\", \"said\", \"landslide\", \"right\", \"china\", \"cause\", \"hot\", \"inside\", \"crisis\", \"think\", \"ebola\", \"wreck\", \"media\", \"women\", \"south\", \"half\", \"injury\", \"great\", \"love\", \"outrage\", \"center\", \"officials\", \"sue\", \"near\", \"famine\", \"outbreak\", \"year\", \"storm\", \"like\", \"thunderstorm\", \"wild\", \"hurricane\", \"county\", \"service\", \"west\", \"national\", \"power\", \"looks\", \"best\", \"dust\", \"mph\", \"called\", \"high\", \"survived\", \"piece\", \"read\", \"line\", \"river\", \"services\", \"patience\", \"winds\", \"related\", \"science\", \"record\", \"stop\", \"japanese\", \"hit\", \"look\", \"train\", \"derailed\", \"wildfire\", \"crash\", \"legionnaires\", \"airport\", \"minute\", \"sandstorm\", \"swallowed\", \"bodies\", \"picking\", \"family\", \"case\", \"helicopter\", \"trapped\", \"landing\", \"shit\", \"nearly\", \"ambulance\", \"support\", \"worldnews\", \"reported\", \"survive\", \"galactic\", \"alberta\", \"living\", \"philippines\", \"loud\", \"hear\", \"rubble\", \"members\", \"crazy\", \"pakistani\", \"virgin\", \"suspect\", \"violent\", \"casualties\", \"outbreak\", \"killed\", \"crashed\", \"disea\", \"news\", \"air\", \"malaysia\", \"flight\", \"airlines\", \"conclusively\", \"officer\", \"hail\", \"israeli\", \"house\", \"coaches\", \"end\", \"hope\", \"site\", \"confirmed\", \"saw\", \"mount\", \"hijack\", \"richmond\", \"temple\", \"christian\", \"muslims\", \"body\", \"confirms\", \"plans\", \"jonathan\", \"image\", \"nasa\", \"geller\", \"pamela\", \"waving\", \"region\", \"exchanging\", \"plunging\", \"youtube\", \"flag\", \"rly\", \"attacked\", \"video\"], \"Freq\": [185.0, 126.0, 119.0, 127.0, 106.0, 115.0, 102.0, 93.0, 97.0, 89.0, 81.0, 178.0, 82.0, 75.0, 74.0, 82.0, 114.0, 65.0, 71.0, 65.0, 68.0, 71.0, 56.0, 116.0, 66.0, 62.0, 63.0, 67.0, 75.0, 57.0, 66.34722309755311, 56.5132377622533, 46.28007717587223, 47.61338818762517, 42.26633303759277, 40.75112275752579, 48.42489576100831, 34.89925094089194, 36.83282331519231, 31.973215602267928, 31.043641793956418, 28.971763366378738, 26.61870517194377, 26.491603000757, 26.39828610445809, 30.974367934813465, 25.208692278891604, 27.494052802506523, 22.72470374148791, 22.378280758959875, 22.1099996987879, 22.089534933231906, 60.595191150282176, 21.005957330076527, 20.756891760139755, 20.328078617367552, 56.813158394155344, 19.45266140259561, 17.725478985884774, 17.18566058732459, 101.02372558354062, 55.52117126212682, 26.074939519010456, 22.188110954528362, 22.01907099111089, 46.79286448521845, 46.018385480097365, 46.166916602732826, 38.47218340740215, 39.85972722722759, 34.306568773275536, 33.55338821685809, 32.907758178251775, 32.67525986870293, 33.56608706178364, 30.749997880038862, 31.53582179865217, 30.186802051639475, 27.512892855031062, 26.186461508107143, 38.77026549038306, 23.536625498425554, 21.97287968348784, 19.785138608163543, 17.6432222471976, 17.76533609589078, 16.962168621543864, 16.65946262061578, 16.16763683964822, 14.843879506074373, 14.509528994228946, 14.394879241073927, 14.166014880543802, 13.200762931033186, 12.96450022497495, 15.28915337868819, 40.98628800646932, 74.40309119750744, 102.49091559237812, 26.386955703426654, 32.54883259105158, 37.00161027810729, 19.799411322349822, 24.294705812706116, 21.755002871738235, 20.909899398038835, 70.4555721330304, 63.14660348145703, 42.55301495503532, 48.52650343126972, 28.71709002895732, 28.422885898330563, 27.72438373828291, 26.426923335453345, 27.10936027477733, 24.406051275877285, 23.299264805876724, 24.578805658649195, 23.445481843308038, 23.05930534186088, 20.9727666369325, 19.702589236471432, 18.940424016548825, 18.49838392180165, 17.9885698543672, 17.630528814265325, 17.21691129180009, 26.976205538538377, 16.09498728087056, 14.796746418271917, 14.747874612295721, 15.203077809167162, 14.560859594006978, 14.66791659667234, 14.106952066024409, 13.15368660703107, 14.157661923981182, 30.771663811620783, 36.15454489177415, 16.78554419588762, 20.723082282081354, 18.40640525622421, 18.405349307787496, 114.83528704309484, 81.82962835266461, 66.05459568754057, 46.16142841414956, 46.1438052757954, 48.651197595871224, 32.98671569743882, 32.02530343768051, 30.956599821963348, 43.12221706225748, 27.679691675664888, 28.872041508653915, 25.803459169615536, 24.950904354119388, 24.735223883140627, 24.600263662109814, 24.211209277155152, 22.03276852053838, 21.618782667528244, 22.601273472028232, 23.965096570685187, 23.95804094038983, 18.145313069581647, 18.178480516616, 32.53340520141806, 17.00345233634231, 18.24782541933036, 14.883075291593387, 14.508818842370447, 13.862055582014062, 23.97730126467452, 22.272115178956867, 35.18868270736065, 22.420598806498802, 47.13738856779066, 23.27722154894274, 18.84439508382391, 96.42895542144834, 67.84735765223088, 38.88189282718976, 38.23291605957322, 54.50267859766938, 36.74281050154239, 35.474016087977986, 31.33723733204832, 30.035969440523345, 23.75778185224546, 23.560849316450387, 22.053490743224184, 21.599643825687846, 21.61580437202928, 20.474589768712583, 19.99938465317984, 17.80905930585019, 17.391237844539884, 16.967679037624148, 16.352406501704706, 16.36902264141664, 17.01147625327307, 15.224925788498789, 20.75463132821122, 13.812494333648779, 13.725090737476338, 13.648395033974458, 12.830648338368572, 12.824221699736484, 12.822404235199075, 23.920107467286957, 47.16905879235501, 22.831028649693693, 37.82434092744734, 31.57536042047933, 23.980883442303465, 25.005710649627854, 19.661120038577245, 19.576216777012164, 21.857328487569475, 17.54019585034567, 18.070689148184737, 18.339325238886715, 126.76764182699513, 61.64311620846586, 56.52219431750338, 46.58633521395097, 70.63581434599894, 42.319471587897446, 42.01479582172603, 37.87879953122379, 28.770683276528423, 26.633326767463235, 25.534299772407422, 24.044174712445884, 23.29311346868846, 23.77832007270718, 26.29259133802681, 19.35578878766678, 18.568670740007903, 17.29135495090825, 36.54340591130408, 15.944253082090047, 14.539431200766428, 14.109772372658169, 13.951218432572958, 13.046957233364369, 11.672815677730068, 11.410929308032014, 11.326376150586002, 11.120812922195924, 10.914647392819328, 11.139781259739966, 33.59434640726461, 25.7255141071925, 60.98441025211487, 54.8438502605939, 24.316629034867784, 41.06344462057992, 26.947970292654354, 29.31670365473911, 20.40780356947729, 15.045904790310178, 105.78554428009858, 93.1346251567604, 64.98913994912736, 50.34995509382037, 46.38877298402531, 46.24522961834926, 40.33700050501955, 30.7188396348583, 25.4997038279387, 22.728663384026877, 22.663362594587664, 19.78025351992522, 19.1799281069975, 18.492087291067627, 17.992617021042545, 17.852870048194436, 17.141558332161587, 17.052807506665566, 16.655091343860448, 16.621150565550636, 15.802261529038162, 15.607354509734611, 15.397395272669357, 22.739027922620515, 14.791795122079852, 14.222877504990803, 14.229730804749588, 13.907354587301763, 13.595970793598429, 12.033048027090079, 21.567658697656757, 20.516866658780827, 18.836380079847387, 14.575399850608848, 14.259156249197995, 88.63880005426294, 101.34376964305241, 81.5268803739258, 46.807668058962626, 44.04621899626518, 33.72516989020619, 33.132546964993786, 27.21784846859519, 21.558054132067884, 20.23466401745359, 18.97816745342781, 18.819928303712185, 18.116645876994337, 19.97571879902822, 17.56182473867162, 16.56729469016642, 16.165308677720212, 15.523190248861317, 14.925998697845117, 14.437523303254133, 14.042184677411992, 12.720336576522262, 12.925592119159733, 13.23752652527745, 12.363562371057517, 12.012131904080183, 11.227481583150398, 11.078554676652665, 14.436550387748524, 10.681384311137322, 20.49144722096775, 21.99126797443799, 46.11639035063121, 15.95964554525966, 80.60480455149944, 73.51390928183568, 63.985650293680884, 32.9998859941095, 30.166628182116604, 32.1384962655043, 28.84741667507991, 23.580974370346933, 21.208004793375846, 19.71975716648488, 18.37148739802114, 19.036385575965415, 17.643532515374822, 17.422910258654333, 16.280676944966256, 15.316559233653376, 14.543014278404563, 13.314172064235716, 13.15285837789469, 12.30071004899385, 11.956011076051889, 19.616278669451816, 11.54998979279754, 11.55677610405241, 11.351956014579146, 11.622204072011593, 11.034512279633448, 11.626027612476774, 10.68992625456798, 10.425480604038738, 10.610315361759437, 20.258863104966448, 29.897488569538133, 26.883595931365743, 16.323150742369254, 25.98834195983475, 37.27992895523264, 12.504678902007369, 12.500594206447834, 16.85551333465138, 12.344444628319511, 184.6805759569099, 125.08884606254446, 118.75161580854697, 55.28602360199029, 30.816159269103114, 22.073476891479338, 19.62719248411704, 17.174685256698858, 16.705706904679257, 17.00206478059868, 16.389998497625836, 18.862229558552997, 71.77993852776429, 18.797389959944596, 13.431093223883309, 13.145281629238454, 14.170375084912012, 10.726747353244203, 10.535602007675752, 10.49175223413139, 10.415394317235153, 10.0837598483548, 9.854367864905432, 9.349738585757212, 9.226696790020643, 8.539870881644486, 8.075332466833911, 8.075385897701368, 8.07493876577841, 7.7416564198814415, 11.775793112628719, 11.847650667144684, 13.020914132248492, 8.860378171043672, 10.886845288784484, 10.654114643255499, 12.260583298714911], \"Total\": [185.0, 126.0, 119.0, 127.0, 106.0, 115.0, 102.0, 93.0, 97.0, 89.0, 81.0, 178.0, 82.0, 75.0, 74.0, 82.0, 114.0, 65.0, 71.0, 65.0, 68.0, 71.0, 56.0, 116.0, 66.0, 62.0, 63.0, 67.0, 75.0, 57.0, 67.2246399935603, 57.35063937055982, 47.11995522913368, 48.505112885353135, 43.10225122509692, 41.59180909058783, 49.444092672771994, 35.73991014030331, 37.728686932172, 32.80759144487124, 31.919928729865283, 29.813628174672967, 27.457557841141, 27.330190150758266, 27.253475051797015, 31.99166060789442, 26.06250076932454, 28.471261694080688, 23.56067220213181, 23.215832196160996, 22.9453743891977, 22.926532801533984, 62.91446189502771, 21.841745042200092, 21.59330503510552, 21.166430633766947, 59.27737743353409, 20.300400847949746, 18.561158116812603, 18.022129023372727, 114.51364439006569, 71.85077331284083, 29.837063329521843, 24.755520460334438, 36.171778868371376, 47.62020976299165, 46.84589294390785, 47.01516249117169, 39.30873100694466, 40.751057012836675, 35.13595440270482, 34.380959157569634, 33.73674282951949, 33.50525258646347, 34.43096688056858, 31.57774442082482, 32.38784273894361, 31.033437770469753, 28.382756969622132, 27.015568517985532, 40.06674837435123, 24.36788199015992, 22.82295041752877, 20.611829810612974, 18.4703290502361, 18.608710399676454, 17.802639932525807, 17.5458626046863, 17.065832771028678, 15.671006462047117, 15.33679190378278, 15.221876202830341, 14.994948896085246, 14.027527711402243, 13.80154324388093, 16.33365044051888, 53.54942603894683, 116.72831317469834, 178.73440445888494, 32.70334188573006, 43.447069327479745, 78.88287998086281, 26.431908081973393, 52.56986810398803, 42.9053673277411, 57.910783541546365, 71.29477130348147, 63.97991712842714, 43.38611647288117, 49.82687356715111, 29.547555108505392, 29.253325843695016, 28.55454850079585, 27.257333716018525, 27.982418789188632, 25.267894929649344, 24.13738565704827, 25.46746546405874, 24.3533257510828, 23.963098309507068, 21.83606433027861, 20.536318827677167, 19.769980171786788, 19.327919376094645, 18.81804262744274, 18.46000445653991, 18.046508092663572, 28.28404507262031, 16.92585847655279, 15.626708426767639, 15.57731896919647, 16.065846709229877, 15.390542137421562, 15.510430114960046, 14.956373967364884, 13.993234192147362, 15.08166483844521, 36.29640844099262, 57.910783541546365, 19.22753292512123, 27.368556898280733, 22.84073893979979, 116.72831317469834, 115.97556537001385, 82.66292447615399, 66.89455361145328, 46.99737352399341, 46.98743976243995, 49.86515929030779, 33.819854195333015, 32.861471721299345, 31.78967368853467, 44.35427972380617, 28.528423286664044, 29.79594072647547, 26.643432866920705, 25.792677935026926, 25.571173616320404, 25.436426629943647, 25.045750295061143, 22.869186751258532, 22.45227627238667, 23.488207940994094, 24.921150027610878, 24.922094358794475, 18.982800294899118, 19.087365703276383, 34.17222252098177, 17.861499733101528, 19.265695344211842, 15.716708135891851, 15.341809078559502, 14.6974350698806, 26.498480916856188, 25.626465691523475, 44.949839935986496, 31.093410101209226, 178.73440445888494, 116.72831317469834, 37.89852929882038, 97.28505056142528, 68.67836282385736, 39.7162734588454, 39.06850650224611, 55.69768065641429, 37.5771396913668, 36.30803122674286, 32.16691771344123, 30.865595767022242, 24.588016037255375, 24.390919646878594, 22.883028581585535, 22.43443898576388, 22.45418354630058, 21.30634135617504, 20.834897232027856, 18.641696550387874, 18.221051846081824, 17.798383728275386, 17.182185998508672, 17.210674323583596, 17.891538859142432, 16.055340746696416, 21.912337179816973, 14.648191358211562, 14.559368867870486, 14.479819017173165, 13.661032768118165, 13.668958494248695, 13.668950909348807, 25.714401537147612, 52.118331677796526, 26.0469323930148, 47.42621171205543, 38.451979125421566, 30.134480941322572, 32.709486680879294, 26.557869382792457, 26.87350736518497, 37.21867107562453, 21.538316648600652, 31.13663372191052, 91.63684691280274, 127.60121330146765, 62.47860533823344, 57.35575325820428, 47.419643757383376, 71.96503395051852, 43.152722852456634, 42.84873669087437, 38.78118378801303, 29.672757923894387, 27.486516172791525, 26.446406525368896, 24.907662575853582, 24.1342952121197, 24.669188767428686, 27.279029412034372, 20.191209384981033, 19.40319472758503, 18.124895599967616, 38.33412148209499, 16.784837433669978, 15.375959103256397, 14.944498672638778, 14.78439259595453, 13.895559275208809, 12.50994882983353, 12.244783081547027, 12.15989655420252, 11.954985277845642, 11.748435284348197, 12.004493248190858, 36.33289149981185, 28.224563961383108, 75.77594097969377, 67.85723243633115, 30.003653836576188, 78.88287998086281, 52.56986810398803, 91.63684691280274, 42.9053673277411, 25.508391304431633, 106.62090287106997, 93.9801195860629, 65.82329488696838, 51.193116301871505, 47.229838628642376, 47.11394263871246, 41.17267599401764, 31.561839371564076, 26.33425981066132, 23.562539970241367, 23.499564282773598, 20.621626622779097, 20.01425817881281, 19.329355010050804, 18.82731876396405, 18.68968982020335, 17.975895574778516, 17.893644499511062, 17.489755757796623, 17.455568219716422, 16.63646329765263, 16.441832819895605, 16.232353965549702, 24.007355060022213, 15.629438722345586, 15.057080793216686, 15.064653813275594, 14.742061624719272, 14.48656235929699, 12.868303505287262, 29.381433231806824, 28.273451339244033, 42.26555742070336, 19.730174295426618, 42.69880494477619, 89.46999691845846, 102.34405904790977, 82.36952123432354, 47.689127453250336, 44.95129004745937, 34.55577612112387, 33.981408429574174, 28.04847913593489, 22.392326714900474, 21.067967196112004, 19.809131242962813, 19.650256582243404, 18.952097417311542, 20.898532775077584, 18.392571603445496, 17.400429650019284, 16.996609898537365, 16.357072667400793, 15.764637197334947, 15.268670081176623, 14.87355306138701, 13.554915367286522, 13.782548730300306, 14.120176353726619, 13.197143630370174, 12.84285220126255, 12.058324909745886, 11.909709116462803, 15.540483082528832, 11.513241501095987, 24.356978416489707, 26.508146071812313, 70.81305889689072, 20.381405829373215, 81.4377392846347, 74.58979630749144, 65.51606517638952, 33.826010450052294, 31.03277109537041, 33.06340653688375, 29.73294535543391, 24.409812574117115, 22.03781212209951, 20.549593085143233, 19.198258915219117, 19.914386182037035, 18.469765170940306, 18.256608865360377, 17.107201588558716, 16.14444756207682, 15.38825225248736, 14.141542665244236, 13.982041848363297, 13.12787382060359, 12.783002458706267, 21.00981577130221, 12.377533771437864, 12.390581550306008, 12.183776376927602, 12.486196830517972, 11.862078529835795, 12.511998943028631, 11.516317516760923, 11.251929896702551, 11.452118037729246, 22.259688247019884, 38.69758390113704, 37.52151859802088, 20.406213142656313, 42.69880494477619, 91.63684691280274, 17.637873910484878, 20.77375289285659, 178.73440445888494, 22.599485914860846, 185.61202034292978, 126.01391969563893, 119.66473185209115, 56.44154037699386, 31.66882483524369, 22.918087583406862, 20.476984801637457, 18.023507446800142, 17.552134635741787, 17.869041663555993, 17.232683873714155, 19.85352823453315, 75.86985968796765, 19.980983421736664, 14.278327895297183, 13.992510535838171, 15.23236022897007, 11.57161025347247, 11.38086267941713, 11.337995422969804, 11.259430485750894, 10.939683521406193, 10.696684565908685, 10.19851831523881, 10.069134121577434, 9.382407738815404, 8.920707393377693, 8.920796297942175, 8.920817721973508, 8.584366539770125, 13.3079671094222, 13.657502106774691, 17.586503041339384, 10.725643045085466, 17.458651972865624, 17.38093555728549, 67.85723243633115], \"Category\": [\"Default\", \"Default\", \"Default\", \"Default\", \"Default\", \"Default\", \"Default\", \"Default\", \"Default\", \"Default\", \"Default\", \"Default\", \"Default\", \"Default\", \"Default\", \"Default\", \"Default\", \"Default\", \"Default\", \"Default\", \"Default\", \"Default\", \"Default\", \"Default\", \"Default\", \"Default\", \"Default\", \"Default\", \"Default\", \"Default\", \"Topic1\", \"Topic1\", \"Topic1\", \"Topic1\", \"Topic1\", \"Topic1\", \"Topic1\", \"Topic1\", \"Topic1\", \"Topic1\", \"Topic1\", \"Topic1\", \"Topic1\", \"Topic1\", \"Topic1\", \"Topic1\", \"Topic1\", \"Topic1\", \"Topic1\", \"Topic1\", \"Topic1\", \"Topic1\", \"Topic1\", \"Topic1\", \"Topic1\", \"Topic1\", \"Topic1\", \"Topic1\", \"Topic1\", \"Topic1\", \"Topic1\", \"Topic1\", \"Topic1\", \"Topic1\", \"Topic1\", \"Topic2\", \"Topic2\", \"Topic2\", \"Topic2\", \"Topic2\", \"Topic2\", \"Topic2\", \"Topic2\", \"Topic2\", \"Topic2\", \"Topic2\", \"Topic2\", \"Topic2\", \"Topic2\", \"Topic2\", \"Topic2\", \"Topic2\", \"Topic2\", \"Topic2\", \"Topic2\", \"Topic2\", \"Topic2\", \"Topic2\", \"Topic2\", \"Topic2\", \"Topic2\", \"Topic2\", \"Topic2\", \"Topic2\", \"Topic2\", \"Topic2\", \"Topic2\", \"Topic2\", \"Topic2\", \"Topic2\", \"Topic2\", \"Topic2\", \"Topic2\", \"Topic2\", \"Topic2\", \"Topic2\", \"Topic3\", \"Topic3\", \"Topic3\", \"Topic3\", \"Topic3\", \"Topic3\", \"Topic3\", \"Topic3\", \"Topic3\", \"Topic3\", \"Topic3\", \"Topic3\", \"Topic3\", \"Topic3\", \"Topic3\", \"Topic3\", \"Topic3\", \"Topic3\", \"Topic3\", \"Topic3\", \"Topic3\", \"Topic3\", \"Topic3\", \"Topic3\", \"Topic3\", \"Topic3\", \"Topic3\", \"Topic3\", \"Topic3\", \"Topic3\", \"Topic3\", \"Topic3\", \"Topic3\", \"Topic3\", \"Topic3\", \"Topic3\", \"Topic3\", \"Topic4\", \"Topic4\", \"Topic4\", \"Topic4\", \"Topic4\", \"Topic4\", \"Topic4\", \"Topic4\", \"Topic4\", \"Topic4\", \"Topic4\", \"Topic4\", \"Topic4\", \"Topic4\", \"Topic4\", \"Topic4\", \"Topic4\", \"Topic4\", \"Topic4\", \"Topic4\", \"Topic4\", \"Topic4\", \"Topic4\", \"Topic4\", \"Topic4\", \"Topic4\", \"Topic4\", \"Topic4\", \"Topic4\", \"Topic4\", \"Topic4\", \"Topic4\", \"Topic4\", \"Topic4\", \"Topic4\", \"Topic4\", \"Topic4\", \"Topic5\", \"Topic5\", \"Topic5\", \"Topic5\", \"Topic5\", \"Topic5\", \"Topic5\", \"Topic5\", \"Topic5\", \"Topic5\", \"Topic5\", \"Topic5\", \"Topic5\", \"Topic5\", \"Topic5\", \"Topic5\", \"Topic5\", \"Topic5\", \"Topic5\", \"Topic5\", \"Topic5\", \"Topic5\", \"Topic5\", \"Topic5\", \"Topic5\", \"Topic5\", \"Topic5\", \"Topic5\", \"Topic5\", \"Topic5\", \"Topic5\", \"Topic5\", \"Topic5\", \"Topic5\", \"Topic5\", \"Topic5\", \"Topic5\", \"Topic5\", \"Topic5\", \"Topic5\", \"Topic5\", \"Topic5\", \"Topic5\", \"Topic6\", \"Topic6\", \"Topic6\", \"Topic6\", \"Topic6\", \"Topic6\", \"Topic6\", \"Topic6\", \"Topic6\", \"Topic6\", \"Topic6\", \"Topic6\", \"Topic6\", \"Topic6\", \"Topic6\", \"Topic6\", \"Topic6\", \"Topic6\", \"Topic6\", \"Topic6\", \"Topic6\", \"Topic6\", \"Topic6\", \"Topic6\", \"Topic6\", \"Topic6\", \"Topic6\", \"Topic6\", \"Topic6\", \"Topic6\", \"Topic6\", \"Topic6\", \"Topic6\", \"Topic6\", \"Topic6\", \"Topic6\", \"Topic6\", \"Topic6\", \"Topic6\", \"Topic6\", \"Topic7\", \"Topic7\", \"Topic7\", \"Topic7\", \"Topic7\", \"Topic7\", \"Topic7\", \"Topic7\", \"Topic7\", \"Topic7\", \"Topic7\", \"Topic7\", \"Topic7\", \"Topic7\", \"Topic7\", \"Topic7\", \"Topic7\", \"Topic7\", \"Topic7\", \"Topic7\", \"Topic7\", \"Topic7\", \"Topic7\", \"Topic7\", \"Topic7\", \"Topic7\", \"Topic7\", \"Topic7\", \"Topic7\", \"Topic7\", \"Topic7\", \"Topic7\", \"Topic7\", \"Topic7\", \"Topic7\", \"Topic8\", \"Topic8\", \"Topic8\", \"Topic8\", \"Topic8\", \"Topic8\", \"Topic8\", \"Topic8\", \"Topic8\", \"Topic8\", \"Topic8\", \"Topic8\", \"Topic8\", \"Topic8\", \"Topic8\", \"Topic8\", \"Topic8\", \"Topic8\", \"Topic8\", \"Topic8\", \"Topic8\", \"Topic8\", \"Topic8\", \"Topic8\", \"Topic8\", \"Topic8\", \"Topic8\", \"Topic8\", \"Topic8\", \"Topic8\", \"Topic8\", \"Topic8\", \"Topic8\", \"Topic8\", \"Topic9\", \"Topic9\", \"Topic9\", \"Topic9\", \"Topic9\", \"Topic9\", \"Topic9\", \"Topic9\", \"Topic9\", \"Topic9\", \"Topic9\", \"Topic9\", \"Topic9\", \"Topic9\", \"Topic9\", \"Topic9\", \"Topic9\", \"Topic9\", \"Topic9\", \"Topic9\", \"Topic9\", \"Topic9\", \"Topic9\", \"Topic9\", \"Topic9\", \"Topic9\", \"Topic9\", \"Topic9\", \"Topic9\", \"Topic9\", \"Topic9\", \"Topic9\", \"Topic9\", \"Topic9\", \"Topic9\", \"Topic9\", \"Topic9\", \"Topic9\", \"Topic9\", \"Topic9\", \"Topic9\", \"Topic10\", \"Topic10\", \"Topic10\", \"Topic10\", \"Topic10\", \"Topic10\", \"Topic10\", \"Topic10\", \"Topic10\", \"Topic10\", \"Topic10\", \"Topic10\", \"Topic10\", \"Topic10\", \"Topic10\", \"Topic10\", \"Topic10\", \"Topic10\", \"Topic10\", \"Topic10\", \"Topic10\", \"Topic10\", \"Topic10\", \"Topic10\", \"Topic10\", \"Topic10\", \"Topic10\", \"Topic10\", \"Topic10\", \"Topic10\", \"Topic10\", \"Topic10\", \"Topic10\", \"Topic10\", \"Topic10\", \"Topic10\", \"Topic10\"], \"logprob\": [30.0, 29.0, 28.0, 27.0, 26.0, 25.0, 24.0, 23.0, 22.0, 21.0, 20.0, 19.0, 18.0, 17.0, 16.0, 15.0, 14.0, 13.0, 12.0, 11.0, 10.0, 9.0, 8.0, 7.0, 6.0, 5.0, 4.0, 3.0, 2.0, 1.0, -3.6079, -3.7683, -3.9681, -3.9397, -4.0588, -4.0953, -3.9228, -4.2503, -4.1964, -4.3379, -4.3674, -4.4365, -4.5212, -4.526, -4.5295, -4.3697, -4.5756, -4.4888, -4.6794, -4.6947, -4.7068, -4.7077, -3.6986, -4.758, -4.7699, -4.7908, -3.763, -4.8348, -4.9278, -4.9587, -3.1875, -3.786, -4.5418, -4.7033, -4.7109, -3.8305, -3.8471, -3.8439, -4.0263, -3.9908, -4.1409, -4.1631, -4.1825, -4.1896, -4.1627, -4.2503, -4.2251, -4.2688, -4.3615, -4.4109, -4.0185, -4.5176, -4.5864, -4.6913, -4.8058, -4.7989, -4.8452, -4.8632, -4.8932, -4.9786, -5.0014, -5.0093, -5.0253, -5.0959, -5.114, -4.949, -3.963, -3.3667, -3.0464, -4.4033, -4.1934, -4.0652, -4.6905, -4.4859, -4.5963, -4.636, -3.3883, -3.4979, -3.8926, -3.7612, -4.2858, -4.2961, -4.321, -4.3689, -4.3434, -4.4485, -4.4949, -4.4414, -4.4886, -4.5052, -4.6001, -4.6626, -4.702, -4.7256, -4.7536, -4.7737, -4.7974, -4.3484, -4.8648, -4.9489, -4.9522, -4.9218, -4.965, -4.9577, -4.9966, -5.0666, -4.9931, -4.2167, -4.0555, -4.8228, -4.6121, -4.7306, -4.7307, -2.8746, -3.2135, -3.4277, -3.786, -3.7864, -3.7335, -4.122, -4.1516, -4.1855, -3.8541, -4.2974, -4.2553, -4.3676, -4.4012, -4.4099, -4.4154, -4.4313, -4.5256, -4.5446, -4.5001, -4.4415, -4.4418, -4.7197, -4.7179, -4.1359, -4.7847, -4.7141, -4.9179, -4.9434, -4.989, -4.441, -4.5148, -4.0574, -4.5082, -3.7651, -4.4707, -4.6819, -2.981, -3.3325, -3.8893, -3.9061, -3.5515, -3.9458, -3.981, -4.105, -4.1474, -4.3819, -4.3902, -4.4563, -4.4771, -4.4764, -4.5306, -4.5541, -4.6701, -4.6938, -4.7185, -4.7554, -4.7544, -4.7159, -4.8268, -4.517, -4.9242, -4.9306, -4.9362, -4.9979, -4.9984, -4.9986, -4.3751, -3.696, -4.4217, -3.9168, -4.0974, -4.3725, -4.3307, -4.5711, -4.5755, -4.4652, -4.6853, -4.6555, -4.6407, -2.6683, -3.3893, -3.4761, -3.6694, -3.2531, -3.7654, -3.7727, -3.8763, -4.1513, -4.2285, -4.2707, -4.3308, -4.3625, -4.3419, -4.2414, -4.5477, -4.5892, -4.6605, -3.9122, -4.7416, -4.8338, -4.8638, -4.8751, -4.9421, -5.0534, -5.0761, -5.0836, -5.1019, -5.1206, -5.1002, -3.9963, -4.2632, -3.4001, -3.5062, -4.3195, -3.7956, -4.2168, -4.1325, -4.4948, -4.7996, -2.7806, -2.908, -3.2678, -3.523, -3.605, -3.6081, -3.7448, -4.0171, -4.2034, -4.3184, -4.3213, -4.4573, -4.4882, -4.5247, -4.5521, -4.5599, -4.6005, -4.6057, -4.6293, -4.6314, -4.6819, -4.6943, -4.7078, -4.3179, -4.748, -4.7872, -4.7867, -4.8096, -4.8323, -4.9544, -4.3708, -4.4208, -4.5062, -4.7627, -4.7846, -2.952, -2.8181, -3.0357, -3.5905, -3.6514, -3.9183, -3.9361, -4.1327, -4.3658, -4.4292, -4.4933, -4.5017, -4.5398, -4.4421, -4.5709, -4.6292, -4.6537, -4.6943, -4.7335, -4.7668, -4.7945, -4.8934, -4.8774, -4.8535, -4.9218, -4.9507, -5.0182, -5.0316, -4.7668, -5.0681, -4.4166, -4.3459, -3.6054, -4.6665, -2.8961, -2.9882, -3.127, -3.7891, -3.8789, -3.8156, -3.9236, -4.1252, -4.2312, -4.304, -4.3748, -4.3393, -4.4153, -4.4278, -4.4956, -4.5567, -4.6085, -4.6968, -4.709, -4.776, -4.8044, -4.3093, -4.8389, -4.8384, -4.8562, -4.8327, -4.8846, -4.8324, -4.9163, -4.9414, -4.9238, -4.277, -3.8879, -3.9941, -4.493, -4.028, -3.6672, -4.7595, -4.7599, -4.4609, -4.7724, -1.9725, -2.3621, -2.4141, -3.1786, -3.7631, -4.0968, -4.2142, -4.3477, -4.3754, -4.3578, -4.3945, -4.254, -2.9175, -4.2574, -4.5936, -4.6151, -4.54, -4.8184, -4.8364, -4.8405, -4.8478, -4.8802, -4.9032, -4.9558, -4.969, -5.0464, -5.1023, -5.1023, -5.1024, -5.1445, -4.7251, -4.719, -4.6246, -5.0095, -4.8036, -4.8252, -4.6847], \"loglift\": [30.0, 29.0, 28.0, 27.0, 26.0, 25.0, 24.0, 23.0, 22.0, 21.0, 20.0, 19.0, 18.0, 17.0, 16.0, 15.0, 14.0, 13.0, 12.0, 11.0, 10.0, 9.0, 8.0, 7.0, 6.0, 5.0, 4.0, 3.0, 2.0, 1.0, 2.0173, 2.0157, 2.0124, 2.0119, 2.0108, 2.01, 2.0096, 2.0066, 2.0064, 2.0047, 2.0026, 2.0018, 1.9994, 1.9992, 1.9985, 1.9981, 1.9971, 1.9955, 1.9943, 1.9937, 1.9933, 1.9932, 1.9929, 1.9914, 1.9909, 1.99, 1.988, 1.9878, 1.9843, 1.9829, 1.9051, 1.7726, 1.8956, 1.9209, 1.534, 2.1395, 2.1392, 2.1388, 2.1355, 2.1349, 2.1331, 2.1327, 2.1322, 2.132, 2.1316, 2.1305, 2.1304, 2.1294, 2.1259, 2.1259, 2.1241, 2.1223, 2.1191, 2.1161, 2.1112, 2.1107, 2.1087, 2.1052, 2.103, 2.1028, 2.1016, 2.1012, 2.1002, 2.0963, 2.0945, 2.091, 1.8897, 1.7067, 1.6009, 1.9424, 1.8682, 1.4, 1.8681, 1.3852, 1.4779, 1.1384, 2.1781, 2.1768, 2.1705, 2.1635, 2.1614, 2.1611, 2.1604, 2.159, 2.1582, 2.1552, 2.1546, 2.1544, 2.1519, 2.1515, 2.1496, 2.1485, 2.147, 2.146, 2.1448, 2.1439, 2.1429, 2.1426, 2.1396, 2.1353, 2.1352, 2.1347, 2.1345, 2.1341, 2.1314, 2.128, 2.1267, 2.0248, 1.7188, 2.0541, 1.9118, 1.9741, 0.3427, 2.2052, 2.205, 2.2025, 2.1971, 2.197, 2.1904, 2.1901, 2.1893, 2.1885, 2.1869, 2.1849, 2.1836, 2.1831, 2.1819, 2.1819, 2.1817, 2.1812, 2.1778, 2.1773, 2.1766, 2.176, 2.1756, 2.17, 2.1663, 2.1659, 2.1659, 2.1608, 2.1606, 2.1593, 2.1566, 2.1151, 2.0748, 1.9703, 1.8881, 0.8823, 0.6027, 1.5164, 2.2746, 2.2713, 2.2622, 2.2618, 2.2618, 2.261, 2.2602, 2.2573, 2.2562, 2.2491, 2.2488, 2.2465, 2.2455, 2.2454, 2.2436, 2.2425, 2.2377, 2.2368, 2.2356, 2.2339, 2.2333, 2.233, 2.2303, 2.2292, 2.2247, 2.2244, 2.2243, 2.2207, 2.2197, 2.2195, 2.2111, 2.1837, 2.1517, 2.0572, 2.0864, 2.055, 2.0149, 1.9828, 1.9666, 1.7512, 2.0781, 1.7393, 0.6747, 2.316, 2.3091, 2.3079, 2.3048, 2.3039, 2.303, 2.3029, 2.299, 2.2917, 2.291, 2.2874, 2.2873, 2.2871, 2.2858, 2.2857, 2.2803, 2.2786, 2.2755, 2.2747, 2.2712, 2.2666, 2.2651, 2.2645, 2.2595, 2.2533, 2.252, 2.2515, 2.2502, 2.2489, 2.2478, 2.2442, 2.2298, 2.1054, 2.1096, 2.1124, 1.6697, 1.6543, 1.1829, 1.5795, 1.7946, 2.3833, 2.3822, 2.3784, 2.3746, 2.3732, 2.3726, 2.3707, 2.3641, 2.359, 2.3552, 2.355, 2.3495, 2.3486, 2.3469, 2.3459, 2.3454, 2.3437, 2.3431, 2.3423, 2.3422, 2.3398, 2.3391, 2.3384, 2.3369, 2.3361, 2.3342, 2.3342, 2.3329, 2.3278, 2.3241, 2.082, 2.0705, 1.583, 2.0884, 1.2944, 2.3873, 2.3868, 2.3864, 2.378, 2.3763, 2.3723, 2.3713, 2.3666, 2.3587, 2.3563, 2.3538, 2.3535, 2.3515, 2.3515, 2.3504, 2.3476, 2.3465, 2.3443, 2.342, 2.3407, 2.3391, 2.3331, 2.3324, 2.3321, 2.3314, 2.3298, 2.3252, 2.3243, 2.3229, 2.3216, 2.2238, 2.2098, 1.9678, 2.1521, 2.5373, 2.5331, 2.524, 2.5229, 2.5193, 2.5192, 2.5174, 2.5131, 2.5092, 2.5064, 2.5036, 2.5025, 2.5018, 2.5009, 2.4981, 2.495, 2.4911, 2.4873, 2.4865, 2.4825, 2.4807, 2.479, 2.4784, 2.4779, 2.4769, 2.4759, 2.4753, 2.4742, 2.4731, 2.4713, 2.4713, 2.4534, 2.2896, 2.2142, 2.3243, 2.0511, 1.6482, 2.2037, 2.0397, 0.1864, 1.9429, 2.6371, 2.6347, 2.6344, 2.6214, 2.6148, 2.6045, 2.5997, 2.5939, 2.5927, 2.5924, 2.592, 2.5909, 2.5867, 2.581, 2.5809, 2.5796, 2.5698, 2.5663, 2.5649, 2.5645, 2.5642, 2.5606, 2.5601, 2.5552, 2.5547, 2.548, 2.5425, 2.5425, 2.5425, 2.5388, 2.5198, 2.4999, 2.3415, 2.4511, 2.1698, 2.1527, 0.9311]}, \"token.table\": {\"Topic\": [2, 5, 7, 9, 4, 2, 5, 6, 9, 5, 9, 10, 5, 9, 5, 9, 9, 1, 6, 4, 7, 2, 6, 1, 2, 2, 10, 6, 5, 6, 8, 6, 3, 4, 3, 1, 9, 10, 1, 3, 6, 6, 6, 2, 6, 3, 3, 3, 4, 3, 5, 4, 8, 6, 2, 3, 9, 1, 9, 4, 7, 3, 5, 7, 2, 7, 10, 7, 6, 6, 3, 6, 10, 6, 4, 10, 1, 10, 10, 4, 8, 9, 2, 9, 9, 3, 8, 7, 4, 5, 9, 1, 2, 1, 3, 3, 1, 5, 5, 1, 1, 1, 3, 8, 2, 5, 3, 6, 1, 1, 3, 5, 6, 7, 9, 2, 4, 5, 8, 4, 4, 3, 10, 7, 3, 10, 3, 4, 3, 9, 2, 10, 4, 1, 6, 7, 9, 1, 7, 10, 5, 7, 4, 2, 10, 3, 5, 10, 1, 5, 1, 5, 1, 1, 4, 8, 2, 6, 9, 3, 10, 6, 3, 3, 6, 5, 3, 7, 4, 10, 7, 9, 5, 5, 9, 5, 8, 10, 4, 2, 6, 2, 2, 8, 2, 6, 10, 5, 8, 4, 1, 3, 6, 7, 10, 2, 1, 8, 10, 1, 2, 4, 7, 7, 7, 3, 6, 2, 5, 10, 5, 1, 2, 6, 10, 8, 10, 4, 1, 5, 6, 9, 6, 9, 7, 4, 1, 9, 6, 1, 3, 8, 8, 2, 5, 3, 5, 9, 4, 8, 8, 3, 9, 7, 5, 10, 2, 5, 6, 1, 6, 7, 9, 1, 5, 9, 2, 6, 10, 1, 8, 2, 10, 2, 10, 8, 2, 2, 4, 7, 6, 9, 5, 1, 2, 4, 5, 9, 5, 3, 4, 1, 2, 3, 5, 1, 10, 1, 7, 4, 4, 3, 1, 7, 9, 7, 5, 9, 10, 2, 8, 5, 9, 3, 3, 9, 8, 5, 6, 9, 3, 3, 10, 5, 10, 2, 3, 4, 5, 7, 2, 8, 5, 2, 5, 4, 9, 8, 8, 5, 4, 10, 8, 2, 2, 9, 1, 1, 1, 6, 5, 10, 7, 2, 3, 8, 5, 10, 4, 9, 3, 7, 1, 9, 6, 10, 2, 4, 8, 6, 4, 8, 8, 5, 9, 5, 2, 2, 1, 4, 10, 1, 1, 7, 4, 2, 8, 8, 3, 3, 1, 6, 7, 9, 6, 2, 9, 9, 8, 1, 1, 4, 9, 9, 10, 2, 1, 7, 3, 8, 1, 2, 4, 8, 2, 4, 2, 2, 4, 6, 7, 5, 10, 2, 3, 8, 9, 2, 1, 7, 7, 1, 3, 4, 6, 10, 6, 5, 7, 9, 6, 9, 4, 8, 1, 2, 1, 5, 6, 7, 1, 5, 10, 1, 1, 9, 5, 8, 8, 9, 3, 8, 7, 3, 1, 9, 6, 5, 7, 7, 8, 2, 2, 5, 10], \"Freq\": [0.9889194726702161, 0.8012446836511855, 0.14759770488311313, 0.04217077282374661, 0.9737847492466085, 0.9571816613264632, 0.2212439707184723, 0.2212439707184723, 0.5309855297243335, 0.8357199076265537, 0.13928665127109227, 0.9944450479117541, 0.9583642232076773, 0.975580612698267, 0.9296556136719976, 0.9694984656548421, 0.9747695679719182, 0.94328477939276, 0.9728734992570071, 0.9757581984062441, 0.9715181011263871, 0.5127563605725286, 0.46614214597502596, 0.9695704002329071, 0.03178919345025925, 0.3452058135895341, 0.6328773249141458, 0.9379364369983115, 0.8830214496263706, 0.07678447388055397, 0.949762952545724, 0.9531130894462793, 0.11706647479649591, 0.85848748184097, 0.9312952754895565, 0.98333581435799, 0.9832111544128913, 0.8881443881780046, 0.05278720327698615, 0.13196800819246537, 0.8050048499740388, 0.9865902383762919, 0.9923396923532068, 0.9666992172084418, 0.983120333382886, 0.9598950457350235, 0.9834050682301642, 0.9911004601409182, 0.9814773048845268, 0.4030235246584043, 0.5911011694989929, 0.9915881818131141, 0.9769873699630837, 0.959236537513454, 0.36262676337187144, 0.6216458800660652, 0.9375850216152041, 0.14701404807582466, 0.7840749230710649, 0.9525471576118849, 0.9560575366925024, 0.9814686830604209, 0.9501698056180974, 0.9325238556169818, 0.9817040630538573, 0.9312261061292748, 0.966534814614191, 0.976356412214223, 0.936799574657662, 0.8983417612825724, 0.9670911695435365, 0.9532412847743397, 0.9685431631422503, 0.9798566286092977, 0.9777204189669401, 0.974459584778068, 0.0395413938069504, 0.9489934513668097, 0.9141032261520664, 0.9630009281916916, 0.9711192538823656, 0.9920928017411383, 0.22678470320746483, 0.7370502854242607, 0.8887364293773785, 0.7880655721096288, 0.17512568269102863, 0.9500579940807765, 0.07530724589284457, 0.7530724589284458, 0.15061449178568914, 0.8713994307299902, 0.10054608816115271, 0.9615810021945109, 0.0337396842875267, 0.929020398107484, 0.38539811680270775, 0.5780971752040617, 0.9726504389876107, 0.935942109828778, 0.9540067808081464, 0.04906432894628019, 0.14719298683884058, 0.785029263140483, 0.7950257833235376, 0.15288957371606493, 0.02608642017444113, 0.9651975464543219, 0.971180113287516, 0.8819909674341128, 0.008732583835981314, 0.017465167671962628, 0.08732583835981314, 0.38510133634789395, 0.6257896715653276, 0.037738012346356084, 0.9057122963125461, 0.037738012346356084, 0.9570049828498428, 0.9543983301277242, 0.9787781007914362, 0.8841487915378418, 0.10401750488680492, 0.9739012666914018, 0.9846839887826027, 0.9513660732389242, 0.9282794804133361, 0.9692673270676383, 0.8540789938044961, 0.13775467642008002, 0.07514295698040822, 0.9017154837648986, 0.9798561060402188, 0.1666463700465945, 0.7999025762236536, 0.9941765371109191, 0.9732552813641564, 0.20273515784030277, 0.7602568419011354, 0.05068378946007569, 0.9668629133690071, 0.9766938137769142, 0.9919803892693728, 0.09323450312456595, 0.8391105281210937, 0.9498219011445391, 0.9329867531031479, 0.991953907170828, 0.15603878230635077, 0.8322068389672042, 0.21400519269206172, 0.7643042596145062, 0.9806861305965399, 0.9595868765000528, 0.7786457093027215, 0.20022318239212836, 0.9267491939747144, 0.9410035643596912, 0.9519360006630072, 0.9746245366839955, 0.8967898673527637, 0.9469445504193953, 0.9360557599421014, 0.9420104938146451, 0.96355890188052, 0.9599279409574224, 0.9805793286915255, 0.9293276947169289, 0.9776633788933387, 0.9599404801964552, 0.9597273623495084, 0.9273248336986243, 0.9637230485109979, 0.9311969967842695, 0.9540841392911311, 0.9760852589178232, 0.9413641953020804, 0.9290684446299958, 0.9343031579396326, 0.4690498116825387, 0.5197578994320023, 0.9197289357403166, 0.12316798696052529, 0.8211199130701686, 0.98697591283032, 0.9937974267968769, 0.928468259340936, 0.9333291294113554, 0.03888871372547314, 0.948226801123583, 0.27441950048742875, 0.07840557156783678, 0.5880417867587759, 0.9630978455587956, 0.9432126377276331, 0.9780402638377254, 0.975384006892786, 0.9839165493150616, 0.8938206494552142, 0.947629178834173, 0.9733757188283811, 0.9517677828863963, 0.9297951038628346, 0.945710878730973, 0.9874923476805264, 0.9648915700751287, 0.9822998240397915, 0.9419236508760495, 0.9639740525016562, 0.9767062970325927, 0.9797728763834119, 0.958798912008916, 0.4565352903782409, 0.5136022016755211, 0.01902230376576004, 0.955421633338697, 0.882481133220307, 0.9430321753048544, 0.0654758451664025, 0.19642753549920747, 0.3164665849709454, 0.403767711859482, 0.9792201885696782, 0.9311696452157314, 0.9698555970316893, 0.9826500245337441, 0.015263431912580382, 0.9768596424051444, 0.9201182389061263, 0.9483246752501112, 0.9538717275461313, 0.9955138596317401, 0.9412680307266441, 0.9745359679864454, 0.9846412021748585, 0.9546017880637838, 0.03535562178014014, 0.9684775449223074, 0.15089701064584965, 0.8299335585521731, 0.9669084940686731, 0.9750810213712088, 0.9610612553111736, 0.9496636465367236, 0.9510600244685676, 0.9967026901501367, 0.7595449016656205, 0.2301651217168547, 0.9163235609014783, 0.9762318273927131, 0.9773274218183595, 0.9731275202262755, 0.9551664396184396, 0.9857710182959617, 0.9655773524339166, 0.9667199847478499, 0.9667063531836363, 0.9732873669085053, 0.9104707564729465, 0.9697670741620207, 0.9786559698170779, 0.9849201976567817, 0.8819901249687276, 0.9375458094938057, 0.9592420464489763, 0.9493084840046128, 0.9624080271599903, 0.33123897694396054, 0.2129393423211175, 0.4495386115668036, 0.9046129587507342, 0.9291120022734554, 0.9342685550343386, 0.9895863991380245, 0.5706791611206756, 0.26296000561442895, 0.06713872483772654, 0.0951131935201126, 0.9557493930574442, 0.9528786723960659, 0.9866274074172143, 0.7793931424533735, 0.027835469373334767, 0.19484828561334339, 0.9614112013872095, 0.9938860425200453, 0.978880655069355, 0.23824569566681864, 0.74877218638143, 0.9789850273300212, 0.9619931062388697, 0.98183918287682, 0.04683971840866899, 0.32787802886068296, 0.6089163393126968, 0.9664128488713039, 0.9386876735739319, 0.9605210113762596, 0.8967809299541363, 0.9672889530438908, 0.9206683878681884, 0.9867908732738551, 0.9028399454893709, 0.9565288142003796, 0.9598091074422972, 0.9529076608717073, 0.951496682875505, 0.951611801293613, 0.9357911962546682, 0.05504654095615696, 0.9629384895861671, 0.9617117664780235, 0.9348691118620921, 0.07321983128261486, 0.8786379753913784, 0.6339507355790353, 0.15420423297868424, 0.19703874213942985, 0.7964298454893732, 0.16592288447695278, 0.9639419793465127, 0.9591536229914042, 0.9510605522117077, 0.9865144541796347, 0.9719559676231142, 0.9656966262506916, 0.02926353412880884, 0.9169102433655533, 0.9236161767204447, 0.9551429084537022, 0.9630374189557742, 0.9319266556171805, 0.9343718834372561, 0.9676697439413409, 0.9781620047542098, 0.9140855681570123, 0.9448924264109919, 0.9614616396000517, 0.6082089598097375, 0.3593962035239358, 0.9819652400271739, 0.9190959109129869, 0.9493232189896247, 0.2192296810642915, 0.7673038837250202, 0.9590616870522293, 0.3436691452080749, 0.6300600995481374, 0.9828424551807963, 0.9590793649072433, 0.9336576074376743, 0.9787415512576204, 0.9592325855938161, 0.9678373571187389, 0.9911504236613327, 0.9509041471567669, 0.988025051805094, 0.9758502265779887, 0.9122328418194705, 0.9530006904220646, 0.9582463977824071, 0.9626190378860289, 0.9432217693829076, 0.987473793375381, 0.9352786262073856, 0.9806351749629416, 0.9703165698419485, 0.9183495174348476, 0.9762030472933163, 0.9732869408694913, 0.9570087379708899, 0.9727095216353387, 0.04165390137730044, 0.9580397316779101, 0.9694667632472161, 0.9815696311239217, 0.9008728960130784, 0.9868672489598973, 0.9610530630230167, 0.9738843737196775, 0.07086026210135267, 0.9211834073175847, 0.7427462515286077, 0.24758208384286925, 0.9952883418118663, 0.9688893833842911, 0.9192773594602367, 0.938746592497682, 0.9781701362669599, 0.9690025278759767, 0.05168281319860992, 0.15504843959582976, 0.7752421979791488, 0.9753490497940206, 0.9506023586215291, 0.9874831606657029, 0.9792973698758989, 0.9719975644840954, 0.9444295302861201, 0.9855495898110971, 0.1319312409348726, 0.18470373730882164, 0.501338715552516, 0.15831748912184712, 0.7566612269524361, 0.22699836808573085, 0.9819430714039179, 0.9549145556182729, 0.9751594276722798, 0.9355506851166052, 0.9761256651043634, 0.7442273808260063, 0.22326821424780188, 0.18358195793983428, 0.15533857979524437, 0.6495976973255674, 0.9745657204305218, 0.9849029968912163, 0.9513289097726472, 0.9493336885010473, 0.9821987760298194, 0.9817828701845392, 0.9571561247294845, 0.9792147641820719, 0.8105252458034626, 0.17684187181166458, 0.9755489006746398, 0.026651373328283844, 0.2398623599545546, 0.7195870798636638, 0.0449242589969282, 0.898485179938564, 0.7075454229172636, 0.2572892446971868, 0.22409203772365974, 0.7656477955558375, 0.07674842749627156, 0.9017940230811908, 0.9362948966195271, 0.9739605583175432, 0.9707934235474963, 0.9839727385216235, 0.8967787762656134, 0.9725236579513442, 0.8886906674109484, 0.08079006067372257, 0.9901226121886862, 0.9824794127070587, 0.9788373137577363, 0.9946248595739532, 0.9816446020229828, 0.9092876713400903, 0.9240803910409325, 0.9452991718065367, 0.9744270613768982, 0.9297640602843531, 0.9801922587123758, 0.9615801431403461, 0.9617428724924707, 0.9895709902224018, 0.9947468767782924, 0.978407763849326, 0.9336477301136386, 0.22744715027185763, 0.7392032383835373], \"Term\": [\"abc\", \"accident\", \"accident\", \"accident\", \"affected\", \"ago\", \"air\", \"air\", \"air\", \"aircraft\", \"aircraft\", \"airlines\", \"airplane\", \"airport\", \"alabama\", \"alberta\", \"ambulance\", \"amid\", \"anniversary\", \"area\", \"army\", \"atomic\", \"atomic\", \"attack\", \"attack\", \"attacked\", \"attacked\", \"aug\", \"august\", \"august\", \"best\", \"bestnaijamade\", \"bigger\", \"bigger\", \"black\", \"boat\", \"bodies\", \"body\", \"bomb\", \"bomb\", \"bomb\", \"bomber\", \"bombing\", \"breaking\", \"bridge\", \"building\", \"buildings\", \"burning\", \"bus\", \"calgary\", \"calgary\", \"california\", \"called\", \"captures\", \"car\", \"car\", \"case\", \"casualties\", \"casualties\", \"caught\", \"cause\", \"caused\", \"cdt\", \"center\", \"charged\", \"china\", \"christian\", \"city\", \"claims\", \"climate\", \"closed\", \"cnn\", \"coaches\", \"collapse\", \"come\", \"conclusively\", \"confirmed\", \"confirmed\", \"confirms\", \"costlier\", \"county\", \"crash\", \"crashed\", \"crashed\", \"crazy\", \"crews\", \"crews\", \"crisis\", \"damage\", \"damage\", \"damage\", \"day\", \"day\", \"dead\", \"dead\", \"deal\", \"death\", \"death\", \"debris\", \"declaration\", \"declares\", \"derailed\", \"derailed\", \"derailed\", \"derailment\", \"derailment\", \"detonated\", \"detonated\", \"devastated\", \"disaster\", \"disaster\", \"disaster\", \"disaster\", \"disea\", \"disea\", \"drought\", \"drought\", \"drought\", \"dust\", \"early\", \"earthquake\", \"east\", \"east\", \"ebola\", \"emergency\", \"end\", \"engulfed\", \"evacuate\", \"evacuation\", \"evacuation\", \"exchanging\", \"exchanging\", \"explosion\", \"failure\", \"failure\", \"families\", \"family\", \"famine\", \"famine\", \"famine\", \"far\", \"fatal\", \"fires\", \"flag\", \"flag\", \"flames\", \"flash\", \"flight\", \"flood\", \"flood\", \"flooding\", \"flooding\", \"floods\", \"food\", \"forest\", \"forest\", \"fox\", \"fukushima\", \"galactic\", \"gas\", \"geller\", \"giant\", \"global\", \"god\", \"going\", \"good\", \"got\", \"great\", \"group\", \"hail\", \"half\", \"hear\", \"heat\", \"heavy\", \"helicopter\", \"help\", \"high\", \"hijack\", \"hijacker\", \"hiroshima\", \"hiroshima\", \"history\", \"hit\", \"hit\", \"home\", \"homes\", \"hope\", \"horror\", \"horror\", \"hostage\", \"hostages\", \"hostages\", \"hostages\", \"hot\", \"house\", \"houses\", \"hundreds\", \"hurricane\", \"image\", \"india\", \"injured\", \"injuries\", \"injury\", \"inside\", \"investigators\", \"iran\", \"isis\", \"islamic\", \"island\", \"israeli\", \"issued\", \"issues\", \"japan\", \"japan\", \"japan\", \"japanese\", \"jonathan\", \"kill\", \"killed\", \"killed\", \"killed\", \"killed\", \"land\", \"landing\", \"landslide\", \"latest\", \"legionnaires\", \"legionnaires\", \"let\", \"life\", \"lightning\", \"like\", \"line\", \"little\", \"live\", \"lives\", \"lives\", \"living\", \"look\", \"look\", \"looks\", \"lost\", \"loud\", \"love\", \"madhya\", \"malaysia\", \"man\", \"man\", \"marks\", \"mass\", \"massacre\", \"media\", \"members\", \"migrants\", \"military\", \"minute\", \"missing\", \"mosque\", \"mount\", \"movie\", \"mph\", \"murder\", \"muslims\", \"nagasaki\", \"nasa\", \"national\", \"natural\", \"near\", \"near\", \"near\", \"nearby\", \"nearly\", \"need\", \"new\", \"news\", \"news\", \"news\", \"news\", \"nigerian\", \"north\", \"northern\", \"nuclear\", \"nuclear\", \"nuclear\", \"nws\", \"obama\", \"officer\", \"officials\", \"officials\", \"oil\", \"oklahoma\", \"old\", \"outbreak\", \"outbreak\", \"outbreak\", \"outrage\", \"pakistan\", \"pakistani\", \"pamela\", \"past\", \"patience\", \"people\", \"philippines\", \"photo\", \"pic\", \"picking\", \"piece\", \"pilot\", \"pkk\", \"pkk\", \"place\", \"plan\", \"plans\", \"plunging\", \"plunging\", \"police\", \"police\", \"police\", \"possible\", \"possible\", \"post\", \"power\", \"pradesh\", \"projected\", \"rain\", \"razed\", \"razed\", \"read\", \"record\", \"red\", \"refugio\", \"region\", \"related\", \"released\", \"report\", \"reported\", \"rescue\", \"rescued\", \"rescuers\", \"rescuers\", \"reunion\", \"richmond\", \"right\", \"rioting\", \"rioting\", \"river\", \"rly\", \"rly\", \"road\", \"rubble\", \"run\", \"said\", \"saipan\", \"sandstorm\", \"saudi\", \"saw\", \"says\", \"school\", \"science\", \"searching\", \"security\", \"service\", \"services\", \"severe\", \"shit\", \"shooting\", \"shot\", \"shots\", \"signs\", \"sinkhole\", \"site\", \"soudelor\", \"south\", \"south\", \"spill\", \"state\", \"stop\", \"storm\", \"story\", \"street\", \"structural\", \"structural\", \"sue\", \"sue\", \"suicide\", \"summer\", \"support\", \"survive\", \"survived\", \"survivors\", \"suspect\", \"suspect\", \"suspect\", \"swallowed\", \"temple\", \"terrorism\", \"terrorist\", \"think\", \"thunder\", \"thunderstorm\", \"time\", \"time\", \"time\", \"time\", \"times\", \"times\", \"today\", \"tonight\", \"tornado\", \"town\", \"traffic\", \"tragedy\", \"tragedy\", \"train\", \"train\", \"train\", \"trapped\", \"trauma\", \"trench\", \"truck\", \"turkey\", \"typhoon\", \"update\", \"utc\", \"video\", \"video\", \"village\", \"violent\", \"violent\", \"violent\", \"virgin\", \"virgin\", \"volcano\", \"volcano\", \"war\", \"war\", \"warning\", \"warning\", \"washington\", \"watch\", \"water\", \"wave\", \"waving\", \"weapon\", \"weapons\", \"weapons\", \"weather\", \"west\", \"wild\", \"wildfire\", \"wind\", \"winds\", \"women\", \"work\", \"world\", \"worldnews\", \"wounded\", \"wounds\", \"wreck\", \"wreckage\", \"year\", \"years\", \"youth\", \"youtube\", \"youtube\"]}, \"R\": 30, \"lambda.step\": 0.01, \"plot.opts\": {\"xlab\": \"PC1\", \"ylab\": \"PC2\"}, \"topic.order\": [3, 1, 7, 9, 10, 4, 2, 5, 6, 8]};\n",
              "\n",
              "function LDAvis_load_lib(url, callback){\n",
              "  var s = document.createElement('script');\n",
              "  s.src = url;\n",
              "  s.async = true;\n",
              "  s.onreadystatechange = s.onload = callback;\n",
              "  s.onerror = function(){console.warn(\"failed to load library \" + url);};\n",
              "  document.getElementsByTagName(\"head\")[0].appendChild(s);\n",
              "}\n",
              "\n",
              "if(typeof(LDAvis) !== \"undefined\"){\n",
              "   // already loaded: just create the visualization\n",
              "   !function(LDAvis){\n",
              "       new LDAvis(\"#\" + \"ldavis_el1241401264431292569418280342\", ldavis_el1241401264431292569418280342_data);\n",
              "   }(LDAvis);\n",
              "}else if(typeof define === \"function\" && define.amd){\n",
              "   // require.js is available: use it to load d3/LDAvis\n",
              "   require.config({paths: {d3: \"https://cdnjs.cloudflare.com/ajax/libs/d3/3.5.5/d3.min\"}});\n",
              "   require([\"d3\"], function(d3){\n",
              "      window.d3 = d3;\n",
              "      LDAvis_load_lib(\"https://cdn.rawgit.com/bmabey/pyLDAvis/files/ldavis.v1.0.0.js\", function(){\n",
              "        new LDAvis(\"#\" + \"ldavis_el1241401264431292569418280342\", ldavis_el1241401264431292569418280342_data);\n",
              "      });\n",
              "    });\n",
              "}else{\n",
              "    // require.js not available: dynamically load d3 & LDAvis\n",
              "    LDAvis_load_lib(\"https://cdnjs.cloudflare.com/ajax/libs/d3/3.5.5/d3.min.js\", function(){\n",
              "         LDAvis_load_lib(\"https://cdn.rawgit.com/bmabey/pyLDAvis/files/ldavis.v1.0.0.js\", function(){\n",
              "                 new LDAvis(\"#\" + \"ldavis_el1241401264431292569418280342\", ldavis_el1241401264431292569418280342_data);\n",
              "            })\n",
              "         });\n",
              "}\n",
              "</script>"
            ],
            "text/plain": [
              "PreparedData(topic_coordinates=               x          y  topics  cluster       Freq\n",
              "topic                                                  \n",
              "2      32.420952   8.115230       1        1  13.128126\n",
              "0       0.648955  71.707100       2        1  11.566724\n",
              "6      71.019684   9.971006       3        1  11.192658\n",
              "8       3.785981  33.185135       4        1  10.914337\n",
              "9     -42.666500  -9.222070       5        1  10.193261\n",
              "3      -3.621689 -43.526516       6        1   9.802416\n",
              "1      -3.632402  -4.171708       7        1   9.151980\n",
              "4     -36.584400  35.804413       8        1   9.102390\n",
              "5      44.391380  50.615383       9        1   7.826940\n",
              "7      40.235809 -31.591665      10        1   7.121168, topic_info=          Term        Freq       Total Category  logprob  loglift\n",
              "636   malaysia  185.000000  185.000000  Default  30.0000  30.0000\n",
              "390     flight  126.000000  126.000000  Default  29.0000  29.0000\n",
              "25    airlines  119.000000  119.000000  Default  28.0000  28.0000\n",
              "1027   suicide  127.000000  127.000000  Default  27.0000  27.0000\n",
              "363   families  106.000000  106.000000  Default  26.0000  26.0000\n",
              "...        ...         ...         ...      ...      ...      ...\n",
              "1217   youtube   13.020914   17.586503  Topic10  -4.6246   2.3415\n",
              "386       flag    8.860378   10.725643  Topic10  -5.0095   2.4511\n",
              "895        rly   10.886845   17.458652  Topic10  -4.8036   2.1698\n",
              "64    attacked   10.654115   17.380936  Topic10  -4.8252   2.1527\n",
              "1144     video   12.260583   67.857232  Topic10  -4.6847   0.9311\n",
              "\n",
              "[410 rows x 6 columns], token_table=      Topic      Freq      Term\n",
              "term                           \n",
              "2         2  0.988919       abc\n",
              "4         5  0.801245  accident\n",
              "4         7  0.147598  accident\n",
              "4         9  0.042171  accident\n",
              "13        4  0.973785  affected\n",
              "...     ...       ...       ...\n",
              "1211      8  0.994747      year\n",
              "1212      2  0.978408     years\n",
              "1216      2  0.933648     youth\n",
              "1217      5  0.227447   youtube\n",
              "1217     10  0.739203   youtube\n",
              "\n",
              "[465 rows x 3 columns], R=30, lambda_step=0.01, plot_opts={'xlab': 'PC1', 'ylab': 'PC2'}, topic_order=[3, 1, 7, 9, 10, 4, 2, 5, 6, 8])"
            ]
          },
          "metadata": {
            "tags": []
          },
          "execution_count": 16
        }
      ]
    },
    {
      "cell_type": "markdown",
      "metadata": {
        "id": "aN6xmfkPG0DR",
        "colab_type": "text"
      },
      "source": [
        "#### TFIDF Vectorization"
      ]
    },
    {
      "cell_type": "code",
      "metadata": {
        "id": "08U9e5xmG5mL",
        "colab_type": "code",
        "colab": {}
      },
      "source": [
        "tfidf_vec = TfidfVectorizer(stop_words='english', ngram_range=(1,3))\n",
        "tfidf_vec.fit_transform(train_df['text_cleaned'].values.tolist() + test_df['text_cleaned'].values.tolist())\n",
        "train_tfidf = tfidf_vec.transform(train_df['text_cleaned'].values.tolist())\n",
        "test_tfidf = tfidf_vec.transform(test_df['text_cleaned'].values.tolist())"
      ],
      "execution_count": null,
      "outputs": []
    },
    {
      "cell_type": "code",
      "metadata": {
        "id": "ag-guK3TxG0Z",
        "colab_type": "code",
        "colab": {
          "base_uri": "https://localhost:8080/",
          "height": 52
        },
        "outputId": "31fc112c-714a-4e23-b0c0-c9ade65e6f17"
      },
      "source": [
        "train_tfidf"
      ],
      "execution_count": null,
      "outputs": [
        {
          "output_type": "execute_result",
          "data": {
            "text/plain": [
              "<7613x139122 sparse matrix of type '<class 'numpy.float64'>'\n",
              "\twith 174644 stored elements in Compressed Sparse Row format>"
            ]
          },
          "metadata": {
            "tags": []
          },
          "execution_count": 13
        }
      ]
    },
    {
      "cell_type": "markdown",
      "metadata": {
        "id": "Y90Hdk9-HcI3",
        "colab_type": "text"
      },
      "source": [
        "#### Building Classification models"
      ]
    },
    {
      "cell_type": "markdown",
      "metadata": {
        "id": "z-hJCfo2HhTM",
        "colab_type": "text"
      },
      "source": [
        "##### 1. Logistic Regression"
      ]
    },
    {
      "cell_type": "code",
      "metadata": {
        "id": "NGY_of2eHbDe",
        "colab_type": "code",
        "colab": {
          "base_uri": "https://localhost:8080/",
          "height": 34
        },
        "outputId": "5a3615d9-5c1d-463f-b26b-9f4c4f761e2e"
      },
      "source": [
        "train_y = train_df.target_relabeled.values\n",
        "\n",
        "def runModel(train_X, train_y, test_X, test_y, test_X2):\n",
        "  model = linear_model.LogisticRegression(C=5., solver='sag')\n",
        "  model.fit(train_X, train_y)\n",
        "  pred_test_y = model.predict_proba(test_X)[:,1]\n",
        "  pred_test_y2 = model.predict_proba(test_X2)[:,1]\n",
        "  return pred_test_y, pred_test_y2, model\n",
        "\n",
        "print(\"Building model.\")\n",
        "\n",
        "cv_scores = []\n",
        "pred_full_test = 0\n",
        "pred_train = np.zeros([train_df.shape[0]])\n",
        "kf = model_selection.KFold(n_splits=5, shuffle=True, random_state=8)\n",
        "for dev_index, val_index in kf.split(train_df):\n",
        "  dev_X, val_X = train_tfidf[dev_index], train_tfidf[val_index]\n",
        "  dev_y, val_y = train_y[dev_index], train_y[val_index]\n",
        "  pred_val_y, pred_test_y, model = runModel(dev_X, dev_y, val_X, val_y, test_tfidf)\n",
        "  pred_full_test = pred_full_test + pred_test_y\n",
        "  pred_train[val_index] = pred_val_y\n",
        "  cv_scores.append(metrics.log_loss(val_y, pred_val_y))\n",
        "  break"
      ],
      "execution_count": null,
      "outputs": [
        {
          "output_type": "stream",
          "text": [
            "Building model.\n"
          ],
          "name": "stdout"
        }
      ]
    },
    {
      "cell_type": "code",
      "metadata": {
        "id": "SaD7nNcuIYdQ",
        "colab_type": "code",
        "colab": {
          "base_uri": "https://localhost:8080/",
          "height": 70
        },
        "outputId": "cb0b38d4-a24c-4947-fcd9-ad804a890fdc"
      },
      "source": [
        "from tqdm import tqdm\n",
        "\n",
        "def threshold_search(y_true, y_proba):\n",
        "  #reference: https://www.kaggle.com/hung96ad/pytorch-starter\n",
        "  best_threshold = 0\n",
        "  best_score = 0\n",
        "  for threshold in tqdm([i * 0.001 for i in range(1000)]):\n",
        "    score = metrics.f1_score(y_true=y_true, y_pred=y_proba > threshold)\n",
        "    print(score)\n",
        "    if score > best_score:\n",
        "      best_threshold = threshold\n",
        "      best_score = score\n",
        "      search_result = {'threshold': best_threshold, 'f1': best_score}\n",
        "      return search_result\n",
        "      \n",
        "search_result = threshold_search(val_y, pred_val_y)\n",
        "search_result"
      ],
      "execution_count": null,
      "outputs": [
        {
          "output_type": "stream",
          "text": [
            "  0%|          | 0/1000 [00:00<?, ?it/s]"
          ],
          "name": "stderr"
        },
        {
          "output_type": "stream",
          "text": [
            "0.6059496567505721\n"
          ],
          "name": "stdout"
        },
        {
          "output_type": "stream",
          "text": [
            "\n"
          ],
          "name": "stderr"
        },
        {
          "output_type": "execute_result",
          "data": {
            "text/plain": [
              "{'f1': 0.6059496567505721, 'threshold': 0.0}"
            ]
          },
          "metadata": {
            "tags": []
          },
          "execution_count": 31
        }
      ]
    },
    {
      "cell_type": "code",
      "metadata": {
        "id": "YHyYuo3nI9ev",
        "colab_type": "code",
        "colab": {
          "base_uri": "https://localhost:8080/",
          "height": 70
        },
        "outputId": "c9879529-ffc6-4cf2-f70b-8db51c79ed1a"
      },
      "source": [
        "print(\"F1 score at threshold {0} is {1}\".format(0.381, metrics.f1_score(val_y, (pred_val_y>0.381).astype(int))))\n",
        "print(\"Precision at threshold {0} is {1}\".format(0.381, metrics.precision_score(val_y, (pred_val_y>0.381).astype(int))))\n",
        "print(\"recall score at threshold {0} is {1}\".format(0.381, metrics.recall_score(val_y, (pred_val_y>0.381).astype(int))))"
      ],
      "execution_count": null,
      "outputs": [
        {
          "output_type": "stream",
          "text": [
            "F1 score at threshold 0.381 is 0.7624720774385705\n",
            "Precision at threshold 0.381 is 0.7551622418879056\n",
            "recall score at threshold 0.381 is 0.7699248120300752\n"
          ],
          "name": "stdout"
        }
      ]
    },
    {
      "cell_type": "code",
      "metadata": {
        "id": "QWIMAm5DmRwg",
        "colab_type": "code",
        "colab": {}
      },
      "source": [
        "import pandas as pd\n",
        "from sklearn.metrics import confusion_matrix, accuracy_score\n",
        "from sklearn.model_selection import train_test_split\n",
        "\n",
        "def getClassifierObj(classifier, rs):\n",
        "    '''Functio to get the classifier object\n",
        "    '''\n",
        "    if classifier == 'XGBoost':\n",
        "        from xgboost import XGBClassifier\n",
        "        classifier = XGBClassifier()\n",
        "    \n",
        "    elif classifier == 'LogisticRegression':\n",
        "        from sklearn.linear_model import LogisticRegression\n",
        "        classifier = LogisticRegression(random_state = rs)\n",
        "    \n",
        "    elif classifier == 'KNN':\n",
        "        from sklearn.neighbors import KNeighborsClassifier\n",
        "        classifier = KNeighborsClassifier(n_neighbors = 5, metric = 'minkowski', p = 2)\n",
        "    \n",
        "    elif classifier == 'SVM':\n",
        "        from sklearn.svm import SVC\n",
        "        classifier = SVC(kernel = 'linear', random_state = rs)\n",
        "        \n",
        "    elif classifier == 'Kernel SVM':\n",
        "        from sklearn.svm import SVC\n",
        "        classifier = SVC(kernel = 'rbf', random_state = rs)\n",
        "        \n",
        "    elif classifier == 'NB':\n",
        "        from sklearn.naive_bayes import GaussianNB\n",
        "        classifier = GaussianNB()\n",
        "        \n",
        "    elif classifier == 'DecisionTree':\n",
        "        from sklearn.tree import DecisionTreeClassifier\n",
        "        classifier = DecisionTreeClassifier(criterion = 'entropy', random_state = rs)\n",
        "        \n",
        "    elif classifier == 'RandomForest':\n",
        "        from sklearn.ensemble import RandomForestClassifier\n",
        "        classifier = RandomForestClassifier(n_estimators = 100, criterion = 'entropy', random_state = rs)\n",
        "        \n",
        "    return classifier\n",
        "            \n",
        "def fitAndPredict(estimator,X_train,y_train,X_test):\n",
        "    '''Function to fit and predict\n",
        "    '''\n",
        "    estimator.fit(X_train,y_train)\n",
        "    predictions = estimator.predict(X_test)\n",
        "    return predictions\n",
        "\n",
        "def getModelAccuracy(y_test, y_pred):\n",
        "    '''Function to get model accuracy'''\n",
        "    from sklearn.metrics import accuracy_score\n",
        "    return accuracy_score(y_test, y_pred)*100\n",
        "\n",
        "def getFinalPredictions(classifiers, X_train,X_test, y_train, y_test):\n",
        "    ''' Function to get classifier with highest accuracy on the data\n",
        "    '''\n",
        "    # classifiers = ['LogisticRegression','KNN', 'Kernel SVM','DecisionTree','RandomForest','XGBoost']\n",
        "    # classifiers = ['RandomForest']\n",
        "    accuracy = 0\n",
        "    best_predictions = ''\n",
        "    bestClassifierName = ''\n",
        "    classifier = ''\n",
        "    \n",
        "    for classifierName in classifiers:\n",
        "        print('Evaluation started for ', classifierName)\n",
        "        classifier = getClassifierObj(classifierName,8)\n",
        "        y_pred = fitAndPredict(classifier,X_train,y_train,X_test)\n",
        "        \n",
        "        classifierAccuracy = getModelAccuracy(y_test,y_pred)\n",
        "        print('Average accuracy of {} is {:.2f}%'.format(classifierName,classifierAccuracy))\n",
        "        if classifierAccuracy > accuracy :\n",
        "            accuracy = classifierAccuracy\n",
        "            bestClassifierName = classifierName\n",
        "            best_predictions = y_pred\n",
        "            bestClassifier = classifier\n",
        "            \n",
        "            \n",
        "    print('Classifier with highest accuracy is {}'.format(bestClassifierName))\n",
        "    return best_predictions, accuracy, classifier      \n",
        "\n",
        "def classify(classifiers, X_train,X_test, y_train, y_test):\n",
        "    final_pred, final_accuracy, classifier = getFinalPredictions(classifiers, X_train,X_test, y_train, y_test)        \n",
        "    cm = confusion_matrix(y_test, final_pred)\n",
        "    print(cm)\n",
        "    return final_pred, final_accuracy, classifier"
      ],
      "execution_count": null,
      "outputs": []
    },
    {
      "cell_type": "code",
      "metadata": {
        "id": "QebVn5tvxtyG",
        "colab_type": "code",
        "colab": {
          "base_uri": "https://localhost:8080/",
          "height": 283
        },
        "outputId": "6fc9c81a-891e-44c4-88dd-f5e0fced3837"
      },
      "source": [
        "\n",
        "import pandas as pd\n",
        "from sklearn.metrics import confusion_matrix, accuracy_score\n",
        "from sklearn.model_selection import train_test_split\n",
        "\n",
        "classifiers = ['LogisticRegression','KNN', 'Kernel SVM','DecisionTree','RandomForest','XGBoost']\n",
        "# classifiers = ['RandomForest']\n",
        "\n",
        "\n",
        "train_y = train_df.target_relabeled.values\n",
        "X_train, X_test, y_train, y_test = train_test_split(train_tfidf, train_y, random_state=8, test_size = 0.2)\n",
        "final_pred, final_accuracy, bestClassifier = classify(classifiers,X_train, X_test, y_train, y_test)"
      ],
      "execution_count": null,
      "outputs": [
        {
          "output_type": "stream",
          "text": [
            "Evaluation started for  LogisticRegression\n",
            "Average accuracy of LogisticRegression is 74.85%\n",
            "Evaluation started for  KNN\n",
            "Average accuracy of KNN is 75.71%\n",
            "Evaluation started for  Kernel SVM\n",
            "Average accuracy of Kernel SVM is 73.08%\n",
            "Evaluation started for  DecisionTree\n",
            "Average accuracy of DecisionTree is 73.01%\n",
            "Evaluation started for  RandomForest\n",
            "Average accuracy of RandomForest is 75.77%\n",
            "Evaluation started for  XGBoost\n",
            "Average accuracy of XGBoost is 70.78%\n",
            "Classifier with highest accuracy is RandomForest\n",
            "[[812  49]\n",
            " [320 342]]\n"
          ],
          "name": "stdout"
        }
      ]
    },
    {
      "cell_type": "code",
      "metadata": {
        "id": "mGmlxKT769tC",
        "colab_type": "code",
        "colab": {
          "base_uri": "https://localhost:8080/",
          "height": 105
        },
        "outputId": "b109305a-51cc-4c5b-8c45-64edc051301d"
      },
      "source": [
        "import pandas as pd\n",
        "from sklearn.metrics import confusion_matrix, accuracy_score\n",
        "from sklearn.model_selection import train_test_split\n",
        "\n",
        "# classifiers = ['LogisticRegression','KNN', 'Kernel SVM','DecisionTree','RandomForest','XGBoost']\n",
        "classifiers = ['RandomForest']\n",
        "\n",
        "train_y = train_df.target_relabeled.values\n",
        "X_train, X_test, y_train, y_test = train_test_split(train_tfidf, train_y, random_state=8, test_size = 0.2)\n",
        "final_pred, final_accuracy, bestClassifier = classify(classifiers,X_train, X_test, y_train, y_test)"
      ],
      "execution_count": null,
      "outputs": [
        {
          "output_type": "stream",
          "text": [
            "Evaluation started for  RandomForest\n",
            "Average accuracy of RandomForest is 76.43%\n",
            "Classifier with highest accuracy is RandomForest\n",
            "[[818  43]\n",
            " [316 346]]\n"
          ],
          "name": "stdout"
        }
      ]
    },
    {
      "cell_type": "markdown",
      "metadata": {
        "id": "CaU5dy2edUrn",
        "colab_type": "text"
      },
      "source": [
        "### Cross Validation of models"
      ]
    },
    {
      "cell_type": "code",
      "metadata": {
        "id": "es3MLVgcACgM",
        "colab_type": "code",
        "colab": {
          "base_uri": "https://localhost:8080/",
          "height": 34
        },
        "outputId": "221db04a-1afd-4b01-b2c9-2f3ef946504f"
      },
      "source": [
        "print(list(range(100,500,50)))"
      ],
      "execution_count": null,
      "outputs": [
        {
          "output_type": "stream",
          "text": [
            "[100, 150, 200, 250, 300, 350, 400, 450]\n"
          ],
          "name": "stdout"
        }
      ]
    },
    {
      "cell_type": "code",
      "metadata": {
        "id": "nUDLqRvK84vh",
        "colab_type": "code",
        "colab": {
          "base_uri": "https://localhost:8080/",
          "height": 52
        },
        "outputId": "862e72ff-c02f-4e54-eae3-b0092ceb16bc"
      },
      "source": [
        "from sklearn.ensemble import RandomForestClassifier\n",
        "from sklearn.model_selection import validation_curve\n",
        "from sklearn.model_selection import GridSearchCV\n",
        "parameters = [{'n_estimators' : list(range(100,300,50))}]\n",
        "\n",
        "grid_search = GridSearchCV(estimator = RandomForestClassifier(),\n",
        "                           param_grid = parameters,\n",
        "                           scoring = 'accuracy',\n",
        "                           cv = 3,\n",
        "                           n_jobs = -1)\n",
        "\n",
        "grid_search.fit(X_train, y_train)\n",
        "best_accuracy = grid_search.best_score_\n",
        "best_parameters = grid_search.best_params_\n",
        "\n",
        "print('Best Accuracy: {:.2f}%'.format(best_accuracy*100))\n",
        "print('Best Parameters:', best_parameters)\n",
        "# train_scoreNum, test_scoreNum = validation_curve(RandomForestClassifier(),\n",
        "#                                 X = X_train, y = y_train, \n",
        "#                                 param_name = 'n_estimators', \n",
        "#                                 param_range = num_est, cv = 3)"
      ],
      "execution_count": null,
      "outputs": [
        {
          "output_type": "stream",
          "text": [
            "Best Accuracy: 76.58%\n",
            "Best Parameters: {'n_estimators': 150}\n"
          ],
          "name": "stdout"
        }
      ]
    },
    {
      "cell_type": "code",
      "metadata": {
        "id": "0xoT4xe2HSJ-",
        "colab_type": "code",
        "colab": {
          "base_uri": "https://localhost:8080/",
          "height": 52
        },
        "outputId": "6d7eb86e-b14d-4a1e-a752-8d2ca1d42c99"
      },
      "source": [
        "from sklearn.model_selection import validation_curve\n",
        "from sklearn.model_selection import GridSearchCV\n",
        "from sklearn.svm import SVC\n",
        "classifier = SVC()\n",
        "\n",
        "parameters = [{'C': [1, 10, 100], 'kernel': ['linear']},\n",
        "              {'C': [1, 10, 100], 'kernel': ['rbf'], 'gamma': [0.1, 0.5, 0.9]}]\n",
        "grid_search = GridSearchCV(estimator = classifier,\n",
        "                           param_grid = parameters,\n",
        "                           scoring = 'accuracy',\n",
        "                           cv = 3,\n",
        "                           n_jobs = -1)\n",
        "grid_search = grid_search.fit(X_train, y_train)\n",
        "best_accuracy = grid_search.best_score_\n",
        "best_parameters = grid_search.best_params_\n",
        "\n",
        "print('Best Accuracy: {:.2f}%'.format(best_accuracy*100))\n",
        "print('Best Parameters:', best_parameters)\n"
      ],
      "execution_count": null,
      "outputs": [
        {
          "output_type": "stream",
          "text": [
            "Best Accuracy: 79.59%\n",
            "Best Parameters: {'C': 10, 'gamma': 0.1, 'kernel': 'rbf'}\n"
          ],
          "name": "stdout"
        }
      ]
    },
    {
      "cell_type": "code",
      "metadata": {
        "id": "E-3oR9XppzpR",
        "colab_type": "code",
        "colab": {
          "base_uri": "https://localhost:8080/",
          "height": 52
        },
        "outputId": "53f04f7d-4cc5-4929-f027-cf3b41ea4c06"
      },
      "source": [
        "from sklearn.model_selection import validation_curve\n",
        "from sklearn.model_selection import GridSearchCV\n",
        "from sklearn.neighbors import KNeighborsClassifier\n",
        "classifier = KNeighborsClassifier()\n",
        "\n",
        "parameters = [{'n_neighbors' : list(range(5,50,2)),\n",
        "               'leaf_size': [30,35,40,45,50],\n",
        "               'metric': ['minkowski', 'euclidean']\n",
        "               }]\n",
        "grid_search = GridSearchCV(estimator = classifier,\n",
        "                           param_grid = parameters,\n",
        "                           scoring = 'accuracy',\n",
        "                           cv = 3,\n",
        "                           n_jobs = -1)\n",
        "grid_search = grid_search.fit(X_train, y_train)\n",
        "best_accuracy = grid_search.best_score_\n",
        "best_parameters = grid_search.best_params_\n",
        "\n",
        "print('Best Accuracy: {:.2f}%'.format(best_accuracy*100))\n",
        "print('Best Parameters:', best_parameters)"
      ],
      "execution_count": null,
      "outputs": [
        {
          "output_type": "stream",
          "text": [
            "Best Accuracy: 77.54%\n",
            "Best Parameters: {'leaf_size': 30, 'metric': 'minkowski', 'n_neighbors': 43}\n"
          ],
          "name": "stdout"
        }
      ]
    },
    {
      "cell_type": "code",
      "metadata": {
        "id": "9zUbID5lx_Lq",
        "colab_type": "code",
        "colab": {
          "base_uri": "https://localhost:8080/",
          "height": 52
        },
        "outputId": "2f0ff64d-2ef9-4e8a-ef6d-68f49901e66f"
      },
      "source": [
        "from sklearn.model_selection import validation_curve\n",
        "from sklearn.model_selection import GridSearchCV\n",
        "from sklearn.linear_model import LogisticRegression\n",
        "classifier = LogisticRegression()\n",
        "\n",
        "parameters = [{'C': [1, 10, 100,1000], \n",
        "               'penalty' : ['l1', 'l2', 'elasticnet', 'none'],\n",
        "               'solver' : ['newton-cg', 'lbfgs', 'liblinear', 'sag', 'saga']\n",
        "               }]\n",
        "grid_search = GridSearchCV(estimator = classifier,\n",
        "                           param_grid = parameters,\n",
        "                           scoring = 'accuracy',\n",
        "                           cv = 3,\n",
        "                           n_jobs = -1)\n",
        "grid_search = grid_search.fit(X_train, y_train)\n",
        "best_accuracy = grid_search.best_score_\n",
        "best_parameters = grid_search.best_params_\n",
        "\n",
        "print('Best Accuracy: {:.2f}%'.format(best_accuracy*100))\n",
        "print('Best Parameters:', best_parameters)"
      ],
      "execution_count": null,
      "outputs": [
        {
          "output_type": "stream",
          "text": [
            "Best Accuracy: 79.67%\n",
            "Best Parameters: {'C': 100, 'penalty': 'l1', 'solver': 'saga'}\n"
          ],
          "name": "stdout"
        }
      ]
    },
    {
      "cell_type": "code",
      "metadata": {
        "id": "96-0CK-kH3Jg",
        "colab_type": "code",
        "colab": {
          "base_uri": "https://localhost:8080/",
          "height": 872
        },
        "outputId": "0cd91f8f-038c-4d50-9acc-28bd4984b3c8"
      },
      "source": [
        "from sklearn.model_selection import validation_curve\n",
        "from sklearn.model_selection import GridSearchCV, RandomizedSearchCV, StratifiedKFold\n",
        "from datetime import datetime\n",
        "from xgboost import XGBClassifier\n",
        "\n",
        "def timer(start_time=None):\n",
        "  if not start_time:\n",
        "    start_time = datetime.now()\n",
        "    return start_time\n",
        "  elif start_time:\n",
        "    thour, temp_sec = divmod((datetime.now() - start_time).total_seconds(), 3600)\n",
        "    tmin, tsec = divmod(temp_sec, 60)\n",
        "    print('\\n Time taken: %i hours %i minutes and %s seconds.' % (thour, tmin, round(tsec, 2)))\n",
        "\n",
        "\n",
        "params = {'min_child_weight': [1, 5, 10],\n",
        "        'gamma': [0.5, 1, 1.5, 2, 5],\n",
        "        'subsample': [0.6, 0.8, 1.0],\n",
        "        'colsample_bytree': [0.6, 0.8, 1.0],\n",
        "        'max_depth': [3, 4, 5]\n",
        "        \n",
        "        }\n",
        "\n",
        "xgb = XGBClassifier(learning_rate=0.02, n_estimators=600, objective='binary:logistic',\n",
        "                    silent=True, nthread=1)\n",
        "\n",
        "folds = 3\n",
        "param_comb = 5\n",
        "\n",
        "skf = StratifiedKFold(n_splits=folds, shuffle = True, random_state = 1001)\n",
        "\n",
        "random_search = RandomizedSearchCV(xgb, param_distributions=params, n_iter=param_comb, scoring='roc_auc', n_jobs=-1, cv=skf.split(X_train,y_train), verbose=3, random_state=1001 )\n",
        "\n",
        "# Here we go\n",
        "start_time = timer(None) # timing starts from this point for \"start_time\" variable\n",
        "random_search.fit(X_train, y_train)\n",
        "timer(start_time) # timing ends here for \"start_time\" variable \n",
        "\n",
        "print('\\n All results:')\n",
        "print(random_search.cv_results_)\n",
        "print('\\n Best estimator:')\n",
        "print(random_search.best_estimator_)\n",
        "print('\\n Best normalized gini score for %d-fold search with %d parameter combinations:' % (folds, param_comb))\n",
        "print(random_search.best_score_ * 2 - 1)\n",
        "print('\\n Best hyperparameters:')\n",
        "print(random_search.best_params_)\n",
        "results = pd.DataFrame(random_search.cv_results_)\n",
        "results.to_csv('xgb-random-grid-search-results-01.csv', index=False)"
      ],
      "execution_count": null,
      "outputs": [
        {
          "output_type": "stream",
          "text": [
            "Fitting 3 folds for each of 5 candidates, totalling 15 fits\n"
          ],
          "name": "stdout"
        },
        {
          "output_type": "stream",
          "text": [
            "[Parallel(n_jobs=-1)]: Using backend LokyBackend with 2 concurrent workers.\n",
            "[Parallel(n_jobs=-1)]: Done  15 out of  15 | elapsed: 26.0min finished\n",
            "/usr/local/lib/python3.6/dist-packages/xgboost/sklearn.py:242: DeprecationWarning:\n",
            "\n",
            "The nthread parameter is deprecated as of version .6.Please use n_jobs instead.nthread is deprecated.\n",
            "\n",
            "/usr/local/lib/python3.6/dist-packages/xgboost/sklearn.py:249: DeprecationWarning:\n",
            "\n",
            "The silent parameter is deprecated.Please use verbosity instead.silent is depreated\n",
            "\n"
          ],
          "name": "stderr"
        },
        {
          "output_type": "stream",
          "text": [
            "\n",
            " Time taken: 0 hours 28 minutes and 0.62 seconds.\n",
            "\n",
            " All results:\n",
            "{'mean_fit_time': array([164.6867017 , 234.52644324, 235.00639017, 177.8218534 ,\n",
            "       189.56150119]), 'std_fit_time': array([ 0.61276134,  0.45626824,  1.82746491,  2.45172681, 47.9650434 ]), 'mean_score_time': array([0.14637272, 0.1670723 , 0.18501226, 0.16493742, 0.13338113]), 'std_score_time': array([0.00312982, 0.00222792, 0.00682904, 0.00268828, 0.02753328]), 'param_subsample': masked_array(data=[1.0, 0.6, 0.8, 1.0, 0.8],\n",
            "             mask=[False, False, False, False, False],\n",
            "       fill_value='?',\n",
            "            dtype=object), 'param_min_child_weight': masked_array(data=[5, 1, 5, 5, 1],\n",
            "             mask=[False, False, False, False, False],\n",
            "       fill_value='?',\n",
            "            dtype=object), 'param_max_depth': masked_array(data=[3, 5, 5, 5, 4],\n",
            "             mask=[False, False, False, False, False],\n",
            "       fill_value='?',\n",
            "            dtype=object), 'param_gamma': masked_array(data=[5, 1.5, 1, 5, 1],\n",
            "             mask=[False, False, False, False, False],\n",
            "       fill_value='?',\n",
            "            dtype=object), 'param_colsample_bytree': masked_array(data=[1.0, 0.8, 0.8, 0.6, 1.0],\n",
            "             mask=[False, False, False, False, False],\n",
            "       fill_value='?',\n",
            "            dtype=object), 'params': [{'subsample': 1.0, 'min_child_weight': 5, 'max_depth': 3, 'gamma': 5, 'colsample_bytree': 1.0}, {'subsample': 0.6, 'min_child_weight': 1, 'max_depth': 5, 'gamma': 1.5, 'colsample_bytree': 0.8}, {'subsample': 0.8, 'min_child_weight': 5, 'max_depth': 5, 'gamma': 1, 'colsample_bytree': 0.8}, {'subsample': 1.0, 'min_child_weight': 5, 'max_depth': 5, 'gamma': 5, 'colsample_bytree': 0.6}, {'subsample': 0.8, 'min_child_weight': 1, 'max_depth': 4, 'gamma': 1, 'colsample_bytree': 1.0}], 'split0_test_score': array([0.74909028, 0.82208688, 0.76823985, 0.75869955, 0.81321541]), 'split1_test_score': array([0.76088119, 0.80898322, 0.77444684, 0.76915728, 0.80079492]), 'split2_test_score': array([0.76987651, 0.82835925, 0.78084996, 0.78396893, 0.81768787]), 'mean_test_score': array([0.75994933, 0.81980978, 0.77451222, 0.77060859, 0.81056607]), 'std_test_score': array([0.00851149, 0.00807244, 0.00514826, 0.0103671 , 0.00714643]), 'rank_test_score': array([5, 1, 3, 4, 2], dtype=int32)}\n",
            "\n",
            " Best estimator:\n",
            "XGBClassifier(base_score=0.5, booster='gbtree', colsample_bylevel=1,\n",
            "              colsample_bynode=1, colsample_bytree=0.8, gamma=1.5,\n",
            "              learning_rate=0.02, max_delta_step=0, max_depth=5,\n",
            "              min_child_weight=1, missing=None, n_estimators=600, n_jobs=1,\n",
            "              nthread=1, objective='binary:logistic', random_state=0,\n",
            "              reg_alpha=0, reg_lambda=1, scale_pos_weight=1, seed=None,\n",
            "              silent=True, subsample=0.6, verbosity=1)\n",
            "\n",
            " Best normalized gini score for 3-fold search with 5 parameter combinations:\n",
            "0.6396195619527443\n",
            "\n",
            " Best hyperparameters:\n",
            "{'subsample': 0.6, 'min_child_weight': 1, 'max_depth': 5, 'gamma': 1.5, 'colsample_bytree': 0.8}\n"
          ],
          "name": "stdout"
        }
      ]
    },
    {
      "cell_type": "code",
      "metadata": {
        "id": "06piFS2mdTv6",
        "colab_type": "code",
        "colab": {
          "base_uri": "https://localhost:8080/",
          "height": 905
        },
        "outputId": "a3b8217e-a73d-4362-9fc1-269e215e1b81"
      },
      "source": [
        "# Applying k-Fold Cross Validation\n",
        "train_y = train_df.target_relabeled.values\n",
        "k_fold = model_selection.KFold(n_splits=10, shuffle=True, random_state=8)\n",
        "accuracies = []\n",
        "for train, val in k_fold.split(train_tfidf):\n",
        "  dev_X, val_X = train_tfidf[train], train_tfidf[val]\n",
        "  dev_y, val_y = train_y[train], train_y[val]\n",
        "  final_pred, final_accuracy, classifier = classify(['RandomForest'],dev_X, val_X, dev_y, val_y)\n",
        "  accuracies.append(final_accuracy)\n",
        "\n"
      ],
      "execution_count": null,
      "outputs": [
        {
          "output_type": "stream",
          "text": [
            "Evaluation started for  RandomForest\n",
            "Average accuracy of RandomForest is 76.25%\n",
            "Classifier with highest accuracy is RandomForest\n",
            "[[400  30]\n",
            " [151 181]]\n",
            "Evaluation started for  RandomForest\n",
            "Average accuracy of RandomForest is 75.33%\n",
            "Classifier with highest accuracy is RandomForest\n",
            "[[407  25]\n",
            " [163 167]]\n",
            "Evaluation started for  RandomForest\n",
            "Average accuracy of RandomForest is 77.82%\n",
            "Classifier with highest accuracy is RandomForest\n",
            "[[407  24]\n",
            " [145 186]]\n",
            "Evaluation started for  RandomForest\n",
            "Average accuracy of RandomForest is 78.98%\n",
            "Classifier with highest accuracy is RandomForest\n",
            "[[433  18]\n",
            " [142 168]]\n",
            "Evaluation started for  RandomForest\n",
            "Average accuracy of RandomForest is 73.72%\n",
            "Classifier with highest accuracy is RandomForest\n",
            "[[408  28]\n",
            " [172 153]]\n",
            "Evaluation started for  RandomForest\n",
            "Average accuracy of RandomForest is 77.79%\n",
            "Classifier with highest accuracy is RandomForest\n",
            "[[440  15]\n",
            " [154 152]]\n",
            "Evaluation started for  RandomForest\n",
            "Average accuracy of RandomForest is 77.27%\n",
            "Classifier with highest accuracy is RandomForest\n",
            "[[406  29]\n",
            " [144 182]]\n",
            "Evaluation started for  RandomForest\n",
            "Average accuracy of RandomForest is 74.77%\n",
            "Classifier with highest accuracy is RandomForest\n",
            "[[378  24]\n",
            " [168 191]]\n",
            "Evaluation started for  RandomForest\n",
            "Average accuracy of RandomForest is 78.19%\n",
            "Classifier with highest accuracy is RandomForest\n",
            "[[430  19]\n",
            " [147 165]]\n",
            "Evaluation started for  RandomForest\n",
            "Average accuracy of RandomForest is 75.95%\n",
            "Classifier with highest accuracy is RandomForest\n",
            "[[404  29]\n",
            " [154 174]]\n"
          ],
          "name": "stdout"
        }
      ]
    },
    {
      "cell_type": "code",
      "metadata": {
        "id": "80N7hwdNeaS2",
        "colab_type": "code",
        "colab": {
          "base_uri": "https://localhost:8080/",
          "height": 34
        },
        "outputId": "30df5a31-f6dc-474c-f301-607421f1c434"
      },
      "source": [
        "print(np.mean(accuracies))"
      ],
      "execution_count": null,
      "outputs": [
        {
          "output_type": "stream",
          "text": [
            "76.6058611924495\n"
          ],
          "name": "stdout"
        }
      ]
    },
    {
      "cell_type": "markdown",
      "metadata": {
        "id": "meXelvPjvJWg",
        "colab_type": "text"
      },
      "source": [
        "Classifier with the highest frequency is KNN and Random Forest."
      ]
    },
    {
      "cell_type": "code",
      "metadata": {
        "id": "7RDiK6SIvzAD",
        "colab_type": "code",
        "colab": {}
      },
      "source": [
        "# LogisticRegression\n",
        "final_classifier = LogisticRegression(C =100, penalty ='l1', solver= 'saga')\n",
        "final_classifier.fit(X_train,y_train)\n",
        "final_pred = final_classifier.predict(test_tfidf)\n",
        "sub_df['target'] = final_pred\n"
      ],
      "execution_count": null,
      "outputs": []
    },
    {
      "cell_type": "code",
      "metadata": {
        "id": "1Hd_JXVWEwmS",
        "colab_type": "code",
        "colab": {}
      },
      "source": [
        "\n",
        "# KNN\n",
        "final_knn_classifier = KNeighborsClassifier(leaf_size= 30, metric= 'minkowski', n_neighbors= 43)\n",
        "final_knn_classifier.fit(X_train,y_train)\n",
        "final_knn_pred = final_knn_classifier.predict(test_tfidf)\n",
        "sub_df['target'] = final_knn_pred\n"
      ],
      "execution_count": null,
      "outputs": []
    },
    {
      "cell_type": "code",
      "metadata": {
        "id": "jGUkF9Pcjqc3",
        "colab_type": "code",
        "colab": {}
      },
      "source": [
        "# Random Forest\n",
        "from sklearn.ensemble import RandomForestClassifier\n",
        "\n",
        "final_rf_classifier = RandomForestClassifier(n_estimators = 150, criterion = 'entropy', random_state = 8)\n",
        "final_rf_classifier.fit(X_train,y_train)\n",
        "final_rf_pred = final_rf_classifier.predict(test_tfidf)\n",
        "sub_df['target'] = final_rf_pred\n"
      ],
      "execution_count": null,
      "outputs": []
    },
    {
      "cell_type": "code",
      "metadata": {
        "id": "-UwuoShcFzD1",
        "colab_type": "code",
        "colab": {
          "base_uri": "https://localhost:8080/",
          "height": 158
        },
        "outputId": "d82bda55-e737-4480-f1fb-80cdc9b17986"
      },
      "source": [
        "# XGB\n",
        "\n",
        "final_xgb_classifier = XGBClassifier(base_score=0.5, booster='gbtree', colsample_bylevel=1,\n",
        "              colsample_bynode=1, colsample_bytree=0.8, gamma=1.5,\n",
        "              learning_rate=0.02, max_delta_step=0, max_depth=5,\n",
        "              min_child_weight=1, missing=None, n_estimators=600, n_jobs=1,\n",
        "              nthread=1, objective='binary:logistic', random_state=0,\n",
        "              reg_alpha=0, reg_lambda=1, scale_pos_weight=1, seed=None,\n",
        "              silent=True, subsample=0.6, verbosity=1)\n",
        "\n",
        "final_xgb_classifier.fit(X_train,y_train)\n",
        "final_xgb_pred = final_xgb_classifier.predict(test_tfidf)\n",
        "sub_df['target'] = final_xgb_pred"
      ],
      "execution_count": null,
      "outputs": [
        {
          "output_type": "stream",
          "text": [
            "/usr/local/lib/python3.6/dist-packages/xgboost/sklearn.py:242: DeprecationWarning:\n",
            "\n",
            "The nthread parameter is deprecated as of version .6.Please use n_jobs instead.nthread is deprecated.\n",
            "\n",
            "/usr/local/lib/python3.6/dist-packages/xgboost/sklearn.py:249: DeprecationWarning:\n",
            "\n",
            "The silent parameter is deprecated.Please use verbosity instead.silent is depreated\n",
            "\n"
          ],
          "name": "stderr"
        }
      ]
    },
    {
      "cell_type": "code",
      "metadata": {
        "id": "LnGMZRj9v8sQ",
        "colab_type": "code",
        "colab": {}
      },
      "source": [
        "import csv\n",
        "sub_df.to_csv('submission_rf.csv')"
      ],
      "execution_count": null,
      "outputs": []
    },
    {
      "cell_type": "code",
      "metadata": {
        "id": "5WTjjEV-wPCg",
        "colab_type": "code",
        "colab": {}
      },
      "source": [
        ""
      ],
      "execution_count": null,
      "outputs": []
    }
  ]
}